{
  "nbformat": 4,
  "nbformat_minor": 0,
  "metadata": {
    "colab": {
      "provenance": [],
      "toc_visible": true,
      "gpuType": "T4",
      "authorship_tag": "ABX9TyOpDTOSDB7L/xf3XCptcrJ8",
      "include_colab_link": true
    },
    "kernelspec": {
      "name": "python3",
      "display_name": "Python 3"
    },
    "language_info": {
      "name": "python"
    },
    "accelerator": "GPU"
  },
  "cells": [
    {
      "cell_type": "markdown",
      "metadata": {
        "id": "view-in-github",
        "colab_type": "text"
      },
      "source": [
        "<a href=\"https://colab.research.google.com/github/aimldlnlp/heart-disease-classification-with-kan/blob/main/heart_disease_classification_with_kan.ipynb\" target=\"_parent\"><img src=\"https://colab.research.google.com/assets/colab-badge.svg\" alt=\"Open In Colab\"/></a>"
      ]
    },
    {
      "cell_type": "markdown",
      "source": [
        "### Setup"
      ],
      "metadata": {
        "id": "bcfiHc15NCsX"
      }
    },
    {
      "cell_type": "code",
      "execution_count": 1,
      "metadata": {
        "colab": {
          "base_uri": "https://localhost:8080/"
        },
        "collapsed": true,
        "id": "WIlstXrm-Fsw",
        "outputId": "00cb2cf1-11d1-40c4-afab-0f80d0a1cc03"
      },
      "outputs": [
        {
          "output_type": "stream",
          "name": "stdout",
          "text": [
            "Collecting imodelsx\n",
            "  Downloading imodelsx-1.0.8-py3-none-any.whl.metadata (14 kB)\n",
            "Collecting datasets (from imodelsx)\n",
            "  Downloading datasets-3.2.0-py3-none-any.whl.metadata (20 kB)\n",
            "Collecting dict-hash (from imodelsx)\n",
            "  Downloading dict_hash-1.3.6.tar.gz (12 kB)\n",
            "  Preparing metadata (setup.py) ... \u001b[?25l\u001b[?25hdone\n",
            "Collecting imodels (from imodelsx)\n",
            "  Downloading imodels-2.0.0-py3-none-any.whl.metadata (30 kB)\n",
            "Requirement already satisfied: langchain in /usr/local/lib/python3.10/dist-packages (from imodelsx) (0.3.14)\n",
            "Requirement already satisfied: numpy in /usr/local/lib/python3.10/dist-packages (from imodelsx) (1.26.4)\n",
            "Requirement already satisfied: pandas in /usr/local/lib/python3.10/dist-packages (from imodelsx) (2.2.2)\n",
            "Requirement already satisfied: scikit-learn>=1.2.0 in /usr/local/lib/python3.10/dist-packages (from imodelsx) (1.6.0)\n",
            "Requirement already satisfied: scipy in /usr/local/lib/python3.10/dist-packages (from imodelsx) (1.13.1)\n",
            "Requirement already satisfied: spacy in /usr/local/lib/python3.10/dist-packages (from imodelsx) (3.7.5)\n",
            "Requirement already satisfied: torch in /usr/local/lib/python3.10/dist-packages (from imodelsx) (2.5.1+cu121)\n",
            "Requirement already satisfied: tqdm in /usr/local/lib/python3.10/dist-packages (from imodelsx) (4.67.1)\n",
            "Requirement already satisfied: transformers>=4.23.1 in /usr/local/lib/python3.10/dist-packages (from transformers[torch]>=4.23.1->imodelsx) (4.47.1)\n",
            "Requirement already satisfied: joblib>=1.2.0 in /usr/local/lib/python3.10/dist-packages (from scikit-learn>=1.2.0->imodelsx) (1.4.2)\n",
            "Requirement already satisfied: threadpoolctl>=3.1.0 in /usr/local/lib/python3.10/dist-packages (from scikit-learn>=1.2.0->imodelsx) (3.5.0)\n",
            "Requirement already satisfied: filelock in /usr/local/lib/python3.10/dist-packages (from transformers>=4.23.1->transformers[torch]>=4.23.1->imodelsx) (3.16.1)\n",
            "Requirement already satisfied: huggingface-hub<1.0,>=0.24.0 in /usr/local/lib/python3.10/dist-packages (from transformers>=4.23.1->transformers[torch]>=4.23.1->imodelsx) (0.27.1)\n",
            "Requirement already satisfied: packaging>=20.0 in /usr/local/lib/python3.10/dist-packages (from transformers>=4.23.1->transformers[torch]>=4.23.1->imodelsx) (24.2)\n",
            "Requirement already satisfied: pyyaml>=5.1 in /usr/local/lib/python3.10/dist-packages (from transformers>=4.23.1->transformers[torch]>=4.23.1->imodelsx) (6.0.2)\n",
            "Requirement already satisfied: regex!=2019.12.17 in /usr/local/lib/python3.10/dist-packages (from transformers>=4.23.1->transformers[torch]>=4.23.1->imodelsx) (2024.11.6)\n",
            "Requirement already satisfied: requests in /usr/local/lib/python3.10/dist-packages (from transformers>=4.23.1->transformers[torch]>=4.23.1->imodelsx) (2.32.3)\n",
            "Requirement already satisfied: tokenizers<0.22,>=0.21 in /usr/local/lib/python3.10/dist-packages (from transformers>=4.23.1->transformers[torch]>=4.23.1->imodelsx) (0.21.0)\n",
            "Requirement already satisfied: safetensors>=0.4.1 in /usr/local/lib/python3.10/dist-packages (from transformers>=4.23.1->transformers[torch]>=4.23.1->imodelsx) (0.5.0)\n",
            "Requirement already satisfied: accelerate>=0.26.0 in /usr/local/lib/python3.10/dist-packages (from transformers[torch]>=4.23.1->imodelsx) (1.2.1)\n",
            "Requirement already satisfied: pyarrow>=15.0.0 in /usr/local/lib/python3.10/dist-packages (from datasets->imodelsx) (17.0.0)\n",
            "Collecting dill<0.3.9,>=0.3.0 (from datasets->imodelsx)\n",
            "  Downloading dill-0.3.8-py3-none-any.whl.metadata (10 kB)\n",
            "Collecting xxhash (from datasets->imodelsx)\n",
            "  Downloading xxhash-3.5.0-cp310-cp310-manylinux_2_17_x86_64.manylinux2014_x86_64.whl.metadata (12 kB)\n",
            "Collecting multiprocess<0.70.17 (from datasets->imodelsx)\n",
            "  Downloading multiprocess-0.70.16-py310-none-any.whl.metadata (7.2 kB)\n",
            "Collecting fsspec<=2024.9.0,>=2023.1.0 (from fsspec[http]<=2024.9.0,>=2023.1.0->datasets->imodelsx)\n",
            "  Downloading fsspec-2024.9.0-py3-none-any.whl.metadata (11 kB)\n",
            "Requirement already satisfied: aiohttp in /usr/local/lib/python3.10/dist-packages (from datasets->imodelsx) (3.11.11)\n",
            "Collecting deflate_dict>=1.2.2 (from dict-hash->imodelsx)\n",
            "  Downloading deflate_dict-1.2.2.tar.gz (6.9 kB)\n",
            "  Preparing metadata (setup.py) ... \u001b[?25l\u001b[?25hdone\n",
            "Requirement already satisfied: matplotlib in /usr/local/lib/python3.10/dist-packages (from imodels->imodelsx) (3.10.0)\n",
            "Requirement already satisfied: mlxtend>=0.18.0 in /usr/local/lib/python3.10/dist-packages (from imodels->imodelsx) (0.23.3)\n",
            "Requirement already satisfied: SQLAlchemy<3,>=1.4 in /usr/local/lib/python3.10/dist-packages (from langchain->imodelsx) (2.0.36)\n",
            "Requirement already satisfied: async-timeout<5.0.0,>=4.0.0 in /usr/local/lib/python3.10/dist-packages (from langchain->imodelsx) (4.0.3)\n",
            "Requirement already satisfied: langchain-core<0.4.0,>=0.3.29 in /usr/local/lib/python3.10/dist-packages (from langchain->imodelsx) (0.3.29)\n",
            "Requirement already satisfied: langchain-text-splitters<0.4.0,>=0.3.3 in /usr/local/lib/python3.10/dist-packages (from langchain->imodelsx) (0.3.4)\n",
            "Requirement already satisfied: langsmith<0.3,>=0.1.17 in /usr/local/lib/python3.10/dist-packages (from langchain->imodelsx) (0.2.10)\n",
            "Requirement already satisfied: pydantic<3.0.0,>=2.7.4 in /usr/local/lib/python3.10/dist-packages (from langchain->imodelsx) (2.10.4)\n",
            "Requirement already satisfied: tenacity!=8.4.0,<10,>=8.1.0 in /usr/local/lib/python3.10/dist-packages (from langchain->imodelsx) (9.0.0)\n",
            "Requirement already satisfied: python-dateutil>=2.8.2 in /usr/local/lib/python3.10/dist-packages (from pandas->imodelsx) (2.8.2)\n",
            "Requirement already satisfied: pytz>=2020.1 in /usr/local/lib/python3.10/dist-packages (from pandas->imodelsx) (2024.2)\n",
            "Requirement already satisfied: tzdata>=2022.7 in /usr/local/lib/python3.10/dist-packages (from pandas->imodelsx) (2024.2)\n",
            "Requirement already satisfied: spacy-legacy<3.1.0,>=3.0.11 in /usr/local/lib/python3.10/dist-packages (from spacy->imodelsx) (3.0.12)\n",
            "Requirement already satisfied: spacy-loggers<2.0.0,>=1.0.0 in /usr/local/lib/python3.10/dist-packages (from spacy->imodelsx) (1.0.5)\n",
            "Requirement already satisfied: murmurhash<1.1.0,>=0.28.0 in /usr/local/lib/python3.10/dist-packages (from spacy->imodelsx) (1.0.11)\n",
            "Requirement already satisfied: cymem<2.1.0,>=2.0.2 in /usr/local/lib/python3.10/dist-packages (from spacy->imodelsx) (2.0.10)\n",
            "Requirement already satisfied: preshed<3.1.0,>=3.0.2 in /usr/local/lib/python3.10/dist-packages (from spacy->imodelsx) (3.0.9)\n",
            "Requirement already satisfied: thinc<8.3.0,>=8.2.2 in /usr/local/lib/python3.10/dist-packages (from spacy->imodelsx) (8.2.5)\n",
            "Requirement already satisfied: wasabi<1.2.0,>=0.9.1 in /usr/local/lib/python3.10/dist-packages (from spacy->imodelsx) (1.1.3)\n",
            "Requirement already satisfied: srsly<3.0.0,>=2.4.3 in /usr/local/lib/python3.10/dist-packages (from spacy->imodelsx) (2.5.0)\n",
            "Requirement already satisfied: catalogue<2.1.0,>=2.0.6 in /usr/local/lib/python3.10/dist-packages (from spacy->imodelsx) (2.0.10)\n",
            "Requirement already satisfied: weasel<0.5.0,>=0.1.0 in /usr/local/lib/python3.10/dist-packages (from spacy->imodelsx) (0.4.1)\n",
            "Requirement already satisfied: typer<1.0.0,>=0.3.0 in /usr/local/lib/python3.10/dist-packages (from spacy->imodelsx) (0.15.1)\n",
            "Requirement already satisfied: jinja2 in /usr/local/lib/python3.10/dist-packages (from spacy->imodelsx) (3.1.5)\n",
            "Requirement already satisfied: setuptools in /usr/local/lib/python3.10/dist-packages (from spacy->imodelsx) (75.1.0)\n",
            "Requirement already satisfied: langcodes<4.0.0,>=3.2.0 in /usr/local/lib/python3.10/dist-packages (from spacy->imodelsx) (3.5.0)\n",
            "Requirement already satisfied: typing-extensions>=4.8.0 in /usr/local/lib/python3.10/dist-packages (from torch->imodelsx) (4.12.2)\n",
            "Requirement already satisfied: networkx in /usr/local/lib/python3.10/dist-packages (from torch->imodelsx) (3.4.2)\n",
            "Requirement already satisfied: sympy==1.13.1 in /usr/local/lib/python3.10/dist-packages (from torch->imodelsx) (1.13.1)\n",
            "Requirement already satisfied: mpmath<1.4,>=1.1.0 in /usr/local/lib/python3.10/dist-packages (from sympy==1.13.1->torch->imodelsx) (1.3.0)\n",
            "Requirement already satisfied: psutil in /usr/local/lib/python3.10/dist-packages (from accelerate>=0.26.0->transformers[torch]>=4.23.1->imodelsx) (5.9.5)\n",
            "Requirement already satisfied: aiohappyeyeballs>=2.3.0 in /usr/local/lib/python3.10/dist-packages (from aiohttp->datasets->imodelsx) (2.4.4)\n",
            "Requirement already satisfied: aiosignal>=1.1.2 in /usr/local/lib/python3.10/dist-packages (from aiohttp->datasets->imodelsx) (1.3.2)\n",
            "Requirement already satisfied: attrs>=17.3.0 in /usr/local/lib/python3.10/dist-packages (from aiohttp->datasets->imodelsx) (24.3.0)\n",
            "Requirement already satisfied: frozenlist>=1.1.1 in /usr/local/lib/python3.10/dist-packages (from aiohttp->datasets->imodelsx) (1.5.0)\n",
            "Requirement already satisfied: multidict<7.0,>=4.5 in /usr/local/lib/python3.10/dist-packages (from aiohttp->datasets->imodelsx) (6.1.0)\n",
            "Requirement already satisfied: propcache>=0.2.0 in /usr/local/lib/python3.10/dist-packages (from aiohttp->datasets->imodelsx) (0.2.1)\n",
            "Requirement already satisfied: yarl<2.0,>=1.17.0 in /usr/local/lib/python3.10/dist-packages (from aiohttp->datasets->imodelsx) (1.18.3)\n",
            "Requirement already satisfied: jsonpatch<2.0,>=1.33 in /usr/local/lib/python3.10/dist-packages (from langchain-core<0.4.0,>=0.3.29->langchain->imodelsx) (1.33)\n",
            "Requirement already satisfied: language-data>=1.2 in /usr/local/lib/python3.10/dist-packages (from langcodes<4.0.0,>=3.2.0->spacy->imodelsx) (1.3.0)\n",
            "Requirement already satisfied: httpx<1,>=0.23.0 in /usr/local/lib/python3.10/dist-packages (from langsmith<0.3,>=0.1.17->langchain->imodelsx) (0.28.1)\n",
            "Requirement already satisfied: orjson<4.0.0,>=3.9.14 in /usr/local/lib/python3.10/dist-packages (from langsmith<0.3,>=0.1.17->langchain->imodelsx) (3.10.13)\n",
            "Requirement already satisfied: requests-toolbelt<2.0.0,>=1.0.0 in /usr/local/lib/python3.10/dist-packages (from langsmith<0.3,>=0.1.17->langchain->imodelsx) (1.0.0)\n",
            "Requirement already satisfied: contourpy>=1.0.1 in /usr/local/lib/python3.10/dist-packages (from matplotlib->imodels->imodelsx) (1.3.1)\n",
            "Requirement already satisfied: cycler>=0.10 in /usr/local/lib/python3.10/dist-packages (from matplotlib->imodels->imodelsx) (0.12.1)\n",
            "Requirement already satisfied: fonttools>=4.22.0 in /usr/local/lib/python3.10/dist-packages (from matplotlib->imodels->imodelsx) (4.55.3)\n",
            "Requirement already satisfied: kiwisolver>=1.3.1 in /usr/local/lib/python3.10/dist-packages (from matplotlib->imodels->imodelsx) (1.4.8)\n",
            "Requirement already satisfied: pillow>=8 in /usr/local/lib/python3.10/dist-packages (from matplotlib->imodels->imodelsx) (11.1.0)\n",
            "Requirement already satisfied: pyparsing>=2.3.1 in /usr/local/lib/python3.10/dist-packages (from matplotlib->imodels->imodelsx) (3.2.1)\n",
            "Requirement already satisfied: annotated-types>=0.6.0 in /usr/local/lib/python3.10/dist-packages (from pydantic<3.0.0,>=2.7.4->langchain->imodelsx) (0.7.0)\n",
            "Requirement already satisfied: pydantic-core==2.27.2 in /usr/local/lib/python3.10/dist-packages (from pydantic<3.0.0,>=2.7.4->langchain->imodelsx) (2.27.2)\n",
            "Requirement already satisfied: six>=1.5 in /usr/local/lib/python3.10/dist-packages (from python-dateutil>=2.8.2->pandas->imodelsx) (1.17.0)\n",
            "Requirement already satisfied: charset-normalizer<4,>=2 in /usr/local/lib/python3.10/dist-packages (from requests->transformers>=4.23.1->transformers[torch]>=4.23.1->imodelsx) (3.4.1)\n",
            "Requirement already satisfied: idna<4,>=2.5 in /usr/local/lib/python3.10/dist-packages (from requests->transformers>=4.23.1->transformers[torch]>=4.23.1->imodelsx) (3.10)\n",
            "Requirement already satisfied: urllib3<3,>=1.21.1 in /usr/local/lib/python3.10/dist-packages (from requests->transformers>=4.23.1->transformers[torch]>=4.23.1->imodelsx) (2.3.0)\n",
            "Requirement already satisfied: certifi>=2017.4.17 in /usr/local/lib/python3.10/dist-packages (from requests->transformers>=4.23.1->transformers[torch]>=4.23.1->imodelsx) (2024.12.14)\n",
            "Requirement already satisfied: greenlet!=0.4.17 in /usr/local/lib/python3.10/dist-packages (from SQLAlchemy<3,>=1.4->langchain->imodelsx) (3.1.1)\n",
            "Requirement already satisfied: blis<0.8.0,>=0.7.8 in /usr/local/lib/python3.10/dist-packages (from thinc<8.3.0,>=8.2.2->spacy->imodelsx) (0.7.11)\n",
            "Requirement already satisfied: confection<1.0.0,>=0.0.1 in /usr/local/lib/python3.10/dist-packages (from thinc<8.3.0,>=8.2.2->spacy->imodelsx) (0.1.5)\n",
            "Requirement already satisfied: click>=8.0.0 in /usr/local/lib/python3.10/dist-packages (from typer<1.0.0,>=0.3.0->spacy->imodelsx) (8.1.8)\n",
            "Requirement already satisfied: shellingham>=1.3.0 in /usr/local/lib/python3.10/dist-packages (from typer<1.0.0,>=0.3.0->spacy->imodelsx) (1.5.4)\n",
            "Requirement already satisfied: rich>=10.11.0 in /usr/local/lib/python3.10/dist-packages (from typer<1.0.0,>=0.3.0->spacy->imodelsx) (13.9.4)\n",
            "Requirement already satisfied: cloudpathlib<1.0.0,>=0.7.0 in /usr/local/lib/python3.10/dist-packages (from weasel<0.5.0,>=0.1.0->spacy->imodelsx) (0.20.0)\n",
            "Requirement already satisfied: smart-open<8.0.0,>=5.2.1 in /usr/local/lib/python3.10/dist-packages (from weasel<0.5.0,>=0.1.0->spacy->imodelsx) (7.1.0)\n",
            "Requirement already satisfied: MarkupSafe>=2.0 in /usr/local/lib/python3.10/dist-packages (from jinja2->spacy->imodelsx) (3.0.2)\n",
            "Requirement already satisfied: anyio in /usr/local/lib/python3.10/dist-packages (from httpx<1,>=0.23.0->langsmith<0.3,>=0.1.17->langchain->imodelsx) (3.7.1)\n",
            "Requirement already satisfied: httpcore==1.* in /usr/local/lib/python3.10/dist-packages (from httpx<1,>=0.23.0->langsmith<0.3,>=0.1.17->langchain->imodelsx) (1.0.7)\n",
            "Requirement already satisfied: h11<0.15,>=0.13 in /usr/local/lib/python3.10/dist-packages (from httpcore==1.*->httpx<1,>=0.23.0->langsmith<0.3,>=0.1.17->langchain->imodelsx) (0.14.0)\n",
            "Requirement already satisfied: jsonpointer>=1.9 in /usr/local/lib/python3.10/dist-packages (from jsonpatch<2.0,>=1.33->langchain-core<0.4.0,>=0.3.29->langchain->imodelsx) (3.0.0)\n",
            "Requirement already satisfied: marisa-trie>=1.1.0 in /usr/local/lib/python3.10/dist-packages (from language-data>=1.2->langcodes<4.0.0,>=3.2.0->spacy->imodelsx) (1.2.1)\n",
            "Requirement already satisfied: markdown-it-py>=2.2.0 in /usr/local/lib/python3.10/dist-packages (from rich>=10.11.0->typer<1.0.0,>=0.3.0->spacy->imodelsx) (3.0.0)\n",
            "Requirement already satisfied: pygments<3.0.0,>=2.13.0 in /usr/local/lib/python3.10/dist-packages (from rich>=10.11.0->typer<1.0.0,>=0.3.0->spacy->imodelsx) (2.18.0)\n",
            "Requirement already satisfied: wrapt in /usr/local/lib/python3.10/dist-packages (from smart-open<8.0.0,>=5.2.1->weasel<0.5.0,>=0.1.0->spacy->imodelsx) (1.17.0)\n",
            "Requirement already satisfied: mdurl~=0.1 in /usr/local/lib/python3.10/dist-packages (from markdown-it-py>=2.2.0->rich>=10.11.0->typer<1.0.0,>=0.3.0->spacy->imodelsx) (0.1.2)\n",
            "Requirement already satisfied: sniffio>=1.1 in /usr/local/lib/python3.10/dist-packages (from anyio->httpx<1,>=0.23.0->langsmith<0.3,>=0.1.17->langchain->imodelsx) (1.3.1)\n",
            "Requirement already satisfied: exceptiongroup in /usr/local/lib/python3.10/dist-packages (from anyio->httpx<1,>=0.23.0->langsmith<0.3,>=0.1.17->langchain->imodelsx) (1.2.2)\n",
            "Downloading imodelsx-1.0.8-py3-none-any.whl (115 kB)\n",
            "\u001b[2K   \u001b[90m━━━━━━━━━━━━━━━━━━━━━━━━━━━━━━━━━━━━━━━━\u001b[0m \u001b[32m115.5/115.5 kB\u001b[0m \u001b[31m2.4 MB/s\u001b[0m eta \u001b[36m0:00:00\u001b[0m\n",
            "\u001b[?25hDownloading datasets-3.2.0-py3-none-any.whl (480 kB)\n",
            "\u001b[2K   \u001b[90m━━━━━━━━━━━━━━━━━━━━━━━━━━━━━━━━━━━━━━━━\u001b[0m \u001b[32m480.6/480.6 kB\u001b[0m \u001b[31m8.1 MB/s\u001b[0m eta \u001b[36m0:00:00\u001b[0m\n",
            "\u001b[?25hDownloading imodels-2.0.0-py3-none-any.whl (243 kB)\n",
            "\u001b[2K   \u001b[90m━━━━━━━━━━━━━━━━━━━━━━━━━━━━━━━━━━━━━━━━\u001b[0m \u001b[32m243.1/243.1 kB\u001b[0m \u001b[31m11.2 MB/s\u001b[0m eta \u001b[36m0:00:00\u001b[0m\n",
            "\u001b[?25hDownloading dill-0.3.8-py3-none-any.whl (116 kB)\n",
            "\u001b[2K   \u001b[90m━━━━━━━━━━━━━━━━━━━━━━━━━━━━━━━━━━━━━━━━\u001b[0m \u001b[32m116.3/116.3 kB\u001b[0m \u001b[31m7.1 MB/s\u001b[0m eta \u001b[36m0:00:00\u001b[0m\n",
            "\u001b[?25hDownloading fsspec-2024.9.0-py3-none-any.whl (179 kB)\n",
            "\u001b[2K   \u001b[90m━━━━━━━━━━━━━━━━━━━━━━━━━━━━━━━━━━━━━━━━\u001b[0m \u001b[32m179.3/179.3 kB\u001b[0m \u001b[31m14.3 MB/s\u001b[0m eta \u001b[36m0:00:00\u001b[0m\n",
            "\u001b[?25hDownloading multiprocess-0.70.16-py310-none-any.whl (134 kB)\n",
            "\u001b[2K   \u001b[90m━━━━━━━━━━━━━━━━━━━━━━━━━━━━━━━━━━━━━━━━\u001b[0m \u001b[32m134.8/134.8 kB\u001b[0m \u001b[31m11.0 MB/s\u001b[0m eta \u001b[36m0:00:00\u001b[0m\n",
            "\u001b[?25hDownloading xxhash-3.5.0-cp310-cp310-manylinux_2_17_x86_64.manylinux2014_x86_64.whl (194 kB)\n",
            "\u001b[2K   \u001b[90m━━━━━━━━━━━━━━━━━━━━━━━━━━━━━━━━━━━━━━━━\u001b[0m \u001b[32m194.1/194.1 kB\u001b[0m \u001b[31m10.7 MB/s\u001b[0m eta \u001b[36m0:00:00\u001b[0m\n",
            "\u001b[?25hBuilding wheels for collected packages: dict-hash, deflate_dict\n",
            "  Building wheel for dict-hash (setup.py) ... \u001b[?25l\u001b[?25hdone\n",
            "  Created wheel for dict-hash: filename=dict_hash-1.3.6-py3-none-any.whl size=11006 sha256=fb4390de734f2c537542d518c1cd25b9adc67c75de3f9260a30fcd1926d1a27c\n",
            "  Stored in directory: /root/.cache/pip/wheels/50/52/8a/2f937416e8871f2fa3ecbb59ae7cbdce303fdf84c4e19e7044\n",
            "  Building wheel for deflate_dict (setup.py) ... \u001b[?25l\u001b[?25hdone\n",
            "  Created wheel for deflate_dict: filename=deflate_dict-1.2.2-py3-none-any.whl size=7954 sha256=f66e8256fdbc0924fdf08436be77745eec579ed0591d78b1374148905db7e9c4\n",
            "  Stored in directory: /root/.cache/pip/wheels/20/83/0b/20934aa92193f54599191e249fabddabed2831c47655f73ae5\n",
            "Successfully built dict-hash deflate_dict\n",
            "Installing collected packages: deflate_dict, xxhash, fsspec, dill, dict-hash, multiprocess, imodels, datasets, imodelsx\n",
            "  Attempting uninstall: fsspec\n",
            "    Found existing installation: fsspec 2024.10.0\n",
            "    Uninstalling fsspec-2024.10.0:\n",
            "      Successfully uninstalled fsspec-2024.10.0\n",
            "\u001b[31mERROR: pip's dependency resolver does not currently take into account all the packages that are installed. This behaviour is the source of the following dependency conflicts.\n",
            "gcsfs 2024.10.0 requires fsspec==2024.10.0, but you have fsspec 2024.9.0 which is incompatible.\u001b[0m\u001b[31m\n",
            "\u001b[0mSuccessfully installed datasets-3.2.0 deflate_dict-1.2.2 dict-hash-1.3.6 dill-0.3.8 fsspec-2024.9.0 imodels-2.0.0 imodelsx-1.0.8 multiprocess-0.70.16 xxhash-3.5.0\n"
          ]
        }
      ],
      "source": [
        "!pip install imodelsx"
      ]
    },
    {
      "cell_type": "code",
      "source": [
        "\n",
        "import pandas as pd\n",
        "import numpy as np\n",
        "import matplotlib.pyplot as plt\n",
        "import seaborn as sns\n",
        "import warnings\n",
        "warnings.filterwarnings('ignore')\n",
        "from imodelsx import KANClassifier\n",
        "from mpl_toolkits.axes_grid1 import make_axes_locatable\n",
        "from sklearn.model_selection import cross_val_score\n",
        "from sklearn.metrics import accuracy_score, confusion_matrix, cohen_kappa_score, classification_report\n",
        "from sklearn.model_selection import train_test_split\n",
        "from sklearn.preprocessing import StandardScaler"
      ],
      "metadata": {
        "id": "E3bf-CkE-HlY",
        "outputId": "6764e5ba-734e-4c39-e785-d3eccbdc68df",
        "colab": {
          "base_uri": "https://localhost:8080/"
        }
      },
      "execution_count": 19,
      "outputs": [
        {
          "output_type": "stream",
          "name": "stderr",
          "text": [
            "/usr/local/lib/python3.10/dist-packages/ipykernel/ipkernel.py:283: DeprecationWarning: `should_run_async` will not call `transform_cell` automatically in the future. Please pass the result to `transformed_cell` argument and any exception that happen during thetransform in `preprocessing_exc_tuple` in IPython 7.17 and above.\n",
            "  and should_run_async(code)\n"
          ]
        }
      ]
    },
    {
      "cell_type": "code",
      "source": [
        "df = pd.read_csv(\"/content/heart_disease.csv\")"
      ],
      "metadata": {
        "id": "TAPXFKqMB6tG",
        "outputId": "b20ad5b2-dc0d-484f-b2b6-87148f8bda0a",
        "colab": {
          "base_uri": "https://localhost:8080/"
        }
      },
      "execution_count": 4,
      "outputs": [
        {
          "output_type": "stream",
          "name": "stderr",
          "text": [
            "/usr/local/lib/python3.10/dist-packages/ipykernel/ipkernel.py:283: DeprecationWarning: `should_run_async` will not call `transform_cell` automatically in the future. Please pass the result to `transformed_cell` argument and any exception that happen during thetransform in `preprocessing_exc_tuple` in IPython 7.17 and above.\n",
            "  and should_run_async(code)\n"
          ]
        }
      ]
    },
    {
      "cell_type": "code",
      "source": [
        "df.head()"
      ],
      "metadata": {
        "colab": {
          "base_uri": "https://localhost:8080/",
          "height": 280
        },
        "id": "GehwcJCrCmDq",
        "outputId": "9ed4b09d-11d6-4c84-c721-67c816586a86"
      },
      "execution_count": 5,
      "outputs": [
        {
          "output_type": "stream",
          "name": "stderr",
          "text": [
            "/usr/local/lib/python3.10/dist-packages/ipykernel/ipkernel.py:283: DeprecationWarning: `should_run_async` will not call `transform_cell` automatically in the future. Please pass the result to `transformed_cell` argument and any exception that happen during thetransform in `preprocessing_exc_tuple` in IPython 7.17 and above.\n",
            "  and should_run_async(code)\n"
          ]
        },
        {
          "output_type": "execute_result",
          "data": {
            "text/plain": [
              "   age  sex  chest pain type  resting bp s  cholesterol  fasting blood sugar  \\\n",
              "0   40    1                2           140          289                    0   \n",
              "1   49    0                3           160          180                    0   \n",
              "2   37    1                2           130          283                    0   \n",
              "3   48    0                4           138          214                    0   \n",
              "4   54    1                3           150          195                    0   \n",
              "\n",
              "   resting ecg  max heart rate  exercise angina  oldpeak  ST slope  target  \n",
              "0            0             172                0      0.0         1       0  \n",
              "1            0             156                0      1.0         2       1  \n",
              "2            1              98                0      0.0         1       0  \n",
              "3            0             108                1      1.5         2       1  \n",
              "4            0             122                0      0.0         1       0  "
            ],
            "text/html": [
              "\n",
              "  <div id=\"df-a2861462-b641-4c7f-aa96-9462a0d89653\" class=\"colab-df-container\">\n",
              "    <div>\n",
              "<style scoped>\n",
              "    .dataframe tbody tr th:only-of-type {\n",
              "        vertical-align: middle;\n",
              "    }\n",
              "\n",
              "    .dataframe tbody tr th {\n",
              "        vertical-align: top;\n",
              "    }\n",
              "\n",
              "    .dataframe thead th {\n",
              "        text-align: right;\n",
              "    }\n",
              "</style>\n",
              "<table border=\"1\" class=\"dataframe\">\n",
              "  <thead>\n",
              "    <tr style=\"text-align: right;\">\n",
              "      <th></th>\n",
              "      <th>age</th>\n",
              "      <th>sex</th>\n",
              "      <th>chest pain type</th>\n",
              "      <th>resting bp s</th>\n",
              "      <th>cholesterol</th>\n",
              "      <th>fasting blood sugar</th>\n",
              "      <th>resting ecg</th>\n",
              "      <th>max heart rate</th>\n",
              "      <th>exercise angina</th>\n",
              "      <th>oldpeak</th>\n",
              "      <th>ST slope</th>\n",
              "      <th>target</th>\n",
              "    </tr>\n",
              "  </thead>\n",
              "  <tbody>\n",
              "    <tr>\n",
              "      <th>0</th>\n",
              "      <td>40</td>\n",
              "      <td>1</td>\n",
              "      <td>2</td>\n",
              "      <td>140</td>\n",
              "      <td>289</td>\n",
              "      <td>0</td>\n",
              "      <td>0</td>\n",
              "      <td>172</td>\n",
              "      <td>0</td>\n",
              "      <td>0.0</td>\n",
              "      <td>1</td>\n",
              "      <td>0</td>\n",
              "    </tr>\n",
              "    <tr>\n",
              "      <th>1</th>\n",
              "      <td>49</td>\n",
              "      <td>0</td>\n",
              "      <td>3</td>\n",
              "      <td>160</td>\n",
              "      <td>180</td>\n",
              "      <td>0</td>\n",
              "      <td>0</td>\n",
              "      <td>156</td>\n",
              "      <td>0</td>\n",
              "      <td>1.0</td>\n",
              "      <td>2</td>\n",
              "      <td>1</td>\n",
              "    </tr>\n",
              "    <tr>\n",
              "      <th>2</th>\n",
              "      <td>37</td>\n",
              "      <td>1</td>\n",
              "      <td>2</td>\n",
              "      <td>130</td>\n",
              "      <td>283</td>\n",
              "      <td>0</td>\n",
              "      <td>1</td>\n",
              "      <td>98</td>\n",
              "      <td>0</td>\n",
              "      <td>0.0</td>\n",
              "      <td>1</td>\n",
              "      <td>0</td>\n",
              "    </tr>\n",
              "    <tr>\n",
              "      <th>3</th>\n",
              "      <td>48</td>\n",
              "      <td>0</td>\n",
              "      <td>4</td>\n",
              "      <td>138</td>\n",
              "      <td>214</td>\n",
              "      <td>0</td>\n",
              "      <td>0</td>\n",
              "      <td>108</td>\n",
              "      <td>1</td>\n",
              "      <td>1.5</td>\n",
              "      <td>2</td>\n",
              "      <td>1</td>\n",
              "    </tr>\n",
              "    <tr>\n",
              "      <th>4</th>\n",
              "      <td>54</td>\n",
              "      <td>1</td>\n",
              "      <td>3</td>\n",
              "      <td>150</td>\n",
              "      <td>195</td>\n",
              "      <td>0</td>\n",
              "      <td>0</td>\n",
              "      <td>122</td>\n",
              "      <td>0</td>\n",
              "      <td>0.0</td>\n",
              "      <td>1</td>\n",
              "      <td>0</td>\n",
              "    </tr>\n",
              "  </tbody>\n",
              "</table>\n",
              "</div>\n",
              "    <div class=\"colab-df-buttons\">\n",
              "\n",
              "  <div class=\"colab-df-container\">\n",
              "    <button class=\"colab-df-convert\" onclick=\"convertToInteractive('df-a2861462-b641-4c7f-aa96-9462a0d89653')\"\n",
              "            title=\"Convert this dataframe to an interactive table.\"\n",
              "            style=\"display:none;\">\n",
              "\n",
              "  <svg xmlns=\"http://www.w3.org/2000/svg\" height=\"24px\" viewBox=\"0 -960 960 960\">\n",
              "    <path d=\"M120-120v-720h720v720H120Zm60-500h600v-160H180v160Zm220 220h160v-160H400v160Zm0 220h160v-160H400v160ZM180-400h160v-160H180v160Zm440 0h160v-160H620v160ZM180-180h160v-160H180v160Zm440 0h160v-160H620v160Z\"/>\n",
              "  </svg>\n",
              "    </button>\n",
              "\n",
              "  <style>\n",
              "    .colab-df-container {\n",
              "      display:flex;\n",
              "      gap: 12px;\n",
              "    }\n",
              "\n",
              "    .colab-df-convert {\n",
              "      background-color: #E8F0FE;\n",
              "      border: none;\n",
              "      border-radius: 50%;\n",
              "      cursor: pointer;\n",
              "      display: none;\n",
              "      fill: #1967D2;\n",
              "      height: 32px;\n",
              "      padding: 0 0 0 0;\n",
              "      width: 32px;\n",
              "    }\n",
              "\n",
              "    .colab-df-convert:hover {\n",
              "      background-color: #E2EBFA;\n",
              "      box-shadow: 0px 1px 2px rgba(60, 64, 67, 0.3), 0px 1px 3px 1px rgba(60, 64, 67, 0.15);\n",
              "      fill: #174EA6;\n",
              "    }\n",
              "\n",
              "    .colab-df-buttons div {\n",
              "      margin-bottom: 4px;\n",
              "    }\n",
              "\n",
              "    [theme=dark] .colab-df-convert {\n",
              "      background-color: #3B4455;\n",
              "      fill: #D2E3FC;\n",
              "    }\n",
              "\n",
              "    [theme=dark] .colab-df-convert:hover {\n",
              "      background-color: #434B5C;\n",
              "      box-shadow: 0px 1px 3px 1px rgba(0, 0, 0, 0.15);\n",
              "      filter: drop-shadow(0px 1px 2px rgba(0, 0, 0, 0.3));\n",
              "      fill: #FFFFFF;\n",
              "    }\n",
              "  </style>\n",
              "\n",
              "    <script>\n",
              "      const buttonEl =\n",
              "        document.querySelector('#df-a2861462-b641-4c7f-aa96-9462a0d89653 button.colab-df-convert');\n",
              "      buttonEl.style.display =\n",
              "        google.colab.kernel.accessAllowed ? 'block' : 'none';\n",
              "\n",
              "      async function convertToInteractive(key) {\n",
              "        const element = document.querySelector('#df-a2861462-b641-4c7f-aa96-9462a0d89653');\n",
              "        const dataTable =\n",
              "          await google.colab.kernel.invokeFunction('convertToInteractive',\n",
              "                                                    [key], {});\n",
              "        if (!dataTable) return;\n",
              "\n",
              "        const docLinkHtml = 'Like what you see? Visit the ' +\n",
              "          '<a target=\"_blank\" href=https://colab.research.google.com/notebooks/data_table.ipynb>data table notebook</a>'\n",
              "          + ' to learn more about interactive tables.';\n",
              "        element.innerHTML = '';\n",
              "        dataTable['output_type'] = 'display_data';\n",
              "        await google.colab.output.renderOutput(dataTable, element);\n",
              "        const docLink = document.createElement('div');\n",
              "        docLink.innerHTML = docLinkHtml;\n",
              "        element.appendChild(docLink);\n",
              "      }\n",
              "    </script>\n",
              "  </div>\n",
              "\n",
              "\n",
              "<div id=\"df-70ea2b2b-db72-48a1-8198-23fd5ffe736a\">\n",
              "  <button class=\"colab-df-quickchart\" onclick=\"quickchart('df-70ea2b2b-db72-48a1-8198-23fd5ffe736a')\"\n",
              "            title=\"Suggest charts\"\n",
              "            style=\"display:none;\">\n",
              "\n",
              "<svg xmlns=\"http://www.w3.org/2000/svg\" height=\"24px\"viewBox=\"0 0 24 24\"\n",
              "     width=\"24px\">\n",
              "    <g>\n",
              "        <path d=\"M19 3H5c-1.1 0-2 .9-2 2v14c0 1.1.9 2 2 2h14c1.1 0 2-.9 2-2V5c0-1.1-.9-2-2-2zM9 17H7v-7h2v7zm4 0h-2V7h2v10zm4 0h-2v-4h2v4z\"/>\n",
              "    </g>\n",
              "</svg>\n",
              "  </button>\n",
              "\n",
              "<style>\n",
              "  .colab-df-quickchart {\n",
              "      --bg-color: #E8F0FE;\n",
              "      --fill-color: #1967D2;\n",
              "      --hover-bg-color: #E2EBFA;\n",
              "      --hover-fill-color: #174EA6;\n",
              "      --disabled-fill-color: #AAA;\n",
              "      --disabled-bg-color: #DDD;\n",
              "  }\n",
              "\n",
              "  [theme=dark] .colab-df-quickchart {\n",
              "      --bg-color: #3B4455;\n",
              "      --fill-color: #D2E3FC;\n",
              "      --hover-bg-color: #434B5C;\n",
              "      --hover-fill-color: #FFFFFF;\n",
              "      --disabled-bg-color: #3B4455;\n",
              "      --disabled-fill-color: #666;\n",
              "  }\n",
              "\n",
              "  .colab-df-quickchart {\n",
              "    background-color: var(--bg-color);\n",
              "    border: none;\n",
              "    border-radius: 50%;\n",
              "    cursor: pointer;\n",
              "    display: none;\n",
              "    fill: var(--fill-color);\n",
              "    height: 32px;\n",
              "    padding: 0;\n",
              "    width: 32px;\n",
              "  }\n",
              "\n",
              "  .colab-df-quickchart:hover {\n",
              "    background-color: var(--hover-bg-color);\n",
              "    box-shadow: 0 1px 2px rgba(60, 64, 67, 0.3), 0 1px 3px 1px rgba(60, 64, 67, 0.15);\n",
              "    fill: var(--button-hover-fill-color);\n",
              "  }\n",
              "\n",
              "  .colab-df-quickchart-complete:disabled,\n",
              "  .colab-df-quickchart-complete:disabled:hover {\n",
              "    background-color: var(--disabled-bg-color);\n",
              "    fill: var(--disabled-fill-color);\n",
              "    box-shadow: none;\n",
              "  }\n",
              "\n",
              "  .colab-df-spinner {\n",
              "    border: 2px solid var(--fill-color);\n",
              "    border-color: transparent;\n",
              "    border-bottom-color: var(--fill-color);\n",
              "    animation:\n",
              "      spin 1s steps(1) infinite;\n",
              "  }\n",
              "\n",
              "  @keyframes spin {\n",
              "    0% {\n",
              "      border-color: transparent;\n",
              "      border-bottom-color: var(--fill-color);\n",
              "      border-left-color: var(--fill-color);\n",
              "    }\n",
              "    20% {\n",
              "      border-color: transparent;\n",
              "      border-left-color: var(--fill-color);\n",
              "      border-top-color: var(--fill-color);\n",
              "    }\n",
              "    30% {\n",
              "      border-color: transparent;\n",
              "      border-left-color: var(--fill-color);\n",
              "      border-top-color: var(--fill-color);\n",
              "      border-right-color: var(--fill-color);\n",
              "    }\n",
              "    40% {\n",
              "      border-color: transparent;\n",
              "      border-right-color: var(--fill-color);\n",
              "      border-top-color: var(--fill-color);\n",
              "    }\n",
              "    60% {\n",
              "      border-color: transparent;\n",
              "      border-right-color: var(--fill-color);\n",
              "    }\n",
              "    80% {\n",
              "      border-color: transparent;\n",
              "      border-right-color: var(--fill-color);\n",
              "      border-bottom-color: var(--fill-color);\n",
              "    }\n",
              "    90% {\n",
              "      border-color: transparent;\n",
              "      border-bottom-color: var(--fill-color);\n",
              "    }\n",
              "  }\n",
              "</style>\n",
              "\n",
              "  <script>\n",
              "    async function quickchart(key) {\n",
              "      const quickchartButtonEl =\n",
              "        document.querySelector('#' + key + ' button');\n",
              "      quickchartButtonEl.disabled = true;  // To prevent multiple clicks.\n",
              "      quickchartButtonEl.classList.add('colab-df-spinner');\n",
              "      try {\n",
              "        const charts = await google.colab.kernel.invokeFunction(\n",
              "            'suggestCharts', [key], {});\n",
              "      } catch (error) {\n",
              "        console.error('Error during call to suggestCharts:', error);\n",
              "      }\n",
              "      quickchartButtonEl.classList.remove('colab-df-spinner');\n",
              "      quickchartButtonEl.classList.add('colab-df-quickchart-complete');\n",
              "    }\n",
              "    (() => {\n",
              "      let quickchartButtonEl =\n",
              "        document.querySelector('#df-70ea2b2b-db72-48a1-8198-23fd5ffe736a button');\n",
              "      quickchartButtonEl.style.display =\n",
              "        google.colab.kernel.accessAllowed ? 'block' : 'none';\n",
              "    })();\n",
              "  </script>\n",
              "</div>\n",
              "\n",
              "    </div>\n",
              "  </div>\n"
            ],
            "application/vnd.google.colaboratory.intrinsic+json": {
              "type": "dataframe",
              "variable_name": "df",
              "summary": "{\n  \"name\": \"df\",\n  \"rows\": 1190,\n  \"fields\": [\n    {\n      \"column\": \"age\",\n      \"properties\": {\n        \"dtype\": \"number\",\n        \"std\": 9,\n        \"min\": 28,\n        \"max\": 77,\n        \"num_unique_values\": 50,\n        \"samples\": [\n          44,\n          68,\n          66\n        ],\n        \"semantic_type\": \"\",\n        \"description\": \"\"\n      }\n    },\n    {\n      \"column\": \"sex\",\n      \"properties\": {\n        \"dtype\": \"number\",\n        \"std\": 0,\n        \"min\": 0,\n        \"max\": 1,\n        \"num_unique_values\": 2,\n        \"samples\": [\n          0,\n          1\n        ],\n        \"semantic_type\": \"\",\n        \"description\": \"\"\n      }\n    },\n    {\n      \"column\": \"chest pain type\",\n      \"properties\": {\n        \"dtype\": \"number\",\n        \"std\": 0,\n        \"min\": 1,\n        \"max\": 4,\n        \"num_unique_values\": 4,\n        \"samples\": [\n          3,\n          1\n        ],\n        \"semantic_type\": \"\",\n        \"description\": \"\"\n      }\n    },\n    {\n      \"column\": \"resting bp s\",\n      \"properties\": {\n        \"dtype\": \"number\",\n        \"std\": 18,\n        \"min\": 0,\n        \"max\": 200,\n        \"num_unique_values\": 67,\n        \"samples\": [\n          165,\n          118\n        ],\n        \"semantic_type\": \"\",\n        \"description\": \"\"\n      }\n    },\n    {\n      \"column\": \"cholesterol\",\n      \"properties\": {\n        \"dtype\": \"number\",\n        \"std\": 101,\n        \"min\": 0,\n        \"max\": 603,\n        \"num_unique_values\": 222,\n        \"samples\": [\n          305,\n          321\n        ],\n        \"semantic_type\": \"\",\n        \"description\": \"\"\n      }\n    },\n    {\n      \"column\": \"fasting blood sugar\",\n      \"properties\": {\n        \"dtype\": \"number\",\n        \"std\": 0,\n        \"min\": 0,\n        \"max\": 1,\n        \"num_unique_values\": 2,\n        \"samples\": [\n          1,\n          0\n        ],\n        \"semantic_type\": \"\",\n        \"description\": \"\"\n      }\n    },\n    {\n      \"column\": \"resting ecg\",\n      \"properties\": {\n        \"dtype\": \"number\",\n        \"std\": 0,\n        \"min\": 0,\n        \"max\": 2,\n        \"num_unique_values\": 3,\n        \"samples\": [\n          0,\n          1\n        ],\n        \"semantic_type\": \"\",\n        \"description\": \"\"\n      }\n    },\n    {\n      \"column\": \"max heart rate\",\n      \"properties\": {\n        \"dtype\": \"number\",\n        \"std\": 25,\n        \"min\": 60,\n        \"max\": 202,\n        \"num_unique_values\": 119,\n        \"samples\": [\n          132,\n          157\n        ],\n        \"semantic_type\": \"\",\n        \"description\": \"\"\n      }\n    },\n    {\n      \"column\": \"exercise angina\",\n      \"properties\": {\n        \"dtype\": \"number\",\n        \"std\": 0,\n        \"min\": 0,\n        \"max\": 1,\n        \"num_unique_values\": 2,\n        \"samples\": [\n          1,\n          0\n        ],\n        \"semantic_type\": \"\",\n        \"description\": \"\"\n      }\n    },\n    {\n      \"column\": \"oldpeak\",\n      \"properties\": {\n        \"dtype\": \"number\",\n        \"std\": 1.0863372185219835,\n        \"min\": -2.6,\n        \"max\": 6.2,\n        \"num_unique_values\": 53,\n        \"samples\": [\n          1.3,\n          0.6\n        ],\n        \"semantic_type\": \"\",\n        \"description\": \"\"\n      }\n    },\n    {\n      \"column\": \"ST slope\",\n      \"properties\": {\n        \"dtype\": \"number\",\n        \"std\": 0,\n        \"min\": 0,\n        \"max\": 3,\n        \"num_unique_values\": 4,\n        \"samples\": [\n          2,\n          0\n        ],\n        \"semantic_type\": \"\",\n        \"description\": \"\"\n      }\n    },\n    {\n      \"column\": \"target\",\n      \"properties\": {\n        \"dtype\": \"number\",\n        \"std\": 0,\n        \"min\": 0,\n        \"max\": 1,\n        \"num_unique_values\": 2,\n        \"samples\": [\n          1,\n          0\n        ],\n        \"semantic_type\": \"\",\n        \"description\": \"\"\n      }\n    }\n  ]\n}"
            }
          },
          "metadata": {},
          "execution_count": 5
        }
      ]
    },
    {
      "cell_type": "markdown",
      "source": [
        "### Data visualization"
      ],
      "metadata": {
        "id": "sVLsZHchELpO"
      }
    },
    {
      "cell_type": "code",
      "source": [
        "df['age'].plot(kind='hist', bins=20, title='age')\n",
        "plt.gca().spines[['top', 'right',]].set_visible(False)"
      ],
      "metadata": {
        "colab": {
          "base_uri": "https://localhost:8080/",
          "height": 508
        },
        "id": "KgvCPe8oEigU",
        "outputId": "71945274-612f-47a4-8570-7dec905f344e"
      },
      "execution_count": 6,
      "outputs": [
        {
          "output_type": "stream",
          "name": "stderr",
          "text": [
            "/usr/local/lib/python3.10/dist-packages/ipykernel/ipkernel.py:283: DeprecationWarning: `should_run_async` will not call `transform_cell` automatically in the future. Please pass the result to `transformed_cell` argument and any exception that happen during thetransform in `preprocessing_exc_tuple` in IPython 7.17 and above.\n",
            "  and should_run_async(code)\n"
          ]
        },
        {
          "output_type": "display_data",
          "data": {
            "text/plain": [
              "<Figure size 640x480 with 1 Axes>"
            ],
            "image/png": "[encoded data removed]"
          },
          "metadata": {}
        }
      ]
    },
    {
      "source": [
        "df['sex'].plot(kind='hist', bins=20, title='sex')\n",
        "plt.gca().spines[['top', 'right',]].set_visible(False)"
      ],
      "cell_type": "code",
      "execution_count": 7,
      "outputs": [
        {
          "output_type": "stream",
          "name": "stderr",
          "text": [
            "/usr/local/lib/python3.10/dist-packages/ipykernel/ipkernel.py:283: DeprecationWarning: `should_run_async` will not call `transform_cell` automatically in the future. Please pass the result to `transformed_cell` argument and any exception that happen during thetransform in `preprocessing_exc_tuple` in IPython 7.17 and above.\n",
            "  and should_run_async(code)\n"
          ]
        },
        {
          "output_type": "display_data",
          "data": {
            "text/plain": [
              "<Figure size 640x480 with 1 Axes>"
            ],
            "image/png": "[encoded data removed]"
          },
          "metadata": {}
        }
      ],
      "metadata": {
        "colab": {
          "base_uri": "https://localhost:8080/",
          "height": 508
        },
        "id": "Rau1tQ5sC9mY",
        "outputId": "9ca44b40-c312-4127-f9fe-518ef7eb52d2"
      }
    },
    {
      "cell_type": "code",
      "source": [
        "df['chest pain type'].plot(kind='hist', bins=20, title='chest pain type')\n",
        "plt.gca().spines[['top', 'right',]].set_visible(False)"
      ],
      "metadata": {
        "colab": {
          "base_uri": "https://localhost:8080/",
          "height": 508
        },
        "id": "RWmcJOrQCwih",
        "outputId": "51ae71f2-307f-4c8f-f527-6f0c04969d5e"
      },
      "execution_count": 8,
      "outputs": [
        {
          "output_type": "stream",
          "name": "stderr",
          "text": [
            "/usr/local/lib/python3.10/dist-packages/ipykernel/ipkernel.py:283: DeprecationWarning: `should_run_async` will not call `transform_cell` automatically in the future. Please pass the result to `transformed_cell` argument and any exception that happen during thetransform in `preprocessing_exc_tuple` in IPython 7.17 and above.\n",
            "  and should_run_async(code)\n"
          ]
        },
        {
          "output_type": "display_data",
          "data": {
            "text/plain": [
              "<Figure size 640x480 with 1 Axes>"
            ],
            "image/png": "[encoded data removed]"
          },
          "metadata": {}
        }
      ]
    },
    {
      "cell_type": "code",
      "source": [
        "df['resting bp s'].plot(kind='hist', bins=20, title='resting bp s')\n",
        "plt.gca().spines[['top', 'right',]].set_visible(False)"
      ],
      "metadata": {
        "colab": {
          "base_uri": "https://localhost:8080/",
          "height": 508
        },
        "id": "MOvnJ5F8CoWp",
        "outputId": "e6b1119f-b94f-4eea-e9db-f1de9f7b3438"
      },
      "execution_count": 9,
      "outputs": [
        {
          "output_type": "stream",
          "name": "stderr",
          "text": [
            "/usr/local/lib/python3.10/dist-packages/ipykernel/ipkernel.py:283: DeprecationWarning: `should_run_async` will not call `transform_cell` automatically in the future. Please pass the result to `transformed_cell` argument and any exception that happen during thetransform in `preprocessing_exc_tuple` in IPython 7.17 and above.\n",
            "  and should_run_async(code)\n"
          ]
        },
        {
          "output_type": "display_data",
          "data": {
            "text/plain": [
              "<Figure size 640x480 with 1 Axes>"
            ],
            "image/png": "[encoded data removed]"
          },
          "metadata": {}
        }
      ]
    },
    {
      "cell_type": "code",
      "source": [
        "X = df.iloc[:, :-1]\n",
        "y = df.iloc[:, -1]\n",
        "scaler = StandardScaler()\n",
        "X = scaler.fit_transform(X)\n",
        "X"
      ],
      "metadata": {
        "id": "7LrPbqpqE1gy",
        "outputId": "4f0feb94-046a-4e95-c709-f5602ec252e2",
        "colab": {
          "base_uri": "https://localhost:8080/"
        }
      },
      "execution_count": 10,
      "outputs": [
        {
          "output_type": "stream",
          "name": "stderr",
          "text": [
            "/usr/local/lib/python3.10/dist-packages/ipykernel/ipkernel.py:283: DeprecationWarning: `should_run_async` will not call `transform_cell` automatically in the future. Please pass the result to `transformed_cell` argument and any exception that happen during thetransform in `preprocessing_exc_tuple` in IPython 7.17 and above.\n",
            "  and should_run_async(code)\n"
          ]
        },
        {
          "output_type": "execute_result",
          "data": {
            "text/plain": [
              "array([[-1.46672783,  0.55599543, -1.31835093, ..., -0.79521891,\n",
              "        -0.84979236, -1.02321701],\n",
              "       [-0.50460037, -1.79857595, -0.24893198, ..., -0.79521891,\n",
              "         0.07111913,  0.61558278],\n",
              "       [-1.78743698,  0.55599543, -1.31835093, ..., -0.79521891,\n",
              "        -0.84979236, -1.02321701],\n",
              "       ...,\n",
              "       [ 0.35062404,  0.55599543,  0.82048698, ...,  1.25751537,\n",
              "         0.25530143,  0.61558278],\n",
              "       [ 0.35062404, -1.79857595, -1.31835093, ..., -0.79521891,\n",
              "        -0.84979236,  0.61558278],\n",
              "       [-1.68053393,  0.55599543, -0.24893198, ..., -0.79521891,\n",
              "        -0.84979236, -1.02321701]])"
            ]
          },
          "metadata": {},
          "execution_count": 10
        }
      ]
    },
    {
      "cell_type": "code",
      "source": [
        "X_train, X_test, y_train, y_test = train_test_split(X, y, test_size=0.2, random_state=42)"
      ],
      "metadata": {
        "id": "G4cgys8ZGR3e",
        "outputId": "2ce6f970-950d-47d7-a0d5-5c4b757fd95e",
        "colab": {
          "base_uri": "https://localhost:8080/"
        }
      },
      "execution_count": 11,
      "outputs": [
        {
          "output_type": "stream",
          "name": "stderr",
          "text": [
            "/usr/local/lib/python3.10/dist-packages/ipykernel/ipkernel.py:283: DeprecationWarning: `should_run_async` will not call `transform_cell` automatically in the future. Please pass the result to `transformed_cell` argument and any exception that happen during thetransform in `preprocessing_exc_tuple` in IPython 7.17 and above.\n",
            "  and should_run_async(code)\n"
          ]
        }
      ]
    },
    {
      "cell_type": "code",
      "source": [
        "print(X_train.shape)\n",
        "print(X_test.shape)\n",
        "print(y_train.shape)\n",
        "print(y_test.shape)"
      ],
      "metadata": {
        "id": "VmXCOxcxGbTe",
        "outputId": "14170d3c-60ea-47b2-f7cd-a2b8de3dc565",
        "colab": {
          "base_uri": "https://localhost:8080/"
        }
      },
      "execution_count": 12,
      "outputs": [
        {
          "output_type": "stream",
          "name": "stdout",
          "text": [
            "(952, 11)\n",
            "(238, 11)\n",
            "(952,)\n",
            "(238,)\n"
          ]
        },
        {
          "output_type": "stream",
          "name": "stderr",
          "text": [
            "/usr/local/lib/python3.10/dist-packages/ipykernel/ipkernel.py:283: DeprecationWarning: `should_run_async` will not call `transform_cell` automatically in the future. Please pass the result to `transformed_cell` argument and any exception that happen during thetransform in `preprocessing_exc_tuple` in IPython 7.17 and above.\n",
            "  and should_run_async(code)\n"
          ]
        }
      ]
    },
    {
      "cell_type": "markdown",
      "source": [
        "### KAN implementation without hyper-parameter tuning"
      ],
      "metadata": {
        "id": "DdXQ1vv9IIUh"
      }
    },
    {
      "cell_type": "code",
      "source": [
        "model = KANClassifier(device='cuda')\n",
        "model = model.fit(X_train, y_train)\n",
        "y_pred = model.predict(X_test)"
      ],
      "metadata": {
        "id": "UorgGZEuGdUC",
        "outputId": "2e8ae3af-9b8e-411c-a6e0-41b9a9f9e42e",
        "colab": {
          "base_uri": "https://localhost:8080/"
        }
      },
      "execution_count": 13,
      "outputs": [
        {
          "output_type": "stream",
          "name": "stderr",
          "text": [
            "/usr/local/lib/python3.10/dist-packages/ipykernel/ipkernel.py:283: DeprecationWarning: `should_run_async` will not call `transform_cell` automatically in the future. Please pass the result to `transformed_cell` argument and any exception that happen during thetransform in `preprocessing_exc_tuple` in IPython 7.17 and above.\n",
            "  and should_run_async(code)\n",
            "100%|██████████| 100/100 [00:04<00:00, 22.12it/s]\n"
          ]
        }
      ]
    },
    {
      "cell_type": "code",
      "source": [
        "print(\"Test accuracy:\", accuracy_score(y_test, y_pred))"
      ],
      "metadata": {
        "id": "q2vQKRIJHrjX",
        "outputId": "497c4d6a-4463-4cba-bd74-8a27f9114d7e",
        "colab": {
          "base_uri": "https://localhost:8080/"
        }
      },
      "execution_count": 15,
      "outputs": [
        {
          "output_type": "stream",
          "name": "stdout",
          "text": [
            "Test accuracy: 0.726890756302521\n"
          ]
        },
        {
          "output_type": "stream",
          "name": "stderr",
          "text": [
            "/usr/local/lib/python3.10/dist-packages/ipykernel/ipkernel.py:283: DeprecationWarning: `should_run_async` will not call `transform_cell` automatically in the future. Please pass the result to `transformed_cell` argument and any exception that happen during thetransform in `preprocessing_exc_tuple` in IPython 7.17 and above.\n",
            "  and should_run_async(code)\n"
          ]
        }
      ]
    },
    {
      "cell_type": "code",
      "source": [
        "print(\"Classificcation report for test set: \", classification_report(y_test, y_pred))"
      ],
      "metadata": {
        "id": "UWkXpbwwITbD",
        "outputId": "eb1c1492-3302-4442-a58b-3b96ccd312ec",
        "colab": {
          "base_uri": "https://localhost:8080/"
        }
      },
      "execution_count": 16,
      "outputs": [
        {
          "output_type": "stream",
          "name": "stdout",
          "text": [
            "Classificcation report for test set:                precision    recall  f1-score   support\n",
            "\n",
            "           0       0.88      0.46      0.60       107\n",
            "           1       0.68      0.95      0.79       131\n",
            "\n",
            "    accuracy                           0.73       238\n",
            "   macro avg       0.78      0.70      0.70       238\n",
            "weighted avg       0.77      0.73      0.71       238\n",
            "\n"
          ]
        },
        {
          "output_type": "stream",
          "name": "stderr",
          "text": [
            "/usr/local/lib/python3.10/dist-packages/ipykernel/ipkernel.py:283: DeprecationWarning: `should_run_async` will not call `transform_cell` automatically in the future. Please pass the result to `transformed_cell` argument and any exception that happen during thetransform in `preprocessing_exc_tuple` in IPython 7.17 and above.\n",
            "  and should_run_async(code)\n"
          ]
        }
      ]
    },
    {
      "cell_type": "code",
      "source": [
        "print(\"Kappa score:\", cohen_kappa_score(y_test, y_pred))"
      ],
      "metadata": {
        "id": "6QPN4uImIVY0",
        "outputId": "bb83f056-763b-4a33-8692-042db4c53ede",
        "colab": {
          "base_uri": "https://localhost:8080/"
        }
      },
      "execution_count": 20,
      "outputs": [
        {
          "output_type": "stream",
          "name": "stdout",
          "text": [
            "Kappa score: 0.42297650130548303\n"
          ]
        }
      ]
    },
    {
      "cell_type": "code",
      "source": [
        "print(\"Confusion matrix:\\n\", confusion_matrix(y_test, y_pred))"
      ],
      "metadata": {
        "id": "T78jjnOcIWgE",
        "outputId": "63588187-ea67-48b0-926f-50dc38216353",
        "colab": {
          "base_uri": "https://localhost:8080/"
        }
      },
      "execution_count": 21,
      "outputs": [
        {
          "output_type": "stream",
          "name": "stdout",
          "text": [
            "Confusion matrix:\n",
            " [[ 49  58]\n",
            " [  7 124]]\n"
          ]
        }
      ]
    },
    {
      "cell_type": "markdown",
      "source": [
        "### KAN implementation with hyper-parameter tuning"
      ],
      "metadata": {
        "id": "tf5f9-HhJLPD"
      }
    },
    {
      "cell_type": "code",
      "source": [
        "hidden_layers =  [32, 64]\n",
        "activations = [0.1, 0.3]\n",
        "entropies = [0.1, 0.3]\n",
        "ridges = [0.1, 0.3]"
      ],
      "metadata": {
        "id": "teSIPFW9JMj7"
      },
      "execution_count": 22,
      "outputs": []
    },
    {
      "cell_type": "code",
      "source": [
        "for hidden_layer in hidden_layers:\n",
        "  for activation in activations:\n",
        "    for entropy in entropies:\n",
        "      for ridge in ridges:\n",
        "        kan_model = KANClassifier(hidden_layer=hidden_layer, activation=activation, entropy=entropy, ridge=ridge, device='cuda')\n",
        "        kan_model.fit(X_train, y_train)\n",
        "        y_pred = kan_model.predict(X_test)\n",
        "        print(\"Hidden layer:\", hidden_layer)\n",
        "        print(\"Activation:\", activation)\n",
        "        print(\"Entropy:\", entropy)\n",
        "        print(\"Ridge:\", ridge)\n",
        "        print(\"Test accuracy:\", accuracy_score(y_test, y_pred))\n",
        "        print(\"Kappa score:\", cohen_kappa_score(y_test, y_pred))\n",
        "        print(\"Confusion matrix:\\n\", confusion_matrix(y_test, y_pred))"
      ],
      "metadata": {
        "collapsed": true,
        "id": "gTiBXKkpJdM7",
        "outputId": "00979683-9571-4111-ac52-9e77eb81f8ca",
        "colab": {
          "base_uri": "https://localhost:8080/"
        }
      },
      "execution_count": 23,
      "outputs": [
        {
          "output_type": "stream",
          "name": "stderr",
          "text": [
            "100%|██████████| 100/100 [00:02<00:00, 39.89it/s]\n"
          ]
        },
        {
          "output_type": "stream",
          "name": "stdout",
          "text": [
            "Hidden layer: 32\n",
            "Activation: 0.1\n",
            "Entropy: 0.1\n",
            "Ridge: 0.1\n",
            "Test accuracy: 0.7647058823529411\n",
            "Kappa score: 0.5188100223842878\n",
            "Confusion matrix:\n",
            " [[ 72  35]\n",
            " [ 21 110]]\n"
          ]
        },
        {
          "output_type": "stream",
          "name": "stderr",
          "text": [
            "100%|██████████| 100/100 [00:02<00:00, 47.37it/s]\n"
          ]
        },
        {
          "output_type": "stream",
          "name": "stdout",
          "text": [
            "Hidden layer: 32\n",
            "Activation: 0.1\n",
            "Entropy: 0.1\n",
            "Ridge: 0.3\n",
            "Test accuracy: 0.7394957983193278\n",
            "Kappa score: 0.45785876993166286\n",
            "Confusion matrix:\n",
            " [[ 59  48]\n",
            " [ 14 117]]\n"
          ]
        },
        {
          "output_type": "stream",
          "name": "stderr",
          "text": [
            "100%|██████████| 100/100 [00:04<00:00, 20.16it/s]\n"
          ]
        },
        {
          "output_type": "stream",
          "name": "stdout",
          "text": [
            "Hidden layer: 32\n",
            "Activation: 0.1\n",
            "Entropy: 0.3\n",
            "Ridge: 0.1\n",
            "Test accuracy: 0.7857142857142857\n",
            "Kappa score: 0.5536515407810547\n",
            "Confusion matrix:\n",
            " [[ 64  43]\n",
            " [  8 123]]\n"
          ]
        },
        {
          "output_type": "stream",
          "name": "stderr",
          "text": [
            " 58%|█████▊    | 58/100 [00:02<00:01, 27.20it/s]\n"
          ]
        },
        {
          "output_type": "stream",
          "name": "stdout",
          "text": [
            "\tEarly stopping\n",
            "Hidden layer: 32\n",
            "Activation: 0.1\n",
            "Entropy: 0.3\n",
            "Ridge: 0.3\n",
            "Test accuracy: 0.7226890756302521\n",
            "Kappa score: 0.4328832406671962\n",
            "Confusion matrix:\n",
            " [[ 67  40]\n",
            " [ 26 105]]\n"
          ]
        },
        {
          "output_type": "stream",
          "name": "stderr",
          "text": [
            " 54%|█████▍    | 54/100 [00:01<00:00, 51.97it/s]\n"
          ]
        },
        {
          "output_type": "stream",
          "name": "stdout",
          "text": [
            "\tEarly stopping\n",
            "Hidden layer: 32\n",
            "Activation: 0.3\n",
            "Entropy: 0.1\n",
            "Ridge: 0.1\n",
            "Test accuracy: 0.7521008403361344\n",
            "Kappa score: 0.48725626232381514\n",
            "Confusion matrix:\n",
            " [[ 64  43]\n",
            " [ 16 115]]\n"
          ]
        },
        {
          "output_type": "stream",
          "name": "stderr",
          "text": [
            "100%|██████████| 100/100 [00:01<00:00, 52.98it/s]\n"
          ]
        },
        {
          "output_type": "stream",
          "name": "stdout",
          "text": [
            "Hidden layer: 32\n",
            "Activation: 0.3\n",
            "Entropy: 0.1\n",
            "Ridge: 0.3\n",
            "Test accuracy: 0.6134453781512605\n",
            "Kappa score: 0.17665638865909605\n",
            "Confusion matrix:\n",
            " [[ 31  76]\n",
            " [ 16 115]]\n"
          ]
        },
        {
          "output_type": "stream",
          "name": "stderr",
          "text": [
            "100%|██████████| 100/100 [00:01<00:00, 52.11it/s]\n"
          ]
        },
        {
          "output_type": "stream",
          "name": "stdout",
          "text": [
            "Hidden layer: 32\n",
            "Activation: 0.3\n",
            "Entropy: 0.3\n",
            "Ridge: 0.1\n",
            "Test accuracy: 0.7478991596638656\n",
            "Kappa score: 0.4762708134673219\n",
            "Confusion matrix:\n",
            " [[ 61  46]\n",
            " [ 14 117]]\n"
          ]
        },
        {
          "output_type": "stream",
          "name": "stderr",
          "text": [
            " 57%|█████▋    | 57/100 [00:01<00:00, 49.73it/s]\n"
          ]
        },
        {
          "output_type": "stream",
          "name": "stdout",
          "text": [
            "\tEarly stopping\n",
            "Hidden layer: 32\n",
            "Activation: 0.3\n",
            "Entropy: 0.3\n",
            "Ridge: 0.3\n",
            "Test accuracy: 0.7773109243697479\n",
            "Kappa score: 0.5457688152682751\n",
            "Confusion matrix:\n",
            " [[ 75  32]\n",
            " [ 21 110]]\n"
          ]
        },
        {
          "output_type": "stream",
          "name": "stderr",
          "text": [
            "100%|██████████| 100/100 [00:02<00:00, 35.50it/s]\n"
          ]
        },
        {
          "output_type": "stream",
          "name": "stdout",
          "text": [
            "Hidden layer: 64\n",
            "Activation: 0.1\n",
            "Entropy: 0.1\n",
            "Ridge: 0.1\n",
            "Test accuracy: 0.7605042016806722\n",
            "Kappa score: 0.49759277090585885\n",
            "Confusion matrix:\n",
            " [[ 57  50]\n",
            " [  7 124]]\n"
          ]
        },
        {
          "output_type": "stream",
          "name": "stderr",
          "text": [
            "100%|██████████| 100/100 [00:01<00:00, 52.65it/s]\n"
          ]
        },
        {
          "output_type": "stream",
          "name": "stdout",
          "text": [
            "Hidden layer: 64\n",
            "Activation: 0.1\n",
            "Entropy: 0.1\n",
            "Ridge: 0.3\n",
            "Test accuracy: 0.6260504201680672\n",
            "Kappa score: 0.21414261334124807\n",
            "Confusion matrix:\n",
            " [[ 40  67]\n",
            " [ 22 109]]\n"
          ]
        },
        {
          "output_type": "stream",
          "name": "stderr",
          "text": [
            "100%|██████████| 100/100 [00:01<00:00, 53.07it/s]\n"
          ]
        },
        {
          "output_type": "stream",
          "name": "stdout",
          "text": [
            "Hidden layer: 64\n",
            "Activation: 0.1\n",
            "Entropy: 0.3\n",
            "Ridge: 0.1\n",
            "Test accuracy: 0.7605042016806722\n",
            "Kappa score: 0.4993726474278545\n",
            "Confusion matrix:\n",
            " [[ 59  48]\n",
            " [  9 122]]\n"
          ]
        },
        {
          "output_type": "stream",
          "name": "stderr",
          "text": [
            "100%|██████████| 100/100 [00:02<00:00, 45.23it/s]\n"
          ]
        },
        {
          "output_type": "stream",
          "name": "stdout",
          "text": [
            "Hidden layer: 64\n",
            "Activation: 0.1\n",
            "Entropy: 0.3\n",
            "Ridge: 0.3\n",
            "Test accuracy: 0.6722689075630253\n",
            "Kappa score: 0.3131058980241248\n",
            "Confusion matrix:\n",
            " [[ 47  60]\n",
            " [ 18 113]]\n"
          ]
        },
        {
          "output_type": "stream",
          "name": "stderr",
          "text": [
            "100%|██████████| 100/100 [00:01<00:00, 52.69it/s]\n"
          ]
        },
        {
          "output_type": "stream",
          "name": "stdout",
          "text": [
            "Hidden layer: 64\n",
            "Activation: 0.3\n",
            "Entropy: 0.1\n",
            "Ridge: 0.1\n",
            "Test accuracy: 0.7521008403361344\n",
            "Kappa score: 0.4925923249259232\n",
            "Confusion matrix:\n",
            " [[ 70  37]\n",
            " [ 22 109]]\n"
          ]
        },
        {
          "output_type": "stream",
          "name": "stderr",
          "text": [
            " 54%|█████▍    | 54/100 [00:01<00:00, 51.32it/s]\n"
          ]
        },
        {
          "output_type": "stream",
          "name": "stdout",
          "text": [
            "\tEarly stopping\n",
            "Hidden layer: 64\n",
            "Activation: 0.3\n",
            "Entropy: 0.1\n",
            "Ridge: 0.3\n",
            "Test accuracy: 0.7563025210084033\n",
            "Kappa score: 0.4901381399128315\n",
            "Confusion matrix:\n",
            " [[ 58  49]\n",
            " [  9 122]]\n"
          ]
        },
        {
          "output_type": "stream",
          "name": "stderr",
          "text": [
            " 56%|█████▌    | 56/100 [00:01<00:01, 32.59it/s]\n"
          ]
        },
        {
          "output_type": "stream",
          "name": "stdout",
          "text": [
            "\tEarly stopping\n",
            "Hidden layer: 64\n",
            "Activation: 0.3\n",
            "Entropy: 0.3\n",
            "Ridge: 0.1\n",
            "Test accuracy: 0.8025210084033614\n",
            "Kappa score: 0.5978862606945143\n",
            "Confusion matrix:\n",
            " [[ 79  28]\n",
            " [ 19 112]]\n"
          ]
        },
        {
          "output_type": "stream",
          "name": "stderr",
          "text": [
            "100%|██████████| 100/100 [00:02<00:00, 37.48it/s]"
          ]
        },
        {
          "output_type": "stream",
          "name": "stdout",
          "text": [
            "Hidden layer: 64\n",
            "Activation: 0.3\n",
            "Entropy: 0.3\n",
            "Ridge: 0.3\n",
            "Test accuracy: 0.6554621848739496\n",
            "Kappa score: 0.30975454481148756\n",
            "Confusion matrix:\n",
            " [[71 36]\n",
            " [46 85]]\n"
          ]
        },
        {
          "output_type": "stream",
          "name": "stderr",
          "text": [
            "\n"
          ]
        }
      ]
    },
    {
      "cell_type": "code",
      "source": [
        "hidden_layers = [32, 64, 128]\n",
        "activations = [0.1, 0.3, 0.5]\n",
        "entropies = [0.1, 0.3, 0.5]\n",
        "ridges = [0.1, 0.3, 0.5, 0.7]\n",
        "splineOrder = [3, 5]"
      ],
      "metadata": {
        "id": "Hq99J0KcJ17C"
      },
      "execution_count": 25,
      "outputs": []
    },
    {
      "cell_type": "code",
      "source": [
        "for hidden_layer in hidden_layers:\n",
        "  for activation in activations:\n",
        "    for entropy in entropies:\n",
        "      for ridge in ridges:\n",
        "        for spline in splineOrder:\n",
        "          kan_model = KANClassifier(hidden_layer=hidden_layer, activation=activation, entropy=entropy, ridge=ridge, device='cuda')\n",
        "          kan_model.fit(X_train, y_train)\n",
        "          y_pred = kan_model.predict(X_test)\n",
        "          print(\"Hidden layer:\", hidden_layer)\n",
        "          print(\"Activation:\", activation)\n",
        "          print(\"Entropy:\", entropy)\n",
        "          print(\"Ridge:\", ridge)\n",
        "          print(\"Spline order:\", spline)\n",
        "          print(\"Test accuracy:\", accuracy_score(y_test, y_pred))\n",
        "          print(\"Kappa score:\", cohen_kappa_score(y_test, y_pred))\n",
        "          print(\"Confusion matrix:\\n\", confusion_matrix(y_test, y_pred))"
      ],
      "metadata": {
        "id": "VfJZn8idKeKG",
        "outputId": "0898aaa4-c965-4d36-8415-509496612a8e",
        "colab": {
          "base_uri": "https://localhost:8080/"
        }
      },
      "execution_count": 27,
      "outputs": [
        {
          "output_type": "stream",
          "name": "stderr",
          "text": [
            "100%|██████████| 100/100 [00:01<00:00, 52.90it/s]\n"
          ]
        },
        {
          "output_type": "stream",
          "name": "stdout",
          "text": [
            "Hidden layer: 32\n",
            "Activation: 0.1\n",
            "Entropy: 0.1\n",
            "Ridge: 0.1\n",
            "Spline order: 3\n",
            "Test accuracy: 0.6470588235294118\n",
            "Kappa score: 0.24825148529743546\n",
            "Confusion matrix:\n",
            " [[ 35  72]\n",
            " [ 12 119]]\n"
          ]
        },
        {
          "output_type": "stream",
          "name": "stderr",
          "text": [
            " 59%|█████▉    | 59/100 [00:01<00:00, 51.64it/s]\n"
          ]
        },
        {
          "output_type": "stream",
          "name": "stdout",
          "text": [
            "\tEarly stopping\n",
            "Hidden layer: 32\n",
            "Activation: 0.1\n",
            "Entropy: 0.1\n",
            "Ridge: 0.1\n",
            "Spline order: 5\n",
            "Test accuracy: 0.5798319327731093\n",
            "Kappa score: 0.187213988115566\n",
            "Confusion matrix:\n",
            " [[83 24]\n",
            " [76 55]]\n"
          ]
        },
        {
          "output_type": "stream",
          "name": "stderr",
          "text": [
            "100%|██████████| 100/100 [00:01<00:00, 52.84it/s]\n"
          ]
        },
        {
          "output_type": "stream",
          "name": "stdout",
          "text": [
            "Hidden layer: 32\n",
            "Activation: 0.1\n",
            "Entropy: 0.1\n",
            "Ridge: 0.3\n",
            "Spline order: 3\n",
            "Test accuracy: 0.7899159663865546\n",
            "Kappa score: 0.5658518788763225\n",
            "Confusion matrix:\n",
            " [[ 69  38]\n",
            " [ 12 119]]\n"
          ]
        },
        {
          "output_type": "stream",
          "name": "stderr",
          "text": [
            "100%|██████████| 100/100 [00:02<00:00, 47.31it/s]\n"
          ]
        },
        {
          "output_type": "stream",
          "name": "stdout",
          "text": [
            "Hidden layer: 32\n",
            "Activation: 0.1\n",
            "Entropy: 0.1\n",
            "Ridge: 0.3\n",
            "Spline order: 5\n",
            "Test accuracy: 0.6932773109243697\n",
            "Kappa score: 0.3599793708096958\n",
            "Confusion matrix:\n",
            " [[ 52  55]\n",
            " [ 18 113]]\n"
          ]
        },
        {
          "output_type": "stream",
          "name": "stderr",
          "text": [
            "100%|██████████| 100/100 [00:02<00:00, 33.38it/s]\n"
          ]
        },
        {
          "output_type": "stream",
          "name": "stdout",
          "text": [
            "Hidden layer: 32\n",
            "Activation: 0.1\n",
            "Entropy: 0.1\n",
            "Ridge: 0.5\n",
            "Spline order: 3\n",
            "Test accuracy: 0.8067226890756303\n",
            "Kappa score: 0.6054206011677359\n",
            "Confusion matrix:\n",
            " [[ 78  29]\n",
            " [ 17 114]]\n"
          ]
        },
        {
          "output_type": "stream",
          "name": "stderr",
          "text": [
            "100%|██████████| 100/100 [00:02<00:00, 38.98it/s]\n"
          ]
        },
        {
          "output_type": "stream",
          "name": "stdout",
          "text": [
            "Hidden layer: 32\n",
            "Activation: 0.1\n",
            "Entropy: 0.1\n",
            "Ridge: 0.5\n",
            "Spline order: 5\n",
            "Test accuracy: 0.7310924369747899\n",
            "Kappa score: 0.4519680506584155\n",
            "Confusion matrix:\n",
            " [[ 70  37]\n",
            " [ 27 104]]\n"
          ]
        },
        {
          "output_type": "stream",
          "name": "stderr",
          "text": [
            "100%|██████████| 100/100 [00:02<00:00, 39.10it/s]\n"
          ]
        },
        {
          "output_type": "stream",
          "name": "stdout",
          "text": [
            "Hidden layer: 32\n",
            "Activation: 0.1\n",
            "Entropy: 0.1\n",
            "Ridge: 0.7\n",
            "Spline order: 3\n",
            "Test accuracy: 0.7100840336134454\n",
            "Kappa score: 0.4177008722785618\n",
            "Confusion matrix:\n",
            " [[76 31]\n",
            " [38 93]]\n"
          ]
        },
        {
          "output_type": "stream",
          "name": "stderr",
          "text": [
            "100%|██████████| 100/100 [00:01<00:00, 52.49it/s]\n"
          ]
        },
        {
          "output_type": "stream",
          "name": "stdout",
          "text": [
            "Hidden layer: 32\n",
            "Activation: 0.1\n",
            "Entropy: 0.1\n",
            "Ridge: 0.7\n",
            "Spline order: 5\n",
            "Test accuracy: 0.7815126050420168\n",
            "Kappa score: 0.5484859540313755\n",
            "Confusion matrix:\n",
            " [[ 68  39]\n",
            " [ 13 118]]\n"
          ]
        },
        {
          "output_type": "stream",
          "name": "stderr",
          "text": [
            "100%|██████████| 100/100 [00:01<00:00, 50.95it/s]\n"
          ]
        },
        {
          "output_type": "stream",
          "name": "stdout",
          "text": [
            "Hidden layer: 32\n",
            "Activation: 0.1\n",
            "Entropy: 0.3\n",
            "Ridge: 0.1\n",
            "Spline order: 3\n",
            "Test accuracy: 0.7689075630252101\n",
            "Kappa score: 0.5253462905214301\n",
            "Confusion matrix:\n",
            " [[ 70  37]\n",
            " [ 18 113]]\n"
          ]
        },
        {
          "output_type": "stream",
          "name": "stderr",
          "text": [
            " 60%|██████    | 60/100 [00:01<00:01, 38.82it/s]\n"
          ]
        },
        {
          "output_type": "stream",
          "name": "stdout",
          "text": [
            "\tEarly stopping\n",
            "Hidden layer: 32\n",
            "Activation: 0.1\n",
            "Entropy: 0.3\n",
            "Ridge: 0.1\n",
            "Spline order: 5\n",
            "Test accuracy: 0.7563025210084033\n",
            "Kappa score: 0.5024868449506236\n",
            "Confusion matrix:\n",
            " [[ 72  35]\n",
            " [ 23 108]]\n"
          ]
        },
        {
          "output_type": "stream",
          "name": "stderr",
          "text": [
            "100%|██████████| 100/100 [00:02<00:00, 36.52it/s]\n"
          ]
        },
        {
          "output_type": "stream",
          "name": "stdout",
          "text": [
            "Hidden layer: 32\n",
            "Activation: 0.1\n",
            "Entropy: 0.3\n",
            "Ridge: 0.3\n",
            "Spline order: 3\n",
            "Test accuracy: 0.6260504201680672\n",
            "Kappa score: 0.22924095771777886\n",
            "Confusion matrix:\n",
            " [[51 56]\n",
            " [33 98]]\n"
          ]
        },
        {
          "output_type": "stream",
          "name": "stderr",
          "text": [
            "100%|██████████| 100/100 [00:02<00:00, 44.95it/s]\n"
          ]
        },
        {
          "output_type": "stream",
          "name": "stdout",
          "text": [
            "Hidden layer: 32\n",
            "Activation: 0.1\n",
            "Entropy: 0.3\n",
            "Ridge: 0.3\n",
            "Spline order: 5\n",
            "Test accuracy: 0.7436974789915967\n",
            "Kappa score: 0.46801026016855996\n",
            "Confusion matrix:\n",
            " [[ 61  46]\n",
            " [ 15 116]]\n"
          ]
        },
        {
          "output_type": "stream",
          "name": "stderr",
          "text": [
            "100%|██████████| 100/100 [00:01<00:00, 52.66it/s]\n"
          ]
        },
        {
          "output_type": "stream",
          "name": "stdout",
          "text": [
            "Hidden layer: 32\n",
            "Activation: 0.1\n",
            "Entropy: 0.3\n",
            "Ridge: 0.5\n",
            "Spline order: 3\n",
            "Test accuracy: 0.773109243697479\n",
            "Kappa score: 0.5278124770372548\n",
            "Confusion matrix:\n",
            " [[ 63  44]\n",
            " [ 10 121]]\n"
          ]
        },
        {
          "output_type": "stream",
          "name": "stderr",
          "text": [
            "100%|██████████| 100/100 [00:01<00:00, 52.76it/s]\n"
          ]
        },
        {
          "output_type": "stream",
          "name": "stdout",
          "text": [
            "Hidden layer: 32\n",
            "Activation: 0.1\n",
            "Entropy: 0.3\n",
            "Ridge: 0.5\n",
            "Spline order: 5\n",
            "Test accuracy: 0.8067226890756303\n",
            "Kappa score: 0.6054206011677359\n",
            "Confusion matrix:\n",
            " [[ 78  29]\n",
            " [ 17 114]]\n"
          ]
        },
        {
          "output_type": "stream",
          "name": "stderr",
          "text": [
            " 59%|█████▉    | 59/100 [00:01<00:00, 52.53it/s]\n"
          ]
        },
        {
          "output_type": "stream",
          "name": "stdout",
          "text": [
            "\tEarly stopping\n",
            "Hidden layer: 32\n",
            "Activation: 0.1\n",
            "Entropy: 0.3\n",
            "Ridge: 0.7\n",
            "Spline order: 3\n",
            "Test accuracy: 0.7016806722689075\n",
            "Kappa score: 0.3628685619485711\n",
            "Confusion matrix:\n",
            " [[ 40  67]\n",
            " [  4 127]]\n"
          ]
        },
        {
          "output_type": "stream",
          "name": "stderr",
          "text": [
            "100%|██████████| 100/100 [00:01<00:00, 53.11it/s]\n"
          ]
        },
        {
          "output_type": "stream",
          "name": "stdout",
          "text": [
            "Hidden layer: 32\n",
            "Activation: 0.1\n",
            "Entropy: 0.3\n",
            "Ridge: 0.7\n",
            "Spline order: 5\n",
            "Test accuracy: 0.6932773109243697\n",
            "Kappa score: 0.36780438104941415\n",
            "Confusion matrix:\n",
            " [[ 59  48]\n",
            " [ 25 106]]\n"
          ]
        },
        {
          "output_type": "stream",
          "name": "stderr",
          "text": [
            "100%|██████████| 100/100 [00:02<00:00, 39.39it/s]\n"
          ]
        },
        {
          "output_type": "stream",
          "name": "stdout",
          "text": [
            "Hidden layer: 32\n",
            "Activation: 0.1\n",
            "Entropy: 0.5\n",
            "Ridge: 0.1\n",
            "Spline order: 3\n",
            "Test accuracy: 0.6680672268907563\n",
            "Kappa score: 0.2923598042905533\n",
            "Confusion matrix:\n",
            " [[ 37  70]\n",
            " [  9 122]]\n"
          ]
        },
        {
          "output_type": "stream",
          "name": "stderr",
          "text": [
            "100%|██████████| 100/100 [00:02<00:00, 46.85it/s]\n"
          ]
        },
        {
          "output_type": "stream",
          "name": "stdout",
          "text": [
            "Hidden layer: 32\n",
            "Activation: 0.1\n",
            "Entropy: 0.5\n",
            "Ridge: 0.1\n",
            "Spline order: 5\n",
            "Test accuracy: 0.7773109243697479\n",
            "Kappa score: 0.548887776267792\n",
            "Confusion matrix:\n",
            " [[ 79  28]\n",
            " [ 25 106]]\n"
          ]
        },
        {
          "output_type": "stream",
          "name": "stderr",
          "text": [
            "100%|██████████| 100/100 [00:02<00:00, 44.80it/s]\n"
          ]
        },
        {
          "output_type": "stream",
          "name": "stdout",
          "text": [
            "Hidden layer: 32\n",
            "Activation: 0.1\n",
            "Entropy: 0.5\n",
            "Ridge: 0.3\n",
            "Spline order: 3\n",
            "Test accuracy: 0.726890756302521\n",
            "Kappa score: 0.4351128313736946\n",
            "Confusion matrix:\n",
            " [[ 61  46]\n",
            " [ 19 112]]\n"
          ]
        },
        {
          "output_type": "stream",
          "name": "stderr",
          "text": [
            "100%|██████████| 100/100 [00:01<00:00, 53.35it/s]\n"
          ]
        },
        {
          "output_type": "stream",
          "name": "stdout",
          "text": [
            "Hidden layer: 32\n",
            "Activation: 0.1\n",
            "Entropy: 0.5\n",
            "Ridge: 0.3\n",
            "Spline order: 5\n",
            "Test accuracy: 0.6470588235294118\n",
            "Kappa score: 0.2680676576114812\n",
            "Confusion matrix:\n",
            " [[ 50  57]\n",
            " [ 27 104]]\n"
          ]
        },
        {
          "output_type": "stream",
          "name": "stderr",
          "text": [
            "100%|██████████| 100/100 [00:01<00:00, 53.04it/s]\n"
          ]
        },
        {
          "output_type": "stream",
          "name": "stdout",
          "text": [
            "Hidden layer: 32\n",
            "Activation: 0.1\n",
            "Entropy: 0.5\n",
            "Ridge: 0.5\n",
            "Spline order: 3\n",
            "Test accuracy: 0.7394957983193278\n",
            "Kappa score: 0.46632911392405063\n",
            "Confusion matrix:\n",
            " [[ 68  39]\n",
            " [ 23 108]]\n"
          ]
        },
        {
          "output_type": "stream",
          "name": "stderr",
          "text": [
            "100%|██████████| 100/100 [00:01<00:00, 52.08it/s]\n"
          ]
        },
        {
          "output_type": "stream",
          "name": "stdout",
          "text": [
            "Hidden layer: 32\n",
            "Activation: 0.1\n",
            "Entropy: 0.5\n",
            "Ridge: 0.5\n",
            "Spline order: 5\n",
            "Test accuracy: 0.6722689075630253\n",
            "Kappa score: 0.34785357970912667\n",
            "Confusion matrix:\n",
            " [[77 30]\n",
            " [48 83]]\n"
          ]
        },
        {
          "output_type": "stream",
          "name": "stderr",
          "text": [
            " 62%|██████▏   | 62/100 [00:01<00:00, 40.61it/s]\n"
          ]
        },
        {
          "output_type": "stream",
          "name": "stdout",
          "text": [
            "\tEarly stopping\n",
            "Hidden layer: 32\n",
            "Activation: 0.1\n",
            "Entropy: 0.5\n",
            "Ridge: 0.7\n",
            "Spline order: 3\n",
            "Test accuracy: 0.6680672268907563\n",
            "Kappa score: 0.30368120879934823\n",
            "Confusion matrix:\n",
            " [[ 46  61]\n",
            " [ 18 113]]\n"
          ]
        },
        {
          "output_type": "stream",
          "name": "stderr",
          "text": [
            "100%|██████████| 100/100 [00:02<00:00, 39.19it/s]\n"
          ]
        },
        {
          "output_type": "stream",
          "name": "stdout",
          "text": [
            "Hidden layer: 32\n",
            "Activation: 0.1\n",
            "Entropy: 0.5\n",
            "Ridge: 0.7\n",
            "Spline order: 5\n",
            "Test accuracy: 0.8067226890756303\n",
            "Kappa score: 0.6019777503090236\n",
            "Confusion matrix:\n",
            " [[ 73  34]\n",
            " [ 12 119]]\n"
          ]
        },
        {
          "output_type": "stream",
          "name": "stderr",
          "text": [
            " 59%|█████▉    | 59/100 [00:01<00:00, 52.19it/s]\n"
          ]
        },
        {
          "output_type": "stream",
          "name": "stdout",
          "text": [
            "\tEarly stopping\n",
            "Hidden layer: 32\n",
            "Activation: 0.3\n",
            "Entropy: 0.1\n",
            "Ridge: 0.1\n",
            "Spline order: 3\n",
            "Test accuracy: 0.7857142857142857\n",
            "Kappa score: 0.5636638147961751\n",
            "Confusion matrix:\n",
            " [[ 77  30]\n",
            " [ 21 110]]\n"
          ]
        },
        {
          "output_type": "stream",
          "name": "stderr",
          "text": [
            "100%|██████████| 100/100 [00:02<00:00, 44.75it/s]\n"
          ]
        },
        {
          "output_type": "stream",
          "name": "stdout",
          "text": [
            "Hidden layer: 32\n",
            "Activation: 0.3\n",
            "Entropy: 0.1\n",
            "Ridge: 0.1\n",
            "Spline order: 5\n",
            "Test accuracy: 0.7899159663865546\n",
            "Kappa score: 0.5733237719612765\n",
            "Confusion matrix:\n",
            " [[ 79  28]\n",
            " [ 22 109]]\n"
          ]
        },
        {
          "output_type": "stream",
          "name": "stderr",
          "text": [
            "100%|██████████| 100/100 [00:01<00:00, 52.66it/s]\n"
          ]
        },
        {
          "output_type": "stream",
          "name": "stdout",
          "text": [
            "Hidden layer: 32\n",
            "Activation: 0.3\n",
            "Entropy: 0.1\n",
            "Ridge: 0.3\n",
            "Spline order: 3\n",
            "Test accuracy: 0.7647058823529411\n",
            "Kappa score: 0.5068452601198845\n",
            "Confusion matrix:\n",
            " [[ 58  49]\n",
            " [  7 124]]\n"
          ]
        },
        {
          "output_type": "stream",
          "name": "stderr",
          "text": [
            " 61%|██████    | 61/100 [00:01<00:00, 51.16it/s]\n"
          ]
        },
        {
          "output_type": "stream",
          "name": "stdout",
          "text": [
            "\tEarly stopping\n",
            "Hidden layer: 32\n",
            "Activation: 0.3\n",
            "Entropy: 0.1\n",
            "Ridge: 0.3\n",
            "Spline order: 5\n",
            "Test accuracy: 0.7941176470588235\n",
            "Kappa score: 0.5807750377453447\n",
            "Confusion matrix:\n",
            " [[ 78  29]\n",
            " [ 20 111]]\n"
          ]
        },
        {
          "output_type": "stream",
          "name": "stderr",
          "text": [
            "100%|██████████| 100/100 [00:01<00:00, 53.08it/s]\n"
          ]
        },
        {
          "output_type": "stream",
          "name": "stdout",
          "text": [
            "Hidden layer: 32\n",
            "Activation: 0.3\n",
            "Entropy: 0.1\n",
            "Ridge: 0.5\n",
            "Spline order: 3\n",
            "Test accuracy: 0.7605042016806722\n",
            "Kappa score: 0.5114872164205977\n",
            "Confusion matrix:\n",
            " [[ 73  34]\n",
            " [ 23 108]]\n"
          ]
        },
        {
          "output_type": "stream",
          "name": "stderr",
          "text": [
            " 61%|██████    | 61/100 [00:01<00:00, 47.23it/s]\n"
          ]
        },
        {
          "output_type": "stream",
          "name": "stdout",
          "text": [
            "\tEarly stopping\n",
            "Hidden layer: 32\n",
            "Activation: 0.3\n",
            "Entropy: 0.1\n",
            "Ridge: 0.5\n",
            "Spline order: 5\n",
            "Test accuracy: 0.7647058823529411\n",
            "Kappa score: 0.5245772989940787\n",
            "Confusion matrix:\n",
            " [[ 79  28]\n",
            " [ 28 103]]\n"
          ]
        },
        {
          "output_type": "stream",
          "name": "stderr",
          "text": [
            "100%|██████████| 100/100 [00:02<00:00, 36.22it/s]\n"
          ]
        },
        {
          "output_type": "stream",
          "name": "stdout",
          "text": [
            "Hidden layer: 32\n",
            "Activation: 0.3\n",
            "Entropy: 0.1\n",
            "Ridge: 0.7\n",
            "Spline order: 3\n",
            "Test accuracy: 0.5882352941176471\n",
            "Kappa score: 0.15498876892978775\n",
            "Confusion matrix:\n",
            " [[49 58]\n",
            " [40 91]]\n"
          ]
        },
        {
          "output_type": "stream",
          "name": "stderr",
          "text": [
            "100%|██████████| 100/100 [00:01<00:00, 52.75it/s]\n"
          ]
        },
        {
          "output_type": "stream",
          "name": "stdout",
          "text": [
            "Hidden layer: 32\n",
            "Activation: 0.3\n",
            "Entropy: 0.1\n",
            "Ridge: 0.7\n",
            "Spline order: 5\n",
            "Test accuracy: 0.7184873949579832\n",
            "Kappa score: 0.4125838060856112\n",
            "Confusion matrix:\n",
            " [[ 55  52]\n",
            " [ 15 116]]\n"
          ]
        },
        {
          "output_type": "stream",
          "name": "stderr",
          "text": [
            " 60%|██████    | 60/100 [00:01<00:00, 52.32it/s]\n"
          ]
        },
        {
          "output_type": "stream",
          "name": "stdout",
          "text": [
            "\tEarly stopping\n",
            "Hidden layer: 32\n",
            "Activation: 0.3\n",
            "Entropy: 0.3\n",
            "Ridge: 0.1\n",
            "Spline order: 3\n",
            "Test accuracy: 0.6512605042016807\n",
            "Kappa score: 0.2748696865134719\n",
            "Confusion matrix:\n",
            " [[ 49  58]\n",
            " [ 25 106]]\n"
          ]
        },
        {
          "output_type": "stream",
          "name": "stderr",
          "text": [
            "100%|██████████| 100/100 [00:02<00:00, 44.67it/s]\n"
          ]
        },
        {
          "output_type": "stream",
          "name": "stdout",
          "text": [
            "Hidden layer: 32\n",
            "Activation: 0.3\n",
            "Entropy: 0.3\n",
            "Ridge: 0.1\n",
            "Spline order: 5\n",
            "Test accuracy: 0.773109243697479\n",
            "Kappa score: 0.5261411400339208\n",
            "Confusion matrix:\n",
            " [[ 61  46]\n",
            " [  8 123]]\n"
          ]
        },
        {
          "output_type": "stream",
          "name": "stderr",
          "text": [
            " 63%|██████▎   | 63/100 [00:01<00:00, 51.86it/s]\n"
          ]
        },
        {
          "output_type": "stream",
          "name": "stdout",
          "text": [
            "\tEarly stopping\n",
            "Hidden layer: 32\n",
            "Activation: 0.3\n",
            "Entropy: 0.3\n",
            "Ridge: 0.3\n",
            "Spline order: 3\n",
            "Test accuracy: 0.7941176470588235\n",
            "Kappa score: 0.5771266951918195\n",
            "Confusion matrix:\n",
            " [[ 73  34]\n",
            " [ 15 116]]\n"
          ]
        },
        {
          "output_type": "stream",
          "name": "stderr",
          "text": [
            "100%|██████████| 100/100 [00:01<00:00, 52.65it/s]\n"
          ]
        },
        {
          "output_type": "stream",
          "name": "stdout",
          "text": [
            "Hidden layer: 32\n",
            "Activation: 0.3\n",
            "Entropy: 0.3\n",
            "Ridge: 0.3\n",
            "Spline order: 5\n",
            "Test accuracy: 0.7647058823529411\n",
            "Kappa score: 0.5085908118870289\n",
            "Confusion matrix:\n",
            " [[ 60  47]\n",
            " [  9 122]]\n"
          ]
        },
        {
          "output_type": "stream",
          "name": "stderr",
          "text": [
            "100%|██████████| 100/100 [00:02<00:00, 46.38it/s]\n"
          ]
        },
        {
          "output_type": "stream",
          "name": "stdout",
          "text": [
            "Hidden layer: 32\n",
            "Activation: 0.3\n",
            "Entropy: 0.3\n",
            "Ridge: 0.5\n",
            "Spline order: 3\n",
            "Test accuracy: 0.6722689075630253\n",
            "Kappa score: 0.3019478077761901\n",
            "Confusion matrix:\n",
            " [[ 38  69]\n",
            " [  9 122]]\n"
          ]
        },
        {
          "output_type": "stream",
          "name": "stderr",
          "text": [
            "100%|██████████| 100/100 [00:02<00:00, 37.51it/s]\n"
          ]
        },
        {
          "output_type": "stream",
          "name": "stdout",
          "text": [
            "Hidden layer: 32\n",
            "Activation: 0.3\n",
            "Entropy: 0.3\n",
            "Ridge: 0.5\n",
            "Spline order: 5\n",
            "Test accuracy: 0.7563025210084033\n",
            "Kappa score: 0.4910404837401371\n",
            "Confusion matrix:\n",
            " [[ 59  48]\n",
            " [ 10 121]]\n"
          ]
        },
        {
          "output_type": "stream",
          "name": "stderr",
          "text": [
            "100%|██████████| 100/100 [00:01<00:00, 52.56it/s]\n"
          ]
        },
        {
          "output_type": "stream",
          "name": "stdout",
          "text": [
            "Hidden layer: 32\n",
            "Activation: 0.3\n",
            "Entropy: 0.3\n",
            "Ridge: 0.7\n",
            "Spline order: 3\n",
            "Test accuracy: 0.7857142857142857\n",
            "Kappa score: 0.5520702634880803\n",
            "Confusion matrix:\n",
            " [[ 62  45]\n",
            " [  6 125]]\n"
          ]
        },
        {
          "output_type": "stream",
          "name": "stderr",
          "text": [
            "100%|██████████| 100/100 [00:01<00:00, 52.63it/s]\n"
          ]
        },
        {
          "output_type": "stream",
          "name": "stdout",
          "text": [
            "Hidden layer: 32\n",
            "Activation: 0.3\n",
            "Entropy: 0.3\n",
            "Ridge: 0.7\n",
            "Spline order: 5\n",
            "Test accuracy: 0.7815126050420168\n",
            "Kappa score: 0.5531807350711243\n",
            "Confusion matrix:\n",
            " [[ 74  33]\n",
            " [ 19 112]]\n"
          ]
        },
        {
          "output_type": "stream",
          "name": "stderr",
          "text": [
            "100%|██████████| 100/100 [00:02<00:00, 37.38it/s]\n"
          ]
        },
        {
          "output_type": "stream",
          "name": "stdout",
          "text": [
            "Hidden layer: 32\n",
            "Activation: 0.3\n",
            "Entropy: 0.5\n",
            "Ridge: 0.1\n",
            "Spline order: 3\n",
            "Test accuracy: 0.7563025210084033\n",
            "Kappa score: 0.49902010597372437\n",
            "Confusion matrix:\n",
            " [[ 68  39]\n",
            " [ 19 112]]\n"
          ]
        },
        {
          "output_type": "stream",
          "name": "stderr",
          "text": [
            " 58%|█████▊    | 58/100 [00:01<00:01, 33.24it/s]\n"
          ]
        },
        {
          "output_type": "stream",
          "name": "stdout",
          "text": [
            "\tEarly stopping\n",
            "Hidden layer: 32\n",
            "Activation: 0.3\n",
            "Entropy: 0.5\n",
            "Ridge: 0.1\n",
            "Spline order: 5\n",
            "Test accuracy: 0.7857142857142857\n",
            "Kappa score: 0.5583290881304126\n",
            "Confusion matrix:\n",
            " [[ 70  37]\n",
            " [ 14 117]]\n"
          ]
        },
        {
          "output_type": "stream",
          "name": "stderr",
          "text": [
            "100%|██████████| 100/100 [00:02<00:00, 45.98it/s]\n"
          ]
        },
        {
          "output_type": "stream",
          "name": "stdout",
          "text": [
            "Hidden layer: 32\n",
            "Activation: 0.3\n",
            "Entropy: 0.5\n",
            "Ridge: 0.3\n",
            "Spline order: 3\n",
            "Test accuracy: 0.542016806722689\n",
            "Kappa score: 0.111879493324204\n",
            "Confusion matrix:\n",
            " [[77 30]\n",
            " [79 52]]\n"
          ]
        },
        {
          "output_type": "stream",
          "name": "stderr",
          "text": [
            "100%|██████████| 100/100 [00:02<00:00, 38.39it/s]\n"
          ]
        },
        {
          "output_type": "stream",
          "name": "stdout",
          "text": [
            "Hidden layer: 32\n",
            "Activation: 0.3\n",
            "Entropy: 0.5\n",
            "Ridge: 0.3\n",
            "Spline order: 5\n",
            "Test accuracy: 0.5840336134453782\n",
            "Kappa score: 0.13812275952886088\n",
            "Confusion matrix:\n",
            " [[43 64]\n",
            " [35 96]]\n"
          ]
        },
        {
          "output_type": "stream",
          "name": "stderr",
          "text": [
            "100%|██████████| 100/100 [00:01<00:00, 52.70it/s]\n"
          ]
        },
        {
          "output_type": "stream",
          "name": "stdout",
          "text": [
            "Hidden layer: 32\n",
            "Activation: 0.3\n",
            "Entropy: 0.5\n",
            "Ridge: 0.5\n",
            "Spline order: 3\n",
            "Test accuracy: 0.7184873949579832\n",
            "Kappa score: 0.43167724000285124\n",
            "Confusion matrix:\n",
            " [[74 33]\n",
            " [34 97]]\n"
          ]
        },
        {
          "output_type": "stream",
          "name": "stderr",
          "text": [
            "100%|██████████| 100/100 [00:01<00:00, 52.66it/s]\n"
          ]
        },
        {
          "output_type": "stream",
          "name": "stdout",
          "text": [
            "Hidden layer: 32\n",
            "Activation: 0.3\n",
            "Entropy: 0.5\n",
            "Ridge: 0.5\n",
            "Spline order: 5\n",
            "Test accuracy: 0.6848739495798319\n",
            "Kappa score: 0.34820711312349373\n",
            "Confusion matrix:\n",
            " [[ 56  51]\n",
            " [ 24 107]]\n"
          ]
        },
        {
          "output_type": "stream",
          "name": "stderr",
          "text": [
            "100%|██████████| 100/100 [00:01<00:00, 53.33it/s]\n"
          ]
        },
        {
          "output_type": "stream",
          "name": "stdout",
          "text": [
            "Hidden layer: 32\n",
            "Activation: 0.3\n",
            "Entropy: 0.5\n",
            "Ridge: 0.7\n",
            "Spline order: 3\n",
            "Test accuracy: 0.6428571428571429\n",
            "Kappa score: 0.2651652742462768\n",
            "Confusion matrix:\n",
            " [[54 53]\n",
            " [32 99]]\n"
          ]
        },
        {
          "output_type": "stream",
          "name": "stderr",
          "text": [
            " 56%|█████▌    | 56/100 [00:01<00:00, 52.04it/s]\n"
          ]
        },
        {
          "output_type": "stream",
          "name": "stdout",
          "text": [
            "\tEarly stopping\n",
            "Hidden layer: 32\n",
            "Activation: 0.3\n",
            "Entropy: 0.5\n",
            "Ridge: 0.7\n",
            "Spline order: 5\n",
            "Test accuracy: 0.7521008403361344\n",
            "Kappa score: 0.48815338630895966\n",
            "Confusion matrix:\n",
            " [[ 65  42]\n",
            " [ 17 114]]\n"
          ]
        },
        {
          "output_type": "stream",
          "name": "stderr",
          "text": [
            "100%|██████████| 100/100 [00:03<00:00, 31.59it/s]\n"
          ]
        },
        {
          "output_type": "stream",
          "name": "stdout",
          "text": [
            "Hidden layer: 32\n",
            "Activation: 0.5\n",
            "Entropy: 0.1\n",
            "Ridge: 0.1\n",
            "Spline order: 3\n",
            "Test accuracy: 0.6386554621848739\n",
            "Kappa score: 0.24130773222625834\n",
            "Confusion matrix:\n",
            " [[ 42  65]\n",
            " [ 21 110]]\n"
          ]
        },
        {
          "output_type": "stream",
          "name": "stderr",
          "text": [
            "100%|██████████| 100/100 [00:02<00:00, 36.43it/s]\n"
          ]
        },
        {
          "output_type": "stream",
          "name": "stdout",
          "text": [
            "Hidden layer: 32\n",
            "Activation: 0.5\n",
            "Entropy: 0.1\n",
            "Ridge: 0.1\n",
            "Spline order: 5\n",
            "Test accuracy: 0.7647058823529411\n",
            "Kappa score: 0.5212987572731844\n",
            "Confusion matrix:\n",
            " [[ 75  32]\n",
            " [ 24 107]]\n"
          ]
        },
        {
          "output_type": "stream",
          "name": "stderr",
          "text": [
            " 60%|██████    | 60/100 [00:01<00:00, 45.92it/s]\n"
          ]
        },
        {
          "output_type": "stream",
          "name": "stdout",
          "text": [
            "\tEarly stopping\n",
            "Hidden layer: 32\n",
            "Activation: 0.5\n",
            "Entropy: 0.1\n",
            "Ridge: 0.3\n",
            "Spline order: 3\n",
            "Test accuracy: 0.7815126050420168\n",
            "Kappa score: 0.5436914681808126\n",
            "Confusion matrix:\n",
            " [[ 62  45]\n",
            " [  7 124]]\n"
          ]
        },
        {
          "output_type": "stream",
          "name": "stderr",
          "text": [
            " 64%|██████▍   | 64/100 [00:01<00:00, 51.36it/s]\n"
          ]
        },
        {
          "output_type": "stream",
          "name": "stdout",
          "text": [
            "\tEarly stopping\n",
            "Hidden layer: 32\n",
            "Activation: 0.5\n",
            "Entropy: 0.1\n",
            "Ridge: 0.3\n",
            "Spline order: 5\n",
            "Test accuracy: 0.7773109243697479\n",
            "Kappa score: 0.5410086602139582\n",
            "Confusion matrix:\n",
            " [[ 69  38]\n",
            " [ 15 116]]\n"
          ]
        },
        {
          "output_type": "stream",
          "name": "stderr",
          "text": [
            " 60%|██████    | 60/100 [00:01<00:00, 51.93it/s]\n"
          ]
        },
        {
          "output_type": "stream",
          "name": "stdout",
          "text": [
            "\tEarly stopping\n",
            "Hidden layer: 32\n",
            "Activation: 0.5\n",
            "Entropy: 0.1\n",
            "Ridge: 0.5\n",
            "Spline order: 3\n",
            "Test accuracy: 0.7605042016806722\n",
            "Kappa score: 0.5063678043810493\n",
            "Confusion matrix:\n",
            " [[ 67  40]\n",
            " [ 17 114]]\n"
          ]
        },
        {
          "output_type": "stream",
          "name": "stderr",
          "text": [
            "100%|██████████| 100/100 [00:01<00:00, 52.57it/s]\n"
          ]
        },
        {
          "output_type": "stream",
          "name": "stdout",
          "text": [
            "Hidden layer: 32\n",
            "Activation: 0.5\n",
            "Entropy: 0.1\n",
            "Ridge: 0.5\n",
            "Spline order: 5\n",
            "Test accuracy: 0.7689075630252101\n",
            "Kappa score: 0.5220185496238954\n",
            "Confusion matrix:\n",
            " [[ 66  41]\n",
            " [ 14 117]]\n"
          ]
        },
        {
          "output_type": "stream",
          "name": "stderr",
          "text": [
            "100%|██████████| 100/100 [00:01<00:00, 52.57it/s]\n"
          ]
        },
        {
          "output_type": "stream",
          "name": "stdout",
          "text": [
            "Hidden layer: 32\n",
            "Activation: 0.5\n",
            "Entropy: 0.1\n",
            "Ridge: 0.7\n",
            "Spline order: 3\n",
            "Test accuracy: 0.6596638655462185\n",
            "Kappa score: 0.3069954705586311\n",
            "Confusion matrix:\n",
            " [[62 45]\n",
            " [36 95]]\n"
          ]
        },
        {
          "output_type": "stream",
          "name": "stderr",
          "text": [
            " 66%|██████▌   | 66/100 [00:01<00:00, 52.08it/s]\n"
          ]
        },
        {
          "output_type": "stream",
          "name": "stdout",
          "text": [
            "\tEarly stopping\n",
            "Hidden layer: 32\n",
            "Activation: 0.5\n",
            "Entropy: 0.1\n",
            "Ridge: 0.7\n",
            "Spline order: 5\n",
            "Test accuracy: 0.6260504201680672\n",
            "Kappa score: 0.24635309186650545\n",
            "Confusion matrix:\n",
            " [[64 43]\n",
            " [46 85]]\n"
          ]
        },
        {
          "output_type": "stream",
          "name": "stderr",
          "text": [
            "100%|██████████| 100/100 [00:02<00:00, 39.76it/s]\n"
          ]
        },
        {
          "output_type": "stream",
          "name": "stdout",
          "text": [
            "Hidden layer: 32\n",
            "Activation: 0.5\n",
            "Entropy: 0.3\n",
            "Ridge: 0.1\n",
            "Spline order: 3\n",
            "Test accuracy: 0.6932773109243697\n",
            "Kappa score: 0.39221996781641366\n",
            "Confusion matrix:\n",
            " [[82 25]\n",
            " [48 83]]\n"
          ]
        },
        {
          "output_type": "stream",
          "name": "stderr",
          "text": [
            " 55%|█████▌    | 55/100 [00:01<00:01, 33.75it/s]\n"
          ]
        },
        {
          "output_type": "stream",
          "name": "stdout",
          "text": [
            "\tEarly stopping\n",
            "Hidden layer: 32\n",
            "Activation: 0.5\n",
            "Entropy: 0.3\n",
            "Ridge: 0.1\n",
            "Spline order: 5\n",
            "Test accuracy: 0.7773109243697479\n",
            "Kappa score: 0.5434011438499964\n",
            "Confusion matrix:\n",
            " [[ 72  35]\n",
            " [ 18 113]]\n"
          ]
        },
        {
          "output_type": "stream",
          "name": "stderr",
          "text": [
            " 58%|█████▊    | 58/100 [00:01<00:00, 48.53it/s]\n"
          ]
        },
        {
          "output_type": "stream",
          "name": "stdout",
          "text": [
            "\tEarly stopping\n",
            "Hidden layer: 32\n",
            "Activation: 0.5\n",
            "Entropy: 0.3\n",
            "Ridge: 0.3\n",
            "Spline order: 3\n",
            "Test accuracy: 0.773109243697479\n",
            "Kappa score: 0.5335704434927779\n",
            "Confusion matrix:\n",
            " [[ 70  37]\n",
            " [ 17 114]]\n"
          ]
        },
        {
          "output_type": "stream",
          "name": "stderr",
          "text": [
            " 58%|█████▊    | 58/100 [00:01<00:00, 51.72it/s]\n"
          ]
        },
        {
          "output_type": "stream",
          "name": "stdout",
          "text": [
            "\tEarly stopping\n",
            "Hidden layer: 32\n",
            "Activation: 0.5\n",
            "Entropy: 0.3\n",
            "Ridge: 0.3\n",
            "Spline order: 5\n",
            "Test accuracy: 0.7226890756302521\n",
            "Kappa score: 0.4218623481781376\n",
            "Confusion matrix:\n",
            " [[ 56  51]\n",
            " [ 15 116]]\n"
          ]
        },
        {
          "output_type": "stream",
          "name": "stderr",
          "text": [
            " 55%|█████▌    | 55/100 [00:01<00:00, 51.77it/s]\n"
          ]
        },
        {
          "output_type": "stream",
          "name": "stdout",
          "text": [
            "\tEarly stopping\n",
            "Hidden layer: 32\n",
            "Activation: 0.5\n",
            "Entropy: 0.3\n",
            "Ridge: 0.5\n",
            "Spline order: 3\n",
            "Test accuracy: 0.7983193277310925\n",
            "Kappa score: 0.5853959497713581\n",
            "Confusion matrix:\n",
            " [[ 73  34]\n",
            " [ 14 117]]\n"
          ]
        },
        {
          "output_type": "stream",
          "name": "stderr",
          "text": [
            " 54%|█████▍    | 54/100 [00:01<00:00, 51.83it/s]\n"
          ]
        },
        {
          "output_type": "stream",
          "name": "stdout",
          "text": [
            "\tEarly stopping\n",
            "Hidden layer: 32\n",
            "Activation: 0.5\n",
            "Entropy: 0.3\n",
            "Ridge: 0.5\n",
            "Spline order: 5\n",
            "Test accuracy: 0.7142857142857143\n",
            "Kappa score: 0.3903412943569653\n",
            "Confusion matrix:\n",
            " [[ 42  65]\n",
            " [  3 128]]\n"
          ]
        },
        {
          "output_type": "stream",
          "name": "stderr",
          "text": [
            "100%|██████████| 100/100 [00:01<00:00, 53.20it/s]\n"
          ]
        },
        {
          "output_type": "stream",
          "name": "stdout",
          "text": [
            "Hidden layer: 32\n",
            "Activation: 0.5\n",
            "Entropy: 0.3\n",
            "Ridge: 0.7\n",
            "Spline order: 3\n",
            "Test accuracy: 0.7226890756302521\n",
            "Kappa score: 0.4415926057589762\n",
            "Confusion matrix:\n",
            " [[76 31]\n",
            " [35 96]]\n"
          ]
        },
        {
          "output_type": "stream",
          "name": "stderr",
          "text": [
            " 53%|█████▎    | 53/100 [00:01<00:00, 51.68it/s]\n"
          ]
        },
        {
          "output_type": "stream",
          "name": "stdout",
          "text": [
            "\tEarly stopping\n",
            "Hidden layer: 32\n",
            "Activation: 0.5\n",
            "Entropy: 0.3\n",
            "Ridge: 0.7\n",
            "Spline order: 5\n",
            "Test accuracy: 0.7605042016806722\n",
            "Kappa score: 0.49848428835489833\n",
            "Confusion matrix:\n",
            " [[ 58  49]\n",
            " [  8 123]]\n"
          ]
        },
        {
          "output_type": "stream",
          "name": "stderr",
          "text": [
            "100%|██████████| 100/100 [00:01<00:00, 52.79it/s]\n"
          ]
        },
        {
          "output_type": "stream",
          "name": "stdout",
          "text": [
            "Hidden layer: 32\n",
            "Activation: 0.5\n",
            "Entropy: 0.5\n",
            "Ridge: 0.1\n",
            "Spline order: 3\n",
            "Test accuracy: 0.8319327731092437\n",
            "Kappa score: 0.654496624809465\n",
            "Confusion matrix:\n",
            " [[ 77  30]\n",
            " [ 10 121]]\n"
          ]
        },
        {
          "output_type": "stream",
          "name": "stderr",
          "text": [
            "100%|██████████| 100/100 [00:02<00:00, 35.68it/s]\n"
          ]
        },
        {
          "output_type": "stream",
          "name": "stdout",
          "text": [
            "Hidden layer: 32\n",
            "Activation: 0.5\n",
            "Entropy: 0.5\n",
            "Ridge: 0.1\n",
            "Spline order: 5\n",
            "Test accuracy: 0.7815126050420168\n",
            "Kappa score: 0.5461013716716789\n",
            "Confusion matrix:\n",
            " [[ 65  42]\n",
            " [ 10 121]]\n"
          ]
        },
        {
          "output_type": "stream",
          "name": "stderr",
          "text": [
            "100%|██████████| 100/100 [00:02<00:00, 41.72it/s]\n"
          ]
        },
        {
          "output_type": "stream",
          "name": "stdout",
          "text": [
            "Hidden layer: 32\n",
            "Activation: 0.5\n",
            "Entropy: 0.5\n",
            "Ridge: 0.3\n",
            "Spline order: 3\n",
            "Test accuracy: 0.6428571428571429\n",
            "Kappa score: 0.2600043894944766\n",
            "Confusion matrix:\n",
            " [[ 50  57]\n",
            " [ 28 103]]\n"
          ]
        },
        {
          "output_type": "stream",
          "name": "stderr",
          "text": [
            "100%|██████████| 100/100 [00:01<00:00, 52.65it/s]\n"
          ]
        },
        {
          "output_type": "stream",
          "name": "stdout",
          "text": [
            "Hidden layer: 32\n",
            "Activation: 0.5\n",
            "Entropy: 0.5\n",
            "Ridge: 0.3\n",
            "Spline order: 5\n",
            "Test accuracy: 0.7100840336134454\n",
            "Kappa score: 0.41169305724725946\n",
            "Confusion matrix:\n",
            " [[70 37]\n",
            " [32 99]]\n"
          ]
        },
        {
          "output_type": "stream",
          "name": "stderr",
          "text": [
            " 61%|██████    | 61/100 [00:01<00:00, 51.80it/s]\n"
          ]
        },
        {
          "output_type": "stream",
          "name": "stdout",
          "text": [
            "\tEarly stopping\n",
            "Hidden layer: 32\n",
            "Activation: 0.5\n",
            "Entropy: 0.5\n",
            "Ridge: 0.5\n",
            "Spline order: 3\n",
            "Test accuracy: 0.5126050420168067\n",
            "Kappa score: -0.010763710917478297\n",
            "Confusion matrix:\n",
            " [[34 73]\n",
            " [43 88]]\n"
          ]
        },
        {
          "output_type": "stream",
          "name": "stderr",
          "text": [
            "100%|██████████| 100/100 [00:01<00:00, 52.29it/s]\n"
          ]
        },
        {
          "output_type": "stream",
          "name": "stdout",
          "text": [
            "Hidden layer: 32\n",
            "Activation: 0.5\n",
            "Entropy: 0.5\n",
            "Ridge: 0.5\n",
            "Spline order: 5\n",
            "Test accuracy: 0.7226890756302521\n",
            "Kappa score: 0.4198123661077048\n",
            "Confusion matrix:\n",
            " [[ 54  53]\n",
            " [ 13 118]]\n"
          ]
        },
        {
          "output_type": "stream",
          "name": "stderr",
          "text": [
            " 65%|██████▌   | 65/100 [00:01<00:00, 50.49it/s]\n"
          ]
        },
        {
          "output_type": "stream",
          "name": "stdout",
          "text": [
            "\tEarly stopping\n",
            "Hidden layer: 32\n",
            "Activation: 0.5\n",
            "Entropy: 0.5\n",
            "Ridge: 0.7\n",
            "Spline order: 3\n",
            "Test accuracy: 0.726890756302521\n",
            "Kappa score: 0.42503530810971535\n",
            "Confusion matrix:\n",
            " [[ 51  56]\n",
            " [  9 122]]\n"
          ]
        },
        {
          "output_type": "stream",
          "name": "stderr",
          "text": [
            "100%|██████████| 100/100 [00:01<00:00, 52.85it/s]\n"
          ]
        },
        {
          "output_type": "stream",
          "name": "stdout",
          "text": [
            "Hidden layer: 32\n",
            "Activation: 0.5\n",
            "Entropy: 0.5\n",
            "Ridge: 0.7\n",
            "Spline order: 5\n",
            "Test accuracy: 0.7689075630252101\n",
            "Kappa score: 0.5152210947337235\n",
            "Confusion matrix:\n",
            " [[ 58  49]\n",
            " [  6 125]]\n"
          ]
        },
        {
          "output_type": "stream",
          "name": "stderr",
          "text": [
            "100%|██████████| 100/100 [00:02<00:00, 41.12it/s]\n"
          ]
        },
        {
          "output_type": "stream",
          "name": "stdout",
          "text": [
            "Hidden layer: 64\n",
            "Activation: 0.1\n",
            "Entropy: 0.1\n",
            "Ridge: 0.1\n",
            "Spline order: 3\n",
            "Test accuracy: 0.7941176470588235\n",
            "Kappa score: 0.5793232811485463\n",
            "Confusion matrix:\n",
            " [[ 76  31]\n",
            " [ 18 113]]\n"
          ]
        },
        {
          "output_type": "stream",
          "name": "stderr",
          "text": [
            "100%|██████████| 100/100 [00:02<00:00, 36.69it/s]\n"
          ]
        },
        {
          "output_type": "stream",
          "name": "stdout",
          "text": [
            "Hidden layer: 64\n",
            "Activation: 0.1\n",
            "Entropy: 0.1\n",
            "Ridge: 0.1\n",
            "Spline order: 5\n",
            "Test accuracy: 0.7310924369747899\n",
            "Kappa score: 0.43539180072651784\n",
            "Confusion matrix:\n",
            " [[ 53  54]\n",
            " [ 10 121]]\n"
          ]
        },
        {
          "output_type": "stream",
          "name": "stderr",
          "text": [
            " 59%|█████▉    | 59/100 [00:01<00:00, 51.36it/s]\n"
          ]
        },
        {
          "output_type": "stream",
          "name": "stdout",
          "text": [
            "\tEarly stopping\n",
            "Hidden layer: 64\n",
            "Activation: 0.1\n",
            "Entropy: 0.1\n",
            "Ridge: 0.3\n",
            "Spline order: 3\n",
            "Test accuracy: 0.6596638655462185\n",
            "Kappa score: 0.31759292035398234\n",
            "Confusion matrix:\n",
            " [[71 36]\n",
            " [45 86]]\n"
          ]
        },
        {
          "output_type": "stream",
          "name": "stderr",
          "text": [
            "100%|██████████| 100/100 [00:01<00:00, 52.18it/s]\n"
          ]
        },
        {
          "output_type": "stream",
          "name": "stdout",
          "text": [
            "Hidden layer: 64\n",
            "Activation: 0.1\n",
            "Entropy: 0.1\n",
            "Ridge: 0.3\n",
            "Spline order: 5\n",
            "Test accuracy: 0.8403361344537815\n",
            "Kappa score: 0.6729113924050634\n",
            "Confusion matrix:\n",
            " [[ 80  27]\n",
            " [ 11 120]]\n"
          ]
        },
        {
          "output_type": "stream",
          "name": "stderr",
          "text": [
            "100%|██████████| 100/100 [00:01<00:00, 52.64it/s]\n"
          ]
        },
        {
          "output_type": "stream",
          "name": "stdout",
          "text": [
            "Hidden layer: 64\n",
            "Activation: 0.1\n",
            "Entropy: 0.1\n",
            "Ridge: 0.5\n",
            "Spline order: 3\n",
            "Test accuracy: 0.7815126050420168\n",
            "Kappa score: 0.5476938820261676\n",
            "Confusion matrix:\n",
            " [[ 67  40]\n",
            " [ 12 119]]\n"
          ]
        },
        {
          "output_type": "stream",
          "name": "stderr",
          "text": [
            "100%|██████████| 100/100 [00:01<00:00, 52.80it/s]\n"
          ]
        },
        {
          "output_type": "stream",
          "name": "stdout",
          "text": [
            "Hidden layer: 64\n",
            "Activation: 0.1\n",
            "Entropy: 0.1\n",
            "Ridge: 0.5\n",
            "Spline order: 5\n",
            "Test accuracy: 0.7941176470588235\n",
            "Kappa score: 0.5793232811485463\n",
            "Confusion matrix:\n",
            " [[ 76  31]\n",
            " [ 18 113]]\n"
          ]
        },
        {
          "output_type": "stream",
          "name": "stderr",
          "text": [
            "100%|██████████| 100/100 [00:02<00:00, 49.98it/s]\n"
          ]
        },
        {
          "output_type": "stream",
          "name": "stdout",
          "text": [
            "Hidden layer: 64\n",
            "Activation: 0.1\n",
            "Entropy: 0.1\n",
            "Ridge: 0.7\n",
            "Spline order: 3\n",
            "Test accuracy: 0.6680672268907563\n",
            "Kappa score: 0.33217304823470917\n",
            "Confusion matrix:\n",
            " [[70 37]\n",
            " [42 89]]\n"
          ]
        },
        {
          "output_type": "stream",
          "name": "stderr",
          "text": [
            " 57%|█████▋    | 57/100 [00:01<00:01, 35.64it/s]\n"
          ]
        },
        {
          "output_type": "stream",
          "name": "stdout",
          "text": [
            "\tEarly stopping\n",
            "Hidden layer: 64\n",
            "Activation: 0.1\n",
            "Entropy: 0.1\n",
            "Ridge: 0.7\n",
            "Spline order: 5\n",
            "Test accuracy: 0.7857142857142857\n",
            "Kappa score: 0.5536515407810547\n",
            "Confusion matrix:\n",
            " [[ 64  43]\n",
            " [  8 123]]\n"
          ]
        },
        {
          "output_type": "stream",
          "name": "stderr",
          "text": [
            " 58%|█████▊    | 58/100 [00:01<00:01, 39.76it/s]\n"
          ]
        },
        {
          "output_type": "stream",
          "name": "stdout",
          "text": [
            "\tEarly stopping\n",
            "Hidden layer: 64\n",
            "Activation: 0.1\n",
            "Entropy: 0.3\n",
            "Ridge: 0.1\n",
            "Spline order: 3\n",
            "Test accuracy: 0.7352941176470589\n",
            "Kappa score: 0.4505679736167094\n",
            "Confusion matrix:\n",
            " [[ 60  47]\n",
            " [ 16 115]]\n"
          ]
        },
        {
          "output_type": "stream",
          "name": "stderr",
          "text": [
            "100%|██████████| 100/100 [00:02<00:00, 44.89it/s]\n"
          ]
        },
        {
          "output_type": "stream",
          "name": "stdout",
          "text": [
            "Hidden layer: 64\n",
            "Activation: 0.1\n",
            "Entropy: 0.3\n",
            "Ridge: 0.1\n",
            "Spline order: 5\n",
            "Test accuracy: 0.7815126050420168\n",
            "Kappa score: 0.5453009038136527\n",
            "Confusion matrix:\n",
            " [[ 64  43]\n",
            " [  9 122]]\n"
          ]
        },
        {
          "output_type": "stream",
          "name": "stderr",
          "text": [
            "100%|██████████| 100/100 [00:01<00:00, 52.54it/s]\n"
          ]
        },
        {
          "output_type": "stream",
          "name": "stdout",
          "text": [
            "Hidden layer: 64\n",
            "Activation: 0.1\n",
            "Entropy: 0.3\n",
            "Ridge: 0.3\n",
            "Spline order: 3\n",
            "Test accuracy: 0.6932773109243697\n",
            "Kappa score: 0.382894082545997\n",
            "Confusion matrix:\n",
            " [[73 34]\n",
            " [39 92]]\n"
          ]
        },
        {
          "output_type": "stream",
          "name": "stderr",
          "text": [
            "100%|██████████| 100/100 [00:01<00:00, 52.24it/s]\n"
          ]
        },
        {
          "output_type": "stream",
          "name": "stdout",
          "text": [
            "Hidden layer: 64\n",
            "Activation: 0.1\n",
            "Entropy: 0.3\n",
            "Ridge: 0.3\n",
            "Spline order: 5\n",
            "Test accuracy: 0.726890756302521\n",
            "Kappa score: 0.43806756265891755\n",
            "Confusion matrix:\n",
            " [[ 64  43]\n",
            " [ 22 109]]\n"
          ]
        },
        {
          "output_type": "stream",
          "name": "stderr",
          "text": [
            " 62%|██████▏   | 62/100 [00:01<00:00, 51.86it/s]\n"
          ]
        },
        {
          "output_type": "stream",
          "name": "stdout",
          "text": [
            "\tEarly stopping\n",
            "Hidden layer: 64\n",
            "Activation: 0.1\n",
            "Entropy: 0.3\n",
            "Ridge: 0.5\n",
            "Spline order: 3\n",
            "Test accuracy: 0.7310924369747899\n",
            "Kappa score: 0.4363945829941537\n",
            "Confusion matrix:\n",
            " [[ 54  53]\n",
            " [ 11 120]]\n"
          ]
        },
        {
          "output_type": "stream",
          "name": "stderr",
          "text": [
            "100%|██████████| 100/100 [00:01<00:00, 52.27it/s]\n"
          ]
        },
        {
          "output_type": "stream",
          "name": "stdout",
          "text": [
            "Hidden layer: 64\n",
            "Activation: 0.1\n",
            "Entropy: 0.3\n",
            "Ridge: 0.5\n",
            "Spline order: 5\n",
            "Test accuracy: 0.6890756302521008\n",
            "Kappa score: 0.36633805857379287\n",
            "Confusion matrix:\n",
            " [[65 42]\n",
            " [32 99]]\n"
          ]
        },
        {
          "output_type": "stream",
          "name": "stderr",
          "text": [
            "100%|██████████| 100/100 [00:02<00:00, 37.16it/s]\n"
          ]
        },
        {
          "output_type": "stream",
          "name": "stdout",
          "text": [
            "Hidden layer: 64\n",
            "Activation: 0.1\n",
            "Entropy: 0.3\n",
            "Ridge: 0.7\n",
            "Spline order: 3\n",
            "Test accuracy: 0.773109243697479\n",
            "Kappa score: 0.5343815665531484\n",
            "Confusion matrix:\n",
            " [[ 71  36]\n",
            " [ 18 113]]\n"
          ]
        },
        {
          "output_type": "stream",
          "name": "stderr",
          "text": [
            " 52%|█████▏    | 52/100 [00:01<00:01, 38.34it/s]\n"
          ]
        },
        {
          "output_type": "stream",
          "name": "stdout",
          "text": [
            "\tEarly stopping\n",
            "Hidden layer: 64\n",
            "Activation: 0.1\n",
            "Entropy: 0.3\n",
            "Ridge: 0.7\n",
            "Spline order: 5\n",
            "Test accuracy: 0.7563025210084033\n",
            "Kappa score: 0.5016246660408694\n",
            "Confusion matrix:\n",
            " [[ 71  36]\n",
            " [ 22 109]]\n"
          ]
        },
        {
          "output_type": "stream",
          "name": "stderr",
          "text": [
            "100%|██████████| 100/100 [00:01<00:00, 53.04it/s]\n"
          ]
        },
        {
          "output_type": "stream",
          "name": "stdout",
          "text": [
            "Hidden layer: 64\n",
            "Activation: 0.1\n",
            "Entropy: 0.5\n",
            "Ridge: 0.1\n",
            "Spline order: 3\n",
            "Test accuracy: 0.6470588235294118\n",
            "Kappa score: 0.26288621783054344\n",
            "Confusion matrix:\n",
            " [[ 46  61]\n",
            " [ 23 108]]\n"
          ]
        },
        {
          "output_type": "stream",
          "name": "stderr",
          "text": [
            "100%|██████████| 100/100 [00:02<00:00, 45.23it/s]\n"
          ]
        },
        {
          "output_type": "stream",
          "name": "stdout",
          "text": [
            "Hidden layer: 64\n",
            "Activation: 0.1\n",
            "Entropy: 0.5\n",
            "Ridge: 0.1\n",
            "Spline order: 5\n",
            "Test accuracy: 0.7857142857142857\n",
            "Kappa score: 0.5567808369239757\n",
            "Confusion matrix:\n",
            " [[ 68  39]\n",
            " [ 12 119]]\n"
          ]
        },
        {
          "output_type": "stream",
          "name": "stderr",
          "text": [
            "100%|██████████| 100/100 [00:01<00:00, 51.94it/s]\n"
          ]
        },
        {
          "output_type": "stream",
          "name": "stdout",
          "text": [
            "Hidden layer: 64\n",
            "Activation: 0.1\n",
            "Entropy: 0.5\n",
            "Ridge: 0.3\n",
            "Spline order: 3\n",
            "Test accuracy: 0.6848739495798319\n",
            "Kappa score: 0.3459142543056064\n",
            "Confusion matrix:\n",
            " [[ 54  53]\n",
            " [ 22 109]]\n"
          ]
        },
        {
          "output_type": "stream",
          "name": "stderr",
          "text": [
            " 59%|█████▉    | 59/100 [00:01<00:00, 52.46it/s]\n"
          ]
        },
        {
          "output_type": "stream",
          "name": "stdout",
          "text": [
            "\tEarly stopping\n",
            "Hidden layer: 64\n",
            "Activation: 0.1\n",
            "Entropy: 0.5\n",
            "Ridge: 0.3\n",
            "Spline order: 5\n",
            "Test accuracy: 0.6722689075630253\n",
            "Kappa score: 0.32509270704573556\n",
            "Confusion matrix:\n",
            " [[ 57  50]\n",
            " [ 28 103]]\n"
          ]
        },
        {
          "output_type": "stream",
          "name": "stderr",
          "text": [
            " 53%|█████▎    | 53/100 [00:01<00:00, 51.29it/s]\n"
          ]
        },
        {
          "output_type": "stream",
          "name": "stdout",
          "text": [
            "\tEarly stopping\n",
            "Hidden layer: 64\n",
            "Activation: 0.1\n",
            "Entropy: 0.5\n",
            "Ridge: 0.5\n",
            "Spline order: 3\n",
            "Test accuracy: 0.7815126050420168\n",
            "Kappa score: 0.550061804697157\n",
            "Confusion matrix:\n",
            " [[ 70  37]\n",
            " [ 15 116]]\n"
          ]
        },
        {
          "output_type": "stream",
          "name": "stderr",
          "text": [
            "100%|██████████| 100/100 [00:02<00:00, 46.35it/s]\n"
          ]
        },
        {
          "output_type": "stream",
          "name": "stdout",
          "text": [
            "Hidden layer: 64\n",
            "Activation: 0.1\n",
            "Entropy: 0.5\n",
            "Ridge: 0.5\n",
            "Spline order: 5\n",
            "Test accuracy: 0.6722689075630253\n",
            "Kappa score: 0.32154082303925147\n",
            "Confusion matrix:\n",
            " [[ 54  53]\n",
            " [ 25 106]]\n"
          ]
        },
        {
          "output_type": "stream",
          "name": "stderr",
          "text": [
            "100%|██████████| 100/100 [00:02<00:00, 39.73it/s]\n"
          ]
        },
        {
          "output_type": "stream",
          "name": "stdout",
          "text": [
            "Hidden layer: 64\n",
            "Activation: 0.1\n",
            "Entropy: 0.5\n",
            "Ridge: 0.7\n",
            "Spline order: 3\n",
            "Test accuracy: 0.3487394957983193\n",
            "Kappa score: -0.30141818951527544\n",
            "Confusion matrix:\n",
            " [[36 71]\n",
            " [84 47]]\n"
          ]
        },
        {
          "output_type": "stream",
          "name": "stderr",
          "text": [
            " 57%|█████▋    | 57/100 [00:01<00:00, 51.68it/s]\n"
          ]
        },
        {
          "output_type": "stream",
          "name": "stdout",
          "text": [
            "\tEarly stopping\n",
            "Hidden layer: 64\n",
            "Activation: 0.1\n",
            "Entropy: 0.5\n",
            "Ridge: 0.7\n",
            "Spline order: 5\n",
            "Test accuracy: 0.6932773109243697\n",
            "Kappa score: 0.3507959046409088\n",
            "Confusion matrix:\n",
            " [[ 44  63]\n",
            " [ 10 121]]\n"
          ]
        },
        {
          "output_type": "stream",
          "name": "stderr",
          "text": [
            " 59%|█████▉    | 59/100 [00:01<00:00, 51.49it/s]\n"
          ]
        },
        {
          "output_type": "stream",
          "name": "stdout",
          "text": [
            "\tEarly stopping\n",
            "Hidden layer: 64\n",
            "Activation: 0.3\n",
            "Entropy: 0.1\n",
            "Ridge: 0.1\n",
            "Spline order: 3\n",
            "Test accuracy: 0.7058823529411765\n",
            "Kappa score: 0.37467157120336314\n",
            "Confusion matrix:\n",
            " [[ 43  64]\n",
            " [  6 125]]\n"
          ]
        },
        {
          "output_type": "stream",
          "name": "stderr",
          "text": [
            "100%|██████████| 100/100 [00:01<00:00, 52.51it/s]\n"
          ]
        },
        {
          "output_type": "stream",
          "name": "stdout",
          "text": [
            "Hidden layer: 64\n",
            "Activation: 0.3\n",
            "Entropy: 0.1\n",
            "Ridge: 0.1\n",
            "Spline order: 5\n",
            "Test accuracy: 0.7899159663865546\n",
            "Kappa score: 0.5658518788763225\n",
            "Confusion matrix:\n",
            " [[ 69  38]\n",
            " [ 12 119]]\n"
          ]
        },
        {
          "output_type": "stream",
          "name": "stderr",
          "text": [
            "100%|██████████| 100/100 [00:02<00:00, 44.59it/s]\n"
          ]
        },
        {
          "output_type": "stream",
          "name": "stdout",
          "text": [
            "Hidden layer: 64\n",
            "Activation: 0.3\n",
            "Entropy: 0.1\n",
            "Ridge: 0.3\n",
            "Spline order: 3\n",
            "Test accuracy: 0.7773109243697479\n",
            "Kappa score: 0.5361476796352136\n",
            "Confusion matrix:\n",
            " [[ 63  44]\n",
            " [  9 122]]\n"
          ]
        },
        {
          "output_type": "stream",
          "name": "stderr",
          "text": [
            "100%|██████████| 100/100 [00:01<00:00, 52.79it/s]\n"
          ]
        },
        {
          "output_type": "stream",
          "name": "stdout",
          "text": [
            "Hidden layer: 64\n",
            "Activation: 0.3\n",
            "Entropy: 0.1\n",
            "Ridge: 0.3\n",
            "Spline order: 5\n",
            "Test accuracy: 0.7773109243697479\n",
            "Kappa score: 0.548887776267792\n",
            "Confusion matrix:\n",
            " [[ 79  28]\n",
            " [ 25 106]]\n"
          ]
        },
        {
          "output_type": "stream",
          "name": "stderr",
          "text": [
            "100%|██████████| 100/100 [00:02<00:00, 42.21it/s]\n"
          ]
        },
        {
          "output_type": "stream",
          "name": "stdout",
          "text": [
            "Hidden layer: 64\n",
            "Activation: 0.3\n",
            "Entropy: 0.1\n",
            "Ridge: 0.5\n",
            "Spline order: 3\n",
            "Test accuracy: 0.7100840336134454\n",
            "Kappa score: 0.3982411139611579\n",
            "Confusion matrix:\n",
            " [[ 57  50]\n",
            " [ 19 112]]\n"
          ]
        },
        {
          "output_type": "stream",
          "name": "stderr",
          "text": [
            "100%|██████████| 100/100 [00:02<00:00, 42.96it/s]\n"
          ]
        },
        {
          "output_type": "stream",
          "name": "stdout",
          "text": [
            "Hidden layer: 64\n",
            "Activation: 0.3\n",
            "Entropy: 0.1\n",
            "Ridge: 0.5\n",
            "Spline order: 5\n",
            "Test accuracy: 0.773109243697479\n",
            "Kappa score: 0.5286437321205897\n",
            "Confusion matrix:\n",
            " [[ 64  43]\n",
            " [ 11 120]]\n"
          ]
        },
        {
          "output_type": "stream",
          "name": "stderr",
          "text": [
            "100%|██████████| 100/100 [00:01<00:00, 52.36it/s]\n"
          ]
        },
        {
          "output_type": "stream",
          "name": "stdout",
          "text": [
            "Hidden layer: 64\n",
            "Activation: 0.3\n",
            "Entropy: 0.1\n",
            "Ridge: 0.7\n",
            "Spline order: 3\n",
            "Test accuracy: 0.5672268907563025\n",
            "Kappa score: 0.12780189283427024\n",
            "Confusion matrix:\n",
            " [[57 50]\n",
            " [53 78]]\n"
          ]
        },
        {
          "output_type": "stream",
          "name": "stderr",
          "text": [
            " 53%|█████▎    | 53/100 [00:01<00:00, 51.76it/s]\n"
          ]
        },
        {
          "output_type": "stream",
          "name": "stdout",
          "text": [
            "\tEarly stopping\n",
            "Hidden layer: 64\n",
            "Activation: 0.3\n",
            "Entropy: 0.1\n",
            "Ridge: 0.7\n",
            "Spline order: 5\n",
            "Test accuracy: 0.7436974789915967\n",
            "Kappa score: 0.4708026536414668\n",
            "Confusion matrix:\n",
            " [[ 64  43]\n",
            " [ 18 113]]\n"
          ]
        },
        {
          "output_type": "stream",
          "name": "stderr",
          "text": [
            "100%|██████████| 100/100 [00:01<00:00, 52.53it/s]\n"
          ]
        },
        {
          "output_type": "stream",
          "name": "stdout",
          "text": [
            "Hidden layer: 64\n",
            "Activation: 0.3\n",
            "Entropy: 0.3\n",
            "Ridge: 0.1\n",
            "Spline order: 3\n",
            "Test accuracy: 0.7478991596638656\n",
            "Kappa score: 0.4668856865526767\n",
            "Confusion matrix:\n",
            " [[ 51  56]\n",
            " [  4 127]]\n"
          ]
        },
        {
          "output_type": "stream",
          "name": "stderr",
          "text": [
            "100%|██████████| 100/100 [00:03<00:00, 26.43it/s]\n"
          ]
        },
        {
          "output_type": "stream",
          "name": "stdout",
          "text": [
            "Hidden layer: 64\n",
            "Activation: 0.3\n",
            "Entropy: 0.3\n",
            "Ridge: 0.1\n",
            "Spline order: 5\n",
            "Test accuracy: 0.5882352941176471\n",
            "Kappa score: 0.19019512533851812\n",
            "Confusion matrix:\n",
            " [[74 33]\n",
            " [65 66]]\n"
          ]
        },
        {
          "output_type": "stream",
          "name": "stderr",
          "text": [
            "100%|██████████| 100/100 [00:06<00:00, 14.78it/s]\n"
          ]
        },
        {
          "output_type": "stream",
          "name": "stdout",
          "text": [
            "Hidden layer: 64\n",
            "Activation: 0.3\n",
            "Entropy: 0.3\n",
            "Ridge: 0.3\n",
            "Spline order: 3\n",
            "Test accuracy: 0.7142857142857143\n",
            "Kappa score: 0.40955855527179863\n",
            "Confusion matrix:\n",
            " [[ 60  47]\n",
            " [ 21 110]]\n"
          ]
        },
        {
          "output_type": "stream",
          "name": "stderr",
          "text": [
            " 58%|█████▊    | 58/100 [00:01<00:01, 33.74it/s]\n"
          ]
        },
        {
          "output_type": "stream",
          "name": "stdout",
          "text": [
            "\tEarly stopping\n",
            "Hidden layer: 64\n",
            "Activation: 0.3\n",
            "Entropy: 0.3\n",
            "Ridge: 0.3\n",
            "Spline order: 5\n",
            "Test accuracy: 0.7689075630252101\n",
            "Kappa score: 0.5253462905214301\n",
            "Confusion matrix:\n",
            " [[ 70  37]\n",
            " [ 18 113]]\n"
          ]
        },
        {
          "output_type": "stream",
          "name": "stderr",
          "text": [
            "100%|██████████| 100/100 [00:01<00:00, 52.43it/s]\n"
          ]
        },
        {
          "output_type": "stream",
          "name": "stdout",
          "text": [
            "Hidden layer: 64\n",
            "Activation: 0.3\n",
            "Entropy: 0.3\n",
            "Ridge: 0.5\n",
            "Spline order: 3\n",
            "Test accuracy: 0.7184873949579832\n",
            "Kappa score: 0.4030845249681815\n",
            "Confusion matrix:\n",
            " [[ 46  61]\n",
            " [  6 125]]\n"
          ]
        },
        {
          "output_type": "stream",
          "name": "stderr",
          "text": [
            "100%|██████████| 100/100 [00:05<00:00, 19.71it/s]\n"
          ]
        },
        {
          "output_type": "stream",
          "name": "stdout",
          "text": [
            "Hidden layer: 64\n",
            "Activation: 0.3\n",
            "Entropy: 0.3\n",
            "Ridge: 0.5\n",
            "Spline order: 5\n",
            "Test accuracy: 0.6932773109243697\n",
            "Kappa score: 0.34610462928114427\n",
            "Confusion matrix:\n",
            " [[ 40  67]\n",
            " [  6 125]]\n"
          ]
        },
        {
          "output_type": "stream",
          "name": "stderr",
          "text": [
            "100%|██████████| 100/100 [00:03<00:00, 30.95it/s]\n"
          ]
        },
        {
          "output_type": "stream",
          "name": "stdout",
          "text": [
            "Hidden layer: 64\n",
            "Activation: 0.3\n",
            "Entropy: 0.3\n",
            "Ridge: 0.7\n",
            "Spline order: 3\n",
            "Test accuracy: 0.7521008403361344\n",
            "Kappa score: 0.49521892299949666\n",
            "Confusion matrix:\n",
            " [[ 73  34]\n",
            " [ 25 106]]\n"
          ]
        },
        {
          "output_type": "stream",
          "name": "stderr",
          "text": [
            "100%|██████████| 100/100 [00:01<00:00, 51.75it/s]\n"
          ]
        },
        {
          "output_type": "stream",
          "name": "stdout",
          "text": [
            "Hidden layer: 64\n",
            "Activation: 0.3\n",
            "Entropy: 0.3\n",
            "Ridge: 0.7\n",
            "Spline order: 5\n",
            "Test accuracy: 0.7142857142857143\n",
            "Kappa score: 0.4011692444312883\n",
            "Confusion matrix:\n",
            " [[ 52  55]\n",
            " [ 13 118]]\n"
          ]
        },
        {
          "output_type": "stream",
          "name": "stderr",
          "text": [
            "100%|██████████| 100/100 [00:02<00:00, 45.25it/s]\n"
          ]
        },
        {
          "output_type": "stream",
          "name": "stdout",
          "text": [
            "Hidden layer: 64\n",
            "Activation: 0.3\n",
            "Entropy: 0.5\n",
            "Ridge: 0.1\n",
            "Spline order: 3\n",
            "Test accuracy: 0.6638655462184874\n",
            "Kappa score: 0.31731803513804235\n",
            "Confusion matrix:\n",
            " [[64 43]\n",
            " [37 94]]\n"
          ]
        },
        {
          "output_type": "stream",
          "name": "stderr",
          "text": [
            "100%|██████████| 100/100 [00:01<00:00, 52.31it/s]\n"
          ]
        },
        {
          "output_type": "stream",
          "name": "stdout",
          "text": [
            "Hidden layer: 64\n",
            "Activation: 0.3\n",
            "Entropy: 0.5\n",
            "Ridge: 0.1\n",
            "Spline order: 5\n",
            "Test accuracy: 0.7352941176470589\n",
            "Kappa score: 0.46006481814908173\n",
            "Confusion matrix:\n",
            " [[ 70  37]\n",
            " [ 26 105]]\n"
          ]
        },
        {
          "output_type": "stream",
          "name": "stderr",
          "text": [
            "100%|██████████| 100/100 [00:02<00:00, 49.54it/s]\n"
          ]
        },
        {
          "output_type": "stream",
          "name": "stdout",
          "text": [
            "Hidden layer: 64\n",
            "Activation: 0.3\n",
            "Entropy: 0.5\n",
            "Ridge: 0.3\n",
            "Spline order: 3\n",
            "Test accuracy: 0.8235294117647058\n",
            "Kappa score: 0.6384810126582279\n",
            "Confusion matrix:\n",
            " [[ 78  29]\n",
            " [ 13 118]]\n"
          ]
        },
        {
          "output_type": "stream",
          "name": "stderr",
          "text": [
            "100%|██████████| 100/100 [00:04<00:00, 24.46it/s]\n"
          ]
        },
        {
          "output_type": "stream",
          "name": "stdout",
          "text": [
            "Hidden layer: 64\n",
            "Activation: 0.3\n",
            "Entropy: 0.5\n",
            "Ridge: 0.3\n",
            "Spline order: 5\n",
            "Test accuracy: 0.8067226890756303\n",
            "Kappa score: 0.6019777503090236\n",
            "Confusion matrix:\n",
            " [[ 73  34]\n",
            " [ 12 119]]\n"
          ]
        },
        {
          "output_type": "stream",
          "name": "stderr",
          "text": [
            " 62%|██████▏   | 62/100 [00:02<00:01, 27.45it/s]\n"
          ]
        },
        {
          "output_type": "stream",
          "name": "stdout",
          "text": [
            "\tEarly stopping\n",
            "Hidden layer: 64\n",
            "Activation: 0.3\n",
            "Entropy: 0.5\n",
            "Ridge: 0.5\n",
            "Spline order: 3\n",
            "Test accuracy: 0.7226890756302521\n",
            "Kappa score: 0.4218623481781376\n",
            "Confusion matrix:\n",
            " [[ 56  51]\n",
            " [ 15 116]]\n"
          ]
        },
        {
          "output_type": "stream",
          "name": "stderr",
          "text": [
            "100%|██████████| 100/100 [00:01<00:00, 51.57it/s]\n"
          ]
        },
        {
          "output_type": "stream",
          "name": "stdout",
          "text": [
            "Hidden layer: 64\n",
            "Activation: 0.3\n",
            "Entropy: 0.5\n",
            "Ridge: 0.5\n",
            "Spline order: 5\n",
            "Test accuracy: 0.7016806722689075\n",
            "Kappa score: 0.36516642873243677\n",
            "Confusion matrix:\n",
            " [[ 42  65]\n",
            " [  6 125]]\n"
          ]
        },
        {
          "output_type": "stream",
          "name": "stderr",
          "text": [
            "100%|██████████| 100/100 [00:01<00:00, 52.98it/s]\n"
          ]
        },
        {
          "output_type": "stream",
          "name": "stdout",
          "text": [
            "Hidden layer: 64\n",
            "Activation: 0.3\n",
            "Entropy: 0.5\n",
            "Ridge: 0.7\n",
            "Spline order: 3\n",
            "Test accuracy: 0.7394957983193278\n",
            "Kappa score: 0.45785876993166286\n",
            "Confusion matrix:\n",
            " [[ 59  48]\n",
            " [ 14 117]]\n"
          ]
        },
        {
          "output_type": "stream",
          "name": "stderr",
          "text": [
            " 52%|█████▏    | 52/100 [00:01<00:00, 51.70it/s]\n"
          ]
        },
        {
          "output_type": "stream",
          "name": "stdout",
          "text": [
            "\tEarly stopping\n",
            "Hidden layer: 64\n",
            "Activation: 0.3\n",
            "Entropy: 0.5\n",
            "Ridge: 0.7\n",
            "Spline order: 5\n",
            "Test accuracy: 0.7226890756302521\n",
            "Kappa score: 0.42083917115256986\n",
            "Confusion matrix:\n",
            " [[ 55  52]\n",
            " [ 14 117]]\n"
          ]
        },
        {
          "output_type": "stream",
          "name": "stderr",
          "text": [
            " 54%|█████▍    | 54/100 [00:01<00:01, 38.54it/s]\n"
          ]
        },
        {
          "output_type": "stream",
          "name": "stdout",
          "text": [
            "\tEarly stopping\n",
            "Hidden layer: 64\n",
            "Activation: 0.5\n",
            "Entropy: 0.1\n",
            "Ridge: 0.1\n",
            "Spline order: 3\n",
            "Test accuracy: 0.7563025210084033\n",
            "Kappa score: 0.49726855561220784\n",
            "Confusion matrix:\n",
            " [[ 66  41]\n",
            " [ 17 114]]\n"
          ]
        },
        {
          "output_type": "stream",
          "name": "stderr",
          "text": [
            "100%|██████████| 100/100 [00:01<00:00, 53.29it/s]\n"
          ]
        },
        {
          "output_type": "stream",
          "name": "stdout",
          "text": [
            "Hidden layer: 64\n",
            "Activation: 0.5\n",
            "Entropy: 0.1\n",
            "Ridge: 0.1\n",
            "Spline order: 5\n",
            "Test accuracy: 0.6176470588235294\n",
            "Kappa score: 0.20915796392317243\n",
            "Confusion matrix:\n",
            " [[48 59]\n",
            " [32 99]]\n"
          ]
        },
        {
          "output_type": "stream",
          "name": "stderr",
          "text": [
            " 60%|██████    | 60/100 [00:01<00:01, 39.34it/s]\n"
          ]
        },
        {
          "output_type": "stream",
          "name": "stdout",
          "text": [
            "\tEarly stopping\n",
            "Hidden layer: 64\n",
            "Activation: 0.5\n",
            "Entropy: 0.1\n",
            "Ridge: 0.3\n",
            "Spline order: 3\n",
            "Test accuracy: 0.7100840336134454\n",
            "Kappa score: 0.4045253462905214\n",
            "Confusion matrix:\n",
            " [[ 63  44]\n",
            " [ 25 106]]\n"
          ]
        },
        {
          "output_type": "stream",
          "name": "stderr",
          "text": [
            "100%|██████████| 100/100 [00:02<00:00, 40.61it/s]\n"
          ]
        },
        {
          "output_type": "stream",
          "name": "stdout",
          "text": [
            "Hidden layer: 64\n",
            "Activation: 0.5\n",
            "Entropy: 0.1\n",
            "Ridge: 0.3\n",
            "Spline order: 5\n",
            "Test accuracy: 0.634453781512605\n",
            "Kappa score: 0.2452431289640592\n",
            "Confusion matrix:\n",
            " [[ 51  56]\n",
            " [ 31 100]]\n"
          ]
        },
        {
          "output_type": "stream",
          "name": "stderr",
          "text": [
            " 62%|██████▏   | 62/100 [00:03<00:01, 19.46it/s]\n"
          ]
        },
        {
          "output_type": "stream",
          "name": "stdout",
          "text": [
            "\tEarly stopping\n",
            "Hidden layer: 64\n",
            "Activation: 0.5\n",
            "Entropy: 0.1\n",
            "Ridge: 0.5\n",
            "Spline order: 3\n",
            "Test accuracy: 0.7941176470588235\n",
            "Kappa score: 0.5800504141159524\n",
            "Confusion matrix:\n",
            " [[ 77  30]\n",
            " [ 19 112]]\n"
          ]
        },
        {
          "output_type": "stream",
          "name": "stderr",
          "text": [
            " 59%|█████▉    | 59/100 [00:02<00:01, 26.68it/s]\n"
          ]
        },
        {
          "output_type": "stream",
          "name": "stdout",
          "text": [
            "\tEarly stopping\n",
            "Hidden layer: 64\n",
            "Activation: 0.5\n",
            "Entropy: 0.1\n",
            "Ridge: 0.5\n",
            "Spline order: 5\n",
            "Test accuracy: 0.7605042016806722\n",
            "Kappa score: 0.5114872164205977\n",
            "Confusion matrix:\n",
            " [[ 73  34]\n",
            " [ 23 108]]\n"
          ]
        },
        {
          "output_type": "stream",
          "name": "stderr",
          "text": [
            " 57%|█████▋    | 57/100 [00:01<00:01, 41.24it/s]\n"
          ]
        },
        {
          "output_type": "stream",
          "name": "stdout",
          "text": [
            "\tEarly stopping\n",
            "Hidden layer: 64\n",
            "Activation: 0.5\n",
            "Entropy: 0.1\n",
            "Ridge: 0.7\n",
            "Spline order: 3\n",
            "Test accuracy: 0.726890756302521\n",
            "Kappa score: 0.4341210037310703\n",
            "Confusion matrix:\n",
            " [[ 60  47]\n",
            " [ 18 113]]\n"
          ]
        },
        {
          "output_type": "stream",
          "name": "stderr",
          "text": [
            " 57%|█████▋    | 57/100 [00:01<00:00, 51.06it/s]\n"
          ]
        },
        {
          "output_type": "stream",
          "name": "stdout",
          "text": [
            "\tEarly stopping\n",
            "Hidden layer: 64\n",
            "Activation: 0.5\n",
            "Entropy: 0.1\n",
            "Ridge: 0.7\n",
            "Spline order: 5\n",
            "Test accuracy: 0.7773109243697479\n",
            "Kappa score: 0.5369649805447472\n",
            "Confusion matrix:\n",
            " [[ 64  43]\n",
            " [ 10 121]]\n"
          ]
        },
        {
          "output_type": "stream",
          "name": "stderr",
          "text": [
            " 58%|█████▊    | 58/100 [00:01<00:00, 48.80it/s]\n"
          ]
        },
        {
          "output_type": "stream",
          "name": "stdout",
          "text": [
            "\tEarly stopping\n",
            "Hidden layer: 64\n",
            "Activation: 0.5\n",
            "Entropy: 0.3\n",
            "Ridge: 0.1\n",
            "Spline order: 3\n",
            "Test accuracy: 0.7352941176470589\n",
            "Kappa score: 0.44371892854492845\n",
            "Confusion matrix:\n",
            " [[ 53  54]\n",
            " [  9 122]]\n"
          ]
        },
        {
          "output_type": "stream",
          "name": "stderr",
          "text": [
            " 64%|██████▍   | 64/100 [00:01<00:01, 34.06it/s]\n"
          ]
        },
        {
          "output_type": "stream",
          "name": "stdout",
          "text": [
            "\tEarly stopping\n",
            "Hidden layer: 64\n",
            "Activation: 0.5\n",
            "Entropy: 0.3\n",
            "Ridge: 0.1\n",
            "Spline order: 5\n",
            "Test accuracy: 0.7142857142857143\n",
            "Kappa score: 0.40955855527179863\n",
            "Confusion matrix:\n",
            " [[ 60  47]\n",
            " [ 21 110]]\n"
          ]
        },
        {
          "output_type": "stream",
          "name": "stderr",
          "text": [
            " 65%|██████▌   | 65/100 [00:01<00:01, 34.18it/s]\n"
          ]
        },
        {
          "output_type": "stream",
          "name": "stdout",
          "text": [
            "\tEarly stopping\n",
            "Hidden layer: 64\n",
            "Activation: 0.5\n",
            "Entropy: 0.3\n",
            "Ridge: 0.3\n",
            "Spline order: 3\n",
            "Test accuracy: 0.6470588235294118\n",
            "Kappa score: 0.2844154914453433\n",
            "Confusion matrix:\n",
            " [[63 44]\n",
            " [40 91]]\n"
          ]
        },
        {
          "output_type": "stream",
          "name": "stderr",
          "text": [
            "100%|██████████| 100/100 [00:01<00:00, 52.97it/s]\n"
          ]
        },
        {
          "output_type": "stream",
          "name": "stdout",
          "text": [
            "Hidden layer: 64\n",
            "Activation: 0.5\n",
            "Entropy: 0.3\n",
            "Ridge: 0.3\n",
            "Spline order: 5\n",
            "Test accuracy: 0.7647058823529411\n",
            "Kappa score: 0.5015333981599222\n",
            "Confusion matrix:\n",
            " [[ 52  55]\n",
            " [  1 130]]\n"
          ]
        },
        {
          "output_type": "stream",
          "name": "stderr",
          "text": [
            "100%|██████████| 100/100 [00:01<00:00, 51.37it/s]\n"
          ]
        },
        {
          "output_type": "stream",
          "name": "stdout",
          "text": [
            "Hidden layer: 64\n",
            "Activation: 0.5\n",
            "Entropy: 0.3\n",
            "Ridge: 0.5\n",
            "Spline order: 3\n",
            "Test accuracy: 0.8109243697478992\n",
            "Kappa score: 0.6054667354306343\n",
            "Confusion matrix:\n",
            " [[ 66  41]\n",
            " [  4 127]]\n"
          ]
        },
        {
          "output_type": "stream",
          "name": "stderr",
          "text": [
            "100%|██████████| 100/100 [00:01<00:00, 52.36it/s]\n"
          ]
        },
        {
          "output_type": "stream",
          "name": "stdout",
          "text": [
            "Hidden layer: 64\n",
            "Activation: 0.5\n",
            "Entropy: 0.3\n",
            "Ridge: 0.5\n",
            "Spline order: 5\n",
            "Test accuracy: 0.7478991596638656\n",
            "Kappa score: 0.4687895245889443\n",
            "Confusion matrix:\n",
            " [[ 53  54]\n",
            " [  6 125]]\n"
          ]
        },
        {
          "output_type": "stream",
          "name": "stderr",
          "text": [
            " 64%|██████▍   | 64/100 [00:01<00:00, 51.24it/s]\n"
          ]
        },
        {
          "output_type": "stream",
          "name": "stdout",
          "text": [
            "\tEarly stopping\n",
            "Hidden layer: 64\n",
            "Activation: 0.5\n",
            "Entropy: 0.3\n",
            "Ridge: 0.7\n",
            "Spline order: 3\n",
            "Test accuracy: 0.6722689075630253\n",
            "Kappa score: 0.33438508425959124\n",
            "Confusion matrix:\n",
            " [[65 42]\n",
            " [36 95]]\n"
          ]
        },
        {
          "output_type": "stream",
          "name": "stderr",
          "text": [
            " 62%|██████▏   | 62/100 [00:01<00:00, 51.63it/s]\n"
          ]
        },
        {
          "output_type": "stream",
          "name": "stdout",
          "text": [
            "\tEarly stopping\n",
            "Hidden layer: 64\n",
            "Activation: 0.5\n",
            "Entropy: 0.3\n",
            "Ridge: 0.7\n",
            "Spline order: 5\n",
            "Test accuracy: 0.7184873949579832\n",
            "Kappa score: 0.4277614296992751\n",
            "Confusion matrix:\n",
            " [[ 70  37]\n",
            " [ 30 101]]\n"
          ]
        },
        {
          "output_type": "stream",
          "name": "stderr",
          "text": [
            "100%|██████████| 100/100 [00:02<00:00, 42.05it/s]\n"
          ]
        },
        {
          "output_type": "stream",
          "name": "stdout",
          "text": [
            "Hidden layer: 64\n",
            "Activation: 0.5\n",
            "Entropy: 0.5\n",
            "Ridge: 0.1\n",
            "Spline order: 3\n",
            "Test accuracy: 0.680672268907563\n",
            "Kappa score: 0.3173824439580346\n",
            "Confusion matrix:\n",
            " [[ 37  70]\n",
            " [  6 125]]\n"
          ]
        },
        {
          "output_type": "stream",
          "name": "stderr",
          "text": [
            " 59%|█████▉    | 59/100 [00:01<00:01, 33.85it/s]\n"
          ]
        },
        {
          "output_type": "stream",
          "name": "stdout",
          "text": [
            "\tEarly stopping\n",
            "Hidden layer: 64\n",
            "Activation: 0.5\n",
            "Entropy: 0.5\n",
            "Ridge: 0.1\n",
            "Spline order: 5\n",
            "Test accuracy: 0.6890756302521008\n",
            "Kappa score: 0.35520246027678104\n",
            "Confusion matrix:\n",
            " [[ 55  52]\n",
            " [ 22 109]]\n"
          ]
        },
        {
          "output_type": "stream",
          "name": "stderr",
          "text": [
            "100%|██████████| 100/100 [00:02<00:00, 44.71it/s]\n"
          ]
        },
        {
          "output_type": "stream",
          "name": "stdout",
          "text": [
            "Hidden layer: 64\n",
            "Activation: 0.5\n",
            "Entropy: 0.5\n",
            "Ridge: 0.3\n",
            "Spline order: 3\n",
            "Test accuracy: 0.7100840336134454\n",
            "Kappa score: 0.4045253462905214\n",
            "Confusion matrix:\n",
            " [[ 63  44]\n",
            " [ 25 106]]\n"
          ]
        },
        {
          "output_type": "stream",
          "name": "stderr",
          "text": [
            "100%|██████████| 100/100 [00:01<00:00, 52.63it/s]\n"
          ]
        },
        {
          "output_type": "stream",
          "name": "stdout",
          "text": [
            "Hidden layer: 64\n",
            "Activation: 0.5\n",
            "Entropy: 0.5\n",
            "Ridge: 0.3\n",
            "Spline order: 5\n",
            "Test accuracy: 0.7226890756302521\n",
            "Kappa score: 0.4104046242774566\n",
            "Confusion matrix:\n",
            " [[ 45  62]\n",
            " [  4 127]]\n"
          ]
        },
        {
          "output_type": "stream",
          "name": "stderr",
          "text": [
            "100%|██████████| 100/100 [00:01<00:00, 52.37it/s]\n"
          ]
        },
        {
          "output_type": "stream",
          "name": "stdout",
          "text": [
            "Hidden layer: 64\n",
            "Activation: 0.5\n",
            "Entropy: 0.5\n",
            "Ridge: 0.5\n",
            "Spline order: 3\n",
            "Test accuracy: 0.773109243697479\n",
            "Kappa score: 0.5367980970229944\n",
            "Confusion matrix:\n",
            " [[ 74  33]\n",
            " [ 21 110]]\n"
          ]
        },
        {
          "output_type": "stream",
          "name": "stderr",
          "text": [
            "100%|██████████| 100/100 [00:01<00:00, 52.95it/s]\n"
          ]
        },
        {
          "output_type": "stream",
          "name": "stdout",
          "text": [
            "Hidden layer: 64\n",
            "Activation: 0.5\n",
            "Entropy: 0.5\n",
            "Ridge: 0.5\n",
            "Spline order: 5\n",
            "Test accuracy: 0.7226890756302521\n",
            "Kappa score: 0.4396803881001641\n",
            "Confusion matrix:\n",
            " [[74 33]\n",
            " [33 98]]\n"
          ]
        },
        {
          "output_type": "stream",
          "name": "stderr",
          "text": [
            "100%|██████████| 100/100 [00:01<00:00, 52.67it/s]\n"
          ]
        },
        {
          "output_type": "stream",
          "name": "stdout",
          "text": [
            "Hidden layer: 64\n",
            "Activation: 0.5\n",
            "Entropy: 0.5\n",
            "Ridge: 0.7\n",
            "Spline order: 3\n",
            "Test accuracy: 0.7478991596638656\n",
            "Kappa score: 0.4706798131811105\n",
            "Confusion matrix:\n",
            " [[ 55  52]\n",
            " [  8 123]]\n"
          ]
        },
        {
          "output_type": "stream",
          "name": "stderr",
          "text": [
            " 60%|██████    | 60/100 [00:01<00:01, 35.66it/s]\n"
          ]
        },
        {
          "output_type": "stream",
          "name": "stdout",
          "text": [
            "\tEarly stopping\n",
            "Hidden layer: 64\n",
            "Activation: 0.5\n",
            "Entropy: 0.5\n",
            "Ridge: 0.7\n",
            "Spline order: 5\n",
            "Test accuracy: 0.8025210084033614\n",
            "Kappa score: 0.5964937594690138\n",
            "Confusion matrix:\n",
            " [[ 77  30]\n",
            " [ 17 114]]\n"
          ]
        },
        {
          "output_type": "stream",
          "name": "stderr",
          "text": [
            "100%|██████████| 100/100 [00:02<00:00, 38.36it/s]\n"
          ]
        },
        {
          "output_type": "stream",
          "name": "stdout",
          "text": [
            "Hidden layer: 128\n",
            "Activation: 0.1\n",
            "Entropy: 0.1\n",
            "Ridge: 0.1\n",
            "Spline order: 3\n",
            "Test accuracy: 0.6596638655462185\n",
            "Kappa score: 0.28858218318695106\n",
            "Confusion matrix:\n",
            " [[ 47  60]\n",
            " [ 21 110]]\n"
          ]
        },
        {
          "output_type": "stream",
          "name": "stderr",
          "text": [
            "100%|██████████| 100/100 [00:02<00:00, 44.41it/s]\n"
          ]
        },
        {
          "output_type": "stream",
          "name": "stdout",
          "text": [
            "Hidden layer: 128\n",
            "Activation: 0.1\n",
            "Entropy: 0.1\n",
            "Ridge: 0.1\n",
            "Spline order: 5\n",
            "Test accuracy: 0.7310924369747899\n",
            "Kappa score: 0.4452618544686431\n",
            "Confusion matrix:\n",
            " [[ 63  44]\n",
            " [ 20 111]]\n"
          ]
        },
        {
          "output_type": "stream",
          "name": "stderr",
          "text": [
            "100%|██████████| 100/100 [00:01<00:00, 52.63it/s]\n"
          ]
        },
        {
          "output_type": "stream",
          "name": "stdout",
          "text": [
            "Hidden layer: 128\n",
            "Activation: 0.1\n",
            "Entropy: 0.1\n",
            "Ridge: 0.3\n",
            "Spline order: 3\n",
            "Test accuracy: 0.7436974789915967\n",
            "Kappa score: 0.4613786450990577\n",
            "Confusion matrix:\n",
            " [[ 54  53]\n",
            " [  8 123]]\n"
          ]
        },
        {
          "output_type": "stream",
          "name": "stderr",
          "text": [
            "100%|██████████| 100/100 [00:01<00:00, 51.84it/s]\n"
          ]
        },
        {
          "output_type": "stream",
          "name": "stdout",
          "text": [
            "Hidden layer: 128\n",
            "Activation: 0.1\n",
            "Entropy: 0.1\n",
            "Ridge: 0.3\n",
            "Spline order: 5\n",
            "Test accuracy: 0.7563025210084033\n",
            "Kappa score: 0.4910404837401371\n",
            "Confusion matrix:\n",
            " [[ 59  48]\n",
            " [ 10 121]]\n"
          ]
        },
        {
          "output_type": "stream",
          "name": "stderr",
          "text": [
            " 58%|█████▊    | 58/100 [00:01<00:00, 52.33it/s]\n"
          ]
        },
        {
          "output_type": "stream",
          "name": "stdout",
          "text": [
            "\tEarly stopping\n",
            "Hidden layer: 128\n",
            "Activation: 0.1\n",
            "Entropy: 0.1\n",
            "Ridge: 0.5\n",
            "Spline order: 3\n",
            "Test accuracy: 0.7184873949579832\n",
            "Kappa score: 0.44029484029484034\n",
            "Confusion matrix:\n",
            " [[83 24]\n",
            " [43 88]]\n"
          ]
        },
        {
          "output_type": "stream",
          "name": "stderr",
          "text": [
            " 50%|█████     | 50/100 [00:00<00:00, 51.15it/s]\n"
          ]
        },
        {
          "output_type": "stream",
          "name": "stdout",
          "text": [
            "\tEarly stopping\n",
            "Hidden layer: 128\n",
            "Activation: 0.1\n",
            "Entropy: 0.1\n",
            "Ridge: 0.5\n",
            "Spline order: 5\n",
            "Test accuracy: 0.8151260504201681\n",
            "Kappa score: 0.6232280348276606\n",
            "Confusion matrix:\n",
            " [[ 80  27]\n",
            " [ 17 114]]\n"
          ]
        },
        {
          "output_type": "stream",
          "name": "stderr",
          "text": [
            "100%|██████████| 100/100 [00:03<00:00, 31.97it/s]\n"
          ]
        },
        {
          "output_type": "stream",
          "name": "stdout",
          "text": [
            "Hidden layer: 128\n",
            "Activation: 0.1\n",
            "Entropy: 0.1\n",
            "Ridge: 0.7\n",
            "Spline order: 3\n",
            "Test accuracy: 0.6596638655462185\n",
            "Kappa score: 0.2972953269665378\n",
            "Confusion matrix:\n",
            " [[ 54  53]\n",
            " [ 28 103]]\n"
          ]
        },
        {
          "output_type": "stream",
          "name": "stderr",
          "text": [
            "100%|██████████| 100/100 [00:03<00:00, 31.68it/s]\n"
          ]
        },
        {
          "output_type": "stream",
          "name": "stdout",
          "text": [
            "Hidden layer: 128\n",
            "Activation: 0.1\n",
            "Entropy: 0.1\n",
            "Ridge: 0.7\n",
            "Spline order: 5\n",
            "Test accuracy: 0.7142857142857143\n",
            "Kappa score: 0.4187199195460096\n",
            "Confusion matrix:\n",
            " [[ 69  38]\n",
            " [ 30 101]]\n"
          ]
        },
        {
          "output_type": "stream",
          "name": "stderr",
          "text": [
            "100%|██████████| 100/100 [00:02<00:00, 35.68it/s]\n"
          ]
        },
        {
          "output_type": "stream",
          "name": "stdout",
          "text": [
            "Hidden layer: 128\n",
            "Activation: 0.1\n",
            "Entropy: 0.3\n",
            "Ridge: 0.1\n",
            "Spline order: 3\n",
            "Test accuracy: 0.7563025210084033\n",
            "Kappa score: 0.48832381940840686\n",
            "Confusion matrix:\n",
            " [[ 56  51]\n",
            " [  7 124]]\n"
          ]
        },
        {
          "output_type": "stream",
          "name": "stderr",
          "text": [
            "100%|██████████| 100/100 [00:04<00:00, 24.87it/s]\n"
          ]
        },
        {
          "output_type": "stream",
          "name": "stdout",
          "text": [
            "Hidden layer: 128\n",
            "Activation: 0.1\n",
            "Entropy: 0.3\n",
            "Ridge: 0.1\n",
            "Spline order: 5\n",
            "Test accuracy: 0.6428571428571429\n",
            "Kappa score: 0.2507962373157544\n",
            "Confusion matrix:\n",
            " [[ 43  64]\n",
            " [ 21 110]]\n"
          ]
        },
        {
          "output_type": "stream",
          "name": "stderr",
          "text": [
            "100%|██████████| 100/100 [00:05<00:00, 19.24it/s]\n"
          ]
        },
        {
          "output_type": "stream",
          "name": "stdout",
          "text": [
            "Hidden layer: 128\n",
            "Activation: 0.1\n",
            "Entropy: 0.3\n",
            "Ridge: 0.3\n",
            "Spline order: 3\n",
            "Test accuracy: 0.8025210084033614\n",
            "Kappa score: 0.6006426276329883\n",
            "Confusion matrix:\n",
            " [[ 83  24]\n",
            " [ 23 108]]\n"
          ]
        },
        {
          "output_type": "stream",
          "name": "stderr",
          "text": [
            "100%|██████████| 100/100 [00:03<00:00, 25.36it/s]\n"
          ]
        },
        {
          "output_type": "stream",
          "name": "stdout",
          "text": [
            "Hidden layer: 128\n",
            "Activation: 0.1\n",
            "Entropy: 0.3\n",
            "Ridge: 0.3\n",
            "Spline order: 5\n",
            "Test accuracy: 0.7521008403361344\n",
            "Kappa score: 0.4863559880020484\n",
            "Confusion matrix:\n",
            " [[ 63  44]\n",
            " [ 15 116]]\n"
          ]
        },
        {
          "output_type": "stream",
          "name": "stderr",
          "text": [
            "100%|██████████| 100/100 [00:01<00:00, 52.24it/s]\n"
          ]
        },
        {
          "output_type": "stream",
          "name": "stdout",
          "text": [
            "Hidden layer: 128\n",
            "Activation: 0.1\n",
            "Entropy: 0.3\n",
            "Ridge: 0.5\n",
            "Spline order: 3\n",
            "Test accuracy: 0.7394957983193278\n",
            "Kappa score: 0.4644697684546709\n",
            "Confusion matrix:\n",
            " [[ 66  41]\n",
            " [ 21 110]]\n"
          ]
        },
        {
          "output_type": "stream",
          "name": "stderr",
          "text": [
            "100%|██████████| 100/100 [00:01<00:00, 52.42it/s]\n"
          ]
        },
        {
          "output_type": "stream",
          "name": "stdout",
          "text": [
            "Hidden layer: 128\n",
            "Activation: 0.1\n",
            "Entropy: 0.3\n",
            "Ridge: 0.5\n",
            "Spline order: 5\n",
            "Test accuracy: 0.7857142857142857\n",
            "Kappa score: 0.5544380001468321\n",
            "Confusion matrix:\n",
            " [[ 65  42]\n",
            " [  9 122]]\n"
          ]
        },
        {
          "output_type": "stream",
          "name": "stderr",
          "text": [
            "100%|██████████| 100/100 [00:01<00:00, 51.74it/s]\n"
          ]
        },
        {
          "output_type": "stream",
          "name": "stdout",
          "text": [
            "Hidden layer: 128\n",
            "Activation: 0.1\n",
            "Entropy: 0.3\n",
            "Ridge: 0.7\n",
            "Spline order: 3\n",
            "Test accuracy: 0.7899159663865546\n",
            "Kappa score: 0.562016930437983\n",
            "Confusion matrix:\n",
            " [[ 64  43]\n",
            " [  7 124]]\n"
          ]
        },
        {
          "output_type": "stream",
          "name": "stderr",
          "text": [
            "100%|██████████| 100/100 [00:02<00:00, 41.80it/s]\n"
          ]
        },
        {
          "output_type": "stream",
          "name": "stdout",
          "text": [
            "Hidden layer: 128\n",
            "Activation: 0.1\n",
            "Entropy: 0.3\n",
            "Ridge: 0.7\n",
            "Spline order: 5\n",
            "Test accuracy: 0.8109243697478992\n",
            "Kappa score: 0.6123217259103743\n",
            "Confusion matrix:\n",
            " [[ 76  31]\n",
            " [ 14 117]]\n"
          ]
        },
        {
          "output_type": "stream",
          "name": "stderr",
          "text": [
            "100%|██████████| 100/100 [00:02<00:00, 35.94it/s]\n"
          ]
        },
        {
          "output_type": "stream",
          "name": "stdout",
          "text": [
            "Hidden layer: 128\n",
            "Activation: 0.1\n",
            "Entropy: 0.5\n",
            "Ridge: 0.1\n",
            "Spline order: 3\n",
            "Test accuracy: 0.7142857142857143\n",
            "Kappa score: 0.40223092265642313\n",
            "Confusion matrix:\n",
            " [[ 53  54]\n",
            " [ 14 117]]\n"
          ]
        },
        {
          "output_type": "stream",
          "name": "stderr",
          "text": [
            "100%|██████████| 100/100 [00:04<00:00, 23.98it/s]\n"
          ]
        },
        {
          "output_type": "stream",
          "name": "stdout",
          "text": [
            "Hidden layer: 128\n",
            "Activation: 0.1\n",
            "Entropy: 0.5\n",
            "Ridge: 0.1\n",
            "Spline order: 5\n",
            "Test accuracy: 0.7605042016806722\n",
            "Kappa score: 0.5055041189764526\n",
            "Confusion matrix:\n",
            " [[ 66  41]\n",
            " [ 16 115]]\n"
          ]
        },
        {
          "output_type": "stream",
          "name": "stderr",
          "text": [
            " 64%|██████▍   | 64/100 [00:01<00:00, 51.46it/s]\n"
          ]
        },
        {
          "output_type": "stream",
          "name": "stdout",
          "text": [
            "\tEarly stopping\n",
            "Hidden layer: 128\n",
            "Activation: 0.1\n",
            "Entropy: 0.5\n",
            "Ridge: 0.3\n",
            "Spline order: 3\n",
            "Test accuracy: 0.7647058823529411\n",
            "Kappa score: 0.5188100223842878\n",
            "Confusion matrix:\n",
            " [[ 72  35]\n",
            " [ 21 110]]\n"
          ]
        },
        {
          "output_type": "stream",
          "name": "stderr",
          "text": [
            "100%|██████████| 100/100 [00:01<00:00, 52.25it/s]\n"
          ]
        },
        {
          "output_type": "stream",
          "name": "stdout",
          "text": [
            "Hidden layer: 128\n",
            "Activation: 0.1\n",
            "Entropy: 0.5\n",
            "Ridge: 0.3\n",
            "Spline order: 5\n",
            "Test accuracy: 0.8025210084033614\n",
            "Kappa score: 0.5943868300819494\n",
            "Confusion matrix:\n",
            " [[ 74  33]\n",
            " [ 14 117]]\n"
          ]
        },
        {
          "output_type": "stream",
          "name": "stderr",
          "text": [
            "100%|██████████| 100/100 [00:02<00:00, 44.92it/s]\n"
          ]
        },
        {
          "output_type": "stream",
          "name": "stdout",
          "text": [
            "Hidden layer: 128\n",
            "Activation: 0.1\n",
            "Entropy: 0.5\n",
            "Ridge: 0.5\n",
            "Spline order: 3\n",
            "Test accuracy: 0.7478991596638656\n",
            "Kappa score: 0.4790222546515871\n",
            "Confusion matrix:\n",
            " [[ 64  43]\n",
            " [ 17 114]]\n"
          ]
        },
        {
          "output_type": "stream",
          "name": "stderr",
          "text": [
            " 59%|█████▉    | 59/100 [00:01<00:01, 34.39it/s]\n"
          ]
        },
        {
          "output_type": "stream",
          "name": "stdout",
          "text": [
            "\tEarly stopping\n",
            "Hidden layer: 128\n",
            "Activation: 0.1\n",
            "Entropy: 0.5\n",
            "Ridge: 0.5\n",
            "Spline order: 5\n",
            "Test accuracy: 0.7352941176470589\n",
            "Kappa score: 0.4476534296028881\n",
            "Confusion matrix:\n",
            " [[ 57  50]\n",
            " [ 13 118]]\n"
          ]
        },
        {
          "output_type": "stream",
          "name": "stderr",
          "text": [
            " 60%|██████    | 60/100 [00:01<00:00, 41.38it/s]\n"
          ]
        },
        {
          "output_type": "stream",
          "name": "stdout",
          "text": [
            "\tEarly stopping\n",
            "Hidden layer: 128\n",
            "Activation: 0.1\n",
            "Entropy: 0.5\n",
            "Ridge: 0.7\n",
            "Spline order: 3\n",
            "Test accuracy: 0.7563025210084033\n",
            "Kappa score: 0.4937284530184112\n",
            "Confusion matrix:\n",
            " [[ 62  45]\n",
            " [ 13 118]]\n"
          ]
        },
        {
          "output_type": "stream",
          "name": "stderr",
          "text": [
            " 56%|█████▌    | 56/100 [00:01<00:00, 51.27it/s]\n"
          ]
        },
        {
          "output_type": "stream",
          "name": "stdout",
          "text": [
            "\tEarly stopping\n",
            "Hidden layer: 128\n",
            "Activation: 0.1\n",
            "Entropy: 0.5\n",
            "Ridge: 0.7\n",
            "Spline order: 5\n",
            "Test accuracy: 0.7310924369747899\n",
            "Kappa score: 0.4403703431552648\n",
            "Confusion matrix:\n",
            " [[ 58  49]\n",
            " [ 15 116]]\n"
          ]
        },
        {
          "output_type": "stream",
          "name": "stderr",
          "text": [
            "100%|██████████| 100/100 [00:02<00:00, 44.24it/s]\n"
          ]
        },
        {
          "output_type": "stream",
          "name": "stdout",
          "text": [
            "Hidden layer: 128\n",
            "Activation: 0.3\n",
            "Entropy: 0.1\n",
            "Ridge: 0.1\n",
            "Spline order: 3\n",
            "Test accuracy: 0.6932773109243697\n",
            "Kappa score: 0.36669825763650943\n",
            "Confusion matrix:\n",
            " [[ 58  49]\n",
            " [ 24 107]]\n"
          ]
        },
        {
          "output_type": "stream",
          "name": "stderr",
          "text": [
            "100%|██████████| 100/100 [00:01<00:00, 52.70it/s]\n"
          ]
        },
        {
          "output_type": "stream",
          "name": "stdout",
          "text": [
            "Hidden layer: 128\n",
            "Activation: 0.3\n",
            "Entropy: 0.1\n",
            "Ridge: 0.1\n",
            "Spline order: 5\n",
            "Test accuracy: 0.7142857142857143\n",
            "Kappa score: 0.4001037882719253\n",
            "Confusion matrix:\n",
            " [[ 51  56]\n",
            " [ 12 119]]\n"
          ]
        },
        {
          "output_type": "stream",
          "name": "stderr",
          "text": [
            "100%|██████████| 100/100 [00:01<00:00, 51.74it/s]\n"
          ]
        },
        {
          "output_type": "stream",
          "name": "stdout",
          "text": [
            "Hidden layer: 128\n",
            "Activation: 0.3\n",
            "Entropy: 0.1\n",
            "Ridge: 0.3\n",
            "Spline order: 3\n",
            "Test accuracy: 0.7647058823529411\n",
            "Kappa score: 0.5146041226600626\n",
            "Confusion matrix:\n",
            " [[ 67  40]\n",
            " [ 16 115]]\n"
          ]
        },
        {
          "output_type": "stream",
          "name": "stderr",
          "text": [
            "100%|██████████| 100/100 [00:01<00:00, 52.17it/s]\n"
          ]
        },
        {
          "output_type": "stream",
          "name": "stdout",
          "text": [
            "Hidden layer: 128\n",
            "Activation: 0.3\n",
            "Entropy: 0.1\n",
            "Ridge: 0.3\n",
            "Spline order: 5\n",
            "Test accuracy: 0.7394957983193278\n",
            "Kappa score: 0.45881317391623266\n",
            "Confusion matrix:\n",
            " [[ 60  47]\n",
            " [ 15 116]]\n"
          ]
        },
        {
          "output_type": "stream",
          "name": "stderr",
          "text": [
            " 59%|█████▉    | 59/100 [00:01<00:01, 38.77it/s]\n"
          ]
        },
        {
          "output_type": "stream",
          "name": "stdout",
          "text": [
            "\tEarly stopping\n",
            "Hidden layer: 128\n",
            "Activation: 0.3\n",
            "Entropy: 0.1\n",
            "Ridge: 0.5\n",
            "Spline order: 3\n",
            "Test accuracy: 0.7899159663865546\n",
            "Kappa score: 0.5703660914145425\n",
            "Confusion matrix:\n",
            " [[ 75  32]\n",
            " [ 18 113]]\n"
          ]
        },
        {
          "output_type": "stream",
          "name": "stderr",
          "text": [
            "100%|██████████| 100/100 [00:02<00:00, 39.33it/s]\n"
          ]
        },
        {
          "output_type": "stream",
          "name": "stdout",
          "text": [
            "Hidden layer: 128\n",
            "Activation: 0.3\n",
            "Entropy: 0.1\n",
            "Ridge: 0.5\n",
            "Spline order: 5\n",
            "Test accuracy: 0.7605042016806722\n",
            "Kappa score: 0.5072284780239739\n",
            "Confusion matrix:\n",
            " [[ 68  39]\n",
            " [ 18 113]]\n"
          ]
        },
        {
          "output_type": "stream",
          "name": "stderr",
          "text": [
            "100%|██████████| 100/100 [00:01<00:00, 52.59it/s]\n"
          ]
        },
        {
          "output_type": "stream",
          "name": "stdout",
          "text": [
            "Hidden layer: 128\n",
            "Activation: 0.3\n",
            "Entropy: 0.1\n",
            "Ridge: 0.7\n",
            "Spline order: 3\n",
            "Test accuracy: 0.7773109243697479\n",
            "Kappa score: 0.541808935706502\n",
            "Confusion matrix:\n",
            " [[ 70  37]\n",
            " [ 16 115]]\n"
          ]
        },
        {
          "output_type": "stream",
          "name": "stderr",
          "text": [
            "100%|██████████| 100/100 [00:02<00:00, 44.03it/s]\n"
          ]
        },
        {
          "output_type": "stream",
          "name": "stdout",
          "text": [
            "Hidden layer: 128\n",
            "Activation: 0.3\n",
            "Entropy: 0.1\n",
            "Ridge: 0.7\n",
            "Spline order: 5\n",
            "Test accuracy: 0.8361344537815126\n",
            "Kappa score: 0.6674786845310596\n",
            "Confusion matrix:\n",
            " [[ 85  22]\n",
            " [ 17 114]]\n"
          ]
        },
        {
          "output_type": "stream",
          "name": "stderr",
          "text": [
            "100%|██████████| 100/100 [00:01<00:00, 52.45it/s]\n"
          ]
        },
        {
          "output_type": "stream",
          "name": "stdout",
          "text": [
            "Hidden layer: 128\n",
            "Activation: 0.3\n",
            "Entropy: 0.3\n",
            "Ridge: 0.1\n",
            "Spline order: 3\n",
            "Test accuracy: 0.7016806722689075\n",
            "Kappa score: 0.36516642873243677\n",
            "Confusion matrix:\n",
            " [[ 42  65]\n",
            " [  6 125]]\n"
          ]
        },
        {
          "output_type": "stream",
          "name": "stderr",
          "text": [
            "100%|██████████| 100/100 [00:01<00:00, 52.72it/s]\n"
          ]
        },
        {
          "output_type": "stream",
          "name": "stdout",
          "text": [
            "Hidden layer: 128\n",
            "Activation: 0.3\n",
            "Entropy: 0.3\n",
            "Ridge: 0.1\n",
            "Spline order: 5\n",
            "Test accuracy: 0.5168067226890757\n",
            "Kappa score: -0.013628620102214661\n",
            "Confusion matrix:\n",
            " [[28 79]\n",
            " [36 95]]\n"
          ]
        },
        {
          "output_type": "stream",
          "name": "stderr",
          "text": [
            "100%|██████████| 100/100 [00:02<00:00, 44.82it/s]\n"
          ]
        },
        {
          "output_type": "stream",
          "name": "stdout",
          "text": [
            "Hidden layer: 128\n",
            "Activation: 0.3\n",
            "Entropy: 0.3\n",
            "Ridge: 0.3\n",
            "Spline order: 3\n",
            "Test accuracy: 0.5840336134453782\n",
            "Kappa score: 0.12114882506527425\n",
            "Confusion matrix:\n",
            " [[ 32  75]\n",
            " [ 24 107]]\n"
          ]
        },
        {
          "output_type": "stream",
          "name": "stderr",
          "text": [
            "100%|██████████| 100/100 [00:02<00:00, 37.26it/s]\n"
          ]
        },
        {
          "output_type": "stream",
          "name": "stdout",
          "text": [
            "Hidden layer: 128\n",
            "Activation: 0.3\n",
            "Entropy: 0.3\n",
            "Ridge: 0.3\n",
            "Spline order: 5\n",
            "Test accuracy: 0.7142857142857143\n",
            "Kappa score: 0.4276013298436726\n",
            "Confusion matrix:\n",
            " [[78 29]\n",
            " [39 92]]\n"
          ]
        },
        {
          "output_type": "stream",
          "name": "stderr",
          "text": [
            " 61%|██████    | 61/100 [00:01<00:00, 50.15it/s]\n"
          ]
        },
        {
          "output_type": "stream",
          "name": "stdout",
          "text": [
            "\tEarly stopping\n",
            "Hidden layer: 128\n",
            "Activation: 0.3\n",
            "Entropy: 0.3\n",
            "Ridge: 0.5\n",
            "Spline order: 3\n",
            "Test accuracy: 0.7352941176470589\n",
            "Kappa score: 0.4505679736167094\n",
            "Confusion matrix:\n",
            " [[ 60  47]\n",
            " [ 16 115]]\n"
          ]
        },
        {
          "output_type": "stream",
          "name": "stderr",
          "text": [
            "100%|██████████| 100/100 [00:01<00:00, 52.09it/s]\n"
          ]
        },
        {
          "output_type": "stream",
          "name": "stdout",
          "text": [
            "Hidden layer: 128\n",
            "Activation: 0.3\n",
            "Entropy: 0.3\n",
            "Ridge: 0.5\n",
            "Spline order: 5\n",
            "Test accuracy: 0.7058823529411765\n",
            "Kappa score: 0.3964205492355627\n",
            "Confusion matrix:\n",
            " [[ 63  44]\n",
            " [ 26 105]]\n"
          ]
        },
        {
          "output_type": "stream",
          "name": "stderr",
          "text": [
            "100%|██████████| 100/100 [00:02<00:00, 41.97it/s]\n"
          ]
        },
        {
          "output_type": "stream",
          "name": "stdout",
          "text": [
            "Hidden layer: 128\n",
            "Activation: 0.3\n",
            "Entropy: 0.3\n",
            "Ridge: 0.7\n",
            "Spline order: 3\n",
            "Test accuracy: 0.7436974789915967\n",
            "Kappa score: 0.47172694854814057\n",
            "Confusion matrix:\n",
            " [[ 65  42]\n",
            " [ 19 112]]\n"
          ]
        },
        {
          "output_type": "stream",
          "name": "stderr",
          "text": [
            "100%|██████████| 100/100 [00:02<00:00, 34.61it/s]\n"
          ]
        },
        {
          "output_type": "stream",
          "name": "stdout",
          "text": [
            "Hidden layer: 128\n",
            "Activation: 0.3\n",
            "Entropy: 0.3\n",
            "Ridge: 0.7\n",
            "Spline order: 5\n",
            "Test accuracy: 0.6932773109243697\n",
            "Kappa score: 0.3655882567735339\n",
            "Confusion matrix:\n",
            " [[ 57  50]\n",
            " [ 23 108]]\n"
          ]
        },
        {
          "output_type": "stream",
          "name": "stderr",
          "text": [
            " 73%|███████▎  | 73/100 [00:01<00:00, 45.14it/s]\n"
          ]
        },
        {
          "output_type": "stream",
          "name": "stdout",
          "text": [
            "\tEarly stopping\n",
            "Hidden layer: 128\n",
            "Activation: 0.3\n",
            "Entropy: 0.5\n",
            "Ridge: 0.1\n",
            "Spline order: 3\n",
            "Test accuracy: 0.7184873949579832\n",
            "Kappa score: 0.414653843330152\n",
            "Confusion matrix:\n",
            " [[ 57  50]\n",
            " [ 17 114]]\n"
          ]
        },
        {
          "output_type": "stream",
          "name": "stderr",
          "text": [
            "100%|██████████| 100/100 [00:04<00:00, 23.41it/s]\n"
          ]
        },
        {
          "output_type": "stream",
          "name": "stdout",
          "text": [
            "Hidden layer: 128\n",
            "Activation: 0.3\n",
            "Entropy: 0.5\n",
            "Ridge: 0.1\n",
            "Spline order: 5\n",
            "Test accuracy: 0.7941176470588235\n",
            "Kappa score: 0.5749070496464241\n",
            "Confusion matrix:\n",
            " [[ 70  37]\n",
            " [ 12 119]]\n"
          ]
        },
        {
          "output_type": "stream",
          "name": "stderr",
          "text": [
            "100%|██████████| 100/100 [00:02<00:00, 42.81it/s]\n"
          ]
        },
        {
          "output_type": "stream",
          "name": "stdout",
          "text": [
            "Hidden layer: 128\n",
            "Activation: 0.3\n",
            "Entropy: 0.5\n",
            "Ridge: 0.3\n",
            "Spline order: 3\n",
            "Test accuracy: 0.6638655462184874\n",
            "Kappa score: 0.32082471284868375\n",
            "Confusion matrix:\n",
            " [[67 40]\n",
            " [40 91]]\n"
          ]
        },
        {
          "output_type": "stream",
          "name": "stderr",
          "text": [
            "100%|██████████| 100/100 [00:02<00:00, 36.91it/s]\n"
          ]
        },
        {
          "output_type": "stream",
          "name": "stdout",
          "text": [
            "Hidden layer: 128\n",
            "Activation: 0.3\n",
            "Entropy: 0.5\n",
            "Ridge: 0.3\n",
            "Spline order: 5\n",
            "Test accuracy: 0.7521008403361344\n",
            "Kappa score: 0.47996444707799424\n",
            "Confusion matrix:\n",
            " [[ 56  51]\n",
            " [  8 123]]\n"
          ]
        },
        {
          "output_type": "stream",
          "name": "stderr",
          "text": [
            "100%|██████████| 100/100 [00:03<00:00, 31.98it/s]\n"
          ]
        },
        {
          "output_type": "stream",
          "name": "stdout",
          "text": [
            "Hidden layer: 128\n",
            "Activation: 0.3\n",
            "Entropy: 0.5\n",
            "Ridge: 0.5\n",
            "Spline order: 3\n",
            "Test accuracy: 0.7142857142857143\n",
            "Kappa score: 0.4314620951310335\n",
            "Confusion matrix:\n",
            " [[82 25]\n",
            " [43 88]]\n"
          ]
        },
        {
          "output_type": "stream",
          "name": "stderr",
          "text": [
            "100%|██████████| 100/100 [00:02<00:00, 35.46it/s]\n"
          ]
        },
        {
          "output_type": "stream",
          "name": "stdout",
          "text": [
            "Hidden layer: 128\n",
            "Activation: 0.3\n",
            "Entropy: 0.5\n",
            "Ridge: 0.5\n",
            "Spline order: 5\n",
            "Test accuracy: 0.6260504201680672\n",
            "Kappa score: 0.24116930572472595\n",
            "Confusion matrix:\n",
            " [[60 47]\n",
            " [42 89]]\n"
          ]
        },
        {
          "output_type": "stream",
          "name": "stderr",
          "text": [
            "100%|██████████| 100/100 [00:02<00:00, 43.25it/s]\n"
          ]
        },
        {
          "output_type": "stream",
          "name": "stdout",
          "text": [
            "Hidden layer: 128\n",
            "Activation: 0.3\n",
            "Entropy: 0.5\n",
            "Ridge: 0.7\n",
            "Spline order: 3\n",
            "Test accuracy: 0.7436974789915967\n",
            "Kappa score: 0.4781077000503271\n",
            "Confusion matrix:\n",
            " [[ 72  35]\n",
            " [ 26 105]]\n"
          ]
        },
        {
          "output_type": "stream",
          "name": "stderr",
          "text": [
            " 64%|██████▍   | 64/100 [00:01<00:00, 50.94it/s]\n"
          ]
        },
        {
          "output_type": "stream",
          "name": "stdout",
          "text": [
            "\tEarly stopping\n",
            "Hidden layer: 128\n",
            "Activation: 0.3\n",
            "Entropy: 0.5\n",
            "Ridge: 0.7\n",
            "Spline order: 5\n",
            "Test accuracy: 0.7310924369747899\n",
            "Kappa score: 0.4403703431552648\n",
            "Confusion matrix:\n",
            " [[ 58  49]\n",
            " [ 15 116]]\n"
          ]
        },
        {
          "output_type": "stream",
          "name": "stderr",
          "text": [
            "100%|██████████| 100/100 [00:02<00:00, 34.75it/s]\n"
          ]
        },
        {
          "output_type": "stream",
          "name": "stdout",
          "text": [
            "Hidden layer: 128\n",
            "Activation: 0.5\n",
            "Entropy: 0.1\n",
            "Ridge: 0.1\n",
            "Spline order: 3\n",
            "Test accuracy: 0.7436974789915967\n",
            "Kappa score: 0.4744805617896185\n",
            "Confusion matrix:\n",
            " [[ 68  39]\n",
            " [ 22 109]]\n"
          ]
        },
        {
          "output_type": "stream",
          "name": "stderr",
          "text": [
            "100%|██████████| 100/100 [00:02<00:00, 40.35it/s]\n"
          ]
        },
        {
          "output_type": "stream",
          "name": "stdout",
          "text": [
            "Hidden layer: 128\n",
            "Activation: 0.5\n",
            "Entropy: 0.1\n",
            "Ridge: 0.1\n",
            "Spline order: 5\n",
            "Test accuracy: 0.7815126050420168\n",
            "Kappa score: 0.5562567228397275\n",
            "Confusion matrix:\n",
            " [[ 78  29]\n",
            " [ 23 108]]\n"
          ]
        },
        {
          "output_type": "stream",
          "name": "stderr",
          "text": [
            " 56%|█████▌    | 56/100 [00:03<00:02, 15.11it/s]\n"
          ]
        },
        {
          "output_type": "stream",
          "name": "stdout",
          "text": [
            "\tEarly stopping\n",
            "Hidden layer: 128\n",
            "Activation: 0.5\n",
            "Entropy: 0.1\n",
            "Ridge: 0.3\n",
            "Spline order: 3\n",
            "Test accuracy: 0.7394957983193278\n",
            "Kappa score: 0.4559398274463534\n",
            "Confusion matrix:\n",
            " [[ 57  50]\n",
            " [ 12 119]]\n"
          ]
        },
        {
          "output_type": "stream",
          "name": "stderr",
          "text": [
            "100%|██████████| 100/100 [00:04<00:00, 22.08it/s]\n"
          ]
        },
        {
          "output_type": "stream",
          "name": "stdout",
          "text": [
            "Hidden layer: 128\n",
            "Activation: 0.5\n",
            "Entropy: 0.1\n",
            "Ridge: 0.3\n",
            "Spline order: 5\n",
            "Test accuracy: 0.6218487394957983\n",
            "Kappa score: 0.1945551628186809\n",
            "Confusion matrix:\n",
            " [[ 32  75]\n",
            " [ 15 116]]\n"
          ]
        },
        {
          "output_type": "stream",
          "name": "stderr",
          "text": [
            "100%|██████████| 100/100 [00:02<00:00, 35.06it/s]\n"
          ]
        },
        {
          "output_type": "stream",
          "name": "stdout",
          "text": [
            "Hidden layer: 128\n",
            "Activation: 0.5\n",
            "Entropy: 0.1\n",
            "Ridge: 0.5\n",
            "Spline order: 3\n",
            "Test accuracy: 0.5714285714285714\n",
            "Kappa score: 0.1695970445371826\n",
            "Confusion matrix:\n",
            " [[81 26]\n",
            " [76 55]]\n"
          ]
        },
        {
          "output_type": "stream",
          "name": "stderr",
          "text": [
            "100%|██████████| 100/100 [00:02<00:00, 37.52it/s]\n"
          ]
        },
        {
          "output_type": "stream",
          "name": "stdout",
          "text": [
            "Hidden layer: 128\n",
            "Activation: 0.5\n",
            "Entropy: 0.1\n",
            "Ridge: 0.5\n",
            "Spline order: 5\n",
            "Test accuracy: 0.7857142857142857\n",
            "Kappa score: 0.5544380001468321\n",
            "Confusion matrix:\n",
            " [[ 65  42]\n",
            " [  9 122]]\n"
          ]
        },
        {
          "output_type": "stream",
          "name": "stderr",
          "text": [
            "100%|██████████| 100/100 [00:04<00:00, 20.82it/s]\n"
          ]
        },
        {
          "output_type": "stream",
          "name": "stdout",
          "text": [
            "Hidden layer: 128\n",
            "Activation: 0.5\n",
            "Entropy: 0.1\n",
            "Ridge: 0.7\n",
            "Spline order: 3\n",
            "Test accuracy: 0.7016806722689075\n",
            "Kappa score: 0.39359793296490353\n",
            "Confusion matrix:\n",
            " [[68 39]\n",
            " [32 99]]\n"
          ]
        },
        {
          "output_type": "stream",
          "name": "stderr",
          "text": [
            " 56%|█████▌    | 56/100 [00:01<00:01, 28.16it/s]\n"
          ]
        },
        {
          "output_type": "stream",
          "name": "stdout",
          "text": [
            "\tEarly stopping\n",
            "Hidden layer: 128\n",
            "Activation: 0.5\n",
            "Entropy: 0.1\n",
            "Ridge: 0.7\n",
            "Spline order: 5\n",
            "Test accuracy: 0.7605042016806722\n",
            "Kappa score: 0.5165015325397391\n",
            "Confusion matrix:\n",
            " [[ 79  28]\n",
            " [ 29 102]]\n"
          ]
        },
        {
          "output_type": "stream",
          "name": "stderr",
          "text": [
            "100%|██████████| 100/100 [00:01<00:00, 51.72it/s]\n"
          ]
        },
        {
          "output_type": "stream",
          "name": "stdout",
          "text": [
            "Hidden layer: 128\n",
            "Activation: 0.5\n",
            "Entropy: 0.3\n",
            "Ridge: 0.1\n",
            "Spline order: 3\n",
            "Test accuracy: 0.7521008403361344\n",
            "Kappa score: 0.48363609619769066\n",
            "Confusion matrix:\n",
            " [[ 60  47]\n",
            " [ 12 119]]\n"
          ]
        },
        {
          "output_type": "stream",
          "name": "stderr",
          "text": [
            "100%|██████████| 100/100 [00:02<00:00, 39.29it/s]\n"
          ]
        },
        {
          "output_type": "stream",
          "name": "stdout",
          "text": [
            "Hidden layer: 128\n",
            "Activation: 0.5\n",
            "Entropy: 0.3\n",
            "Ridge: 0.1\n",
            "Spline order: 5\n",
            "Test accuracy: 0.7899159663865546\n",
            "Kappa score: 0.5711093490953651\n",
            "Confusion matrix:\n",
            " [[ 76  31]\n",
            " [ 19 112]]\n"
          ]
        },
        {
          "output_type": "stream",
          "name": "stderr",
          "text": [
            "100%|██████████| 100/100 [00:02<00:00, 47.23it/s]\n"
          ]
        },
        {
          "output_type": "stream",
          "name": "stdout",
          "text": [
            "Hidden layer: 128\n",
            "Activation: 0.5\n",
            "Entropy: 0.3\n",
            "Ridge: 0.3\n",
            "Spline order: 3\n",
            "Test accuracy: 0.6134453781512605\n",
            "Kappa score: 0.1969485806498935\n",
            "Confusion matrix:\n",
            " [[ 45  62]\n",
            " [ 30 101]]\n"
          ]
        },
        {
          "output_type": "stream",
          "name": "stderr",
          "text": [
            "100%|██████████| 100/100 [00:01<00:00, 51.25it/s]\n"
          ]
        },
        {
          "output_type": "stream",
          "name": "stdout",
          "text": [
            "Hidden layer: 128\n",
            "Activation: 0.5\n",
            "Entropy: 0.3\n",
            "Ridge: 0.3\n",
            "Spline order: 5\n",
            "Test accuracy: 0.7100840336134454\n",
            "Kappa score: 0.39718082372806696\n",
            "Confusion matrix:\n",
            " [[ 56  51]\n",
            " [ 18 113]]\n"
          ]
        },
        {
          "output_type": "stream",
          "name": "stderr",
          "text": [
            " 57%|█████▋    | 57/100 [00:01<00:01, 35.22it/s]\n"
          ]
        },
        {
          "output_type": "stream",
          "name": "stdout",
          "text": [
            "\tEarly stopping\n",
            "Hidden layer: 128\n",
            "Activation: 0.5\n",
            "Entropy: 0.3\n",
            "Ridge: 0.5\n",
            "Spline order: 3\n",
            "Test accuracy: 0.8151260504201681\n",
            "Kappa score: 0.6206072023766394\n",
            "Confusion matrix:\n",
            " [[ 76  31]\n",
            " [ 13 118]]\n"
          ]
        },
        {
          "output_type": "stream",
          "name": "stderr",
          "text": [
            "100%|██████████| 100/100 [00:02<00:00, 36.87it/s]\n"
          ]
        },
        {
          "output_type": "stream",
          "name": "stdout",
          "text": [
            "Hidden layer: 128\n",
            "Activation: 0.5\n",
            "Entropy: 0.3\n",
            "Ridge: 0.5\n",
            "Spline order: 5\n",
            "Test accuracy: 0.680672268907563\n",
            "Kappa score: 0.335439782496877\n",
            "Confusion matrix:\n",
            " [[ 52  55]\n",
            " [ 21 110]]\n"
          ]
        },
        {
          "output_type": "stream",
          "name": "stderr",
          "text": [
            "100%|██████████| 100/100 [00:01<00:00, 52.34it/s]\n"
          ]
        },
        {
          "output_type": "stream",
          "name": "stdout",
          "text": [
            "Hidden layer: 128\n",
            "Activation: 0.5\n",
            "Entropy: 0.3\n",
            "Ridge: 0.7\n",
            "Spline order: 3\n",
            "Test accuracy: 0.7478991596638656\n",
            "Kappa score: 0.480840543881335\n",
            "Confusion matrix:\n",
            " [[ 66  41]\n",
            " [ 19 112]]\n"
          ]
        },
        {
          "output_type": "stream",
          "name": "stderr",
          "text": [
            "100%|██████████| 100/100 [00:01<00:00, 52.46it/s]\n"
          ]
        },
        {
          "output_type": "stream",
          "name": "stdout",
          "text": [
            "Hidden layer: 128\n",
            "Activation: 0.5\n",
            "Entropy: 0.3\n",
            "Ridge: 0.7\n",
            "Spline order: 5\n",
            "Test accuracy: 0.7016806722689075\n",
            "Kappa score: 0.3697127937336815\n",
            "Confusion matrix:\n",
            " [[ 46  61]\n",
            " [ 10 121]]\n"
          ]
        },
        {
          "output_type": "stream",
          "name": "stderr",
          "text": [
            " 54%|█████▍    | 54/100 [00:01<00:00, 50.87it/s]\n"
          ]
        },
        {
          "output_type": "stream",
          "name": "stdout",
          "text": [
            "\tEarly stopping\n",
            "Hidden layer: 128\n",
            "Activation: 0.5\n",
            "Entropy: 0.5\n",
            "Ridge: 0.1\n",
            "Spline order: 3\n",
            "Test accuracy: 0.7184873949579832\n",
            "Kappa score: 0.41773168772365443\n",
            "Confusion matrix:\n",
            " [[ 60  47]\n",
            " [ 20 111]]\n"
          ]
        },
        {
          "output_type": "stream",
          "name": "stderr",
          "text": [
            " 68%|██████▊   | 68/100 [00:01<00:00, 51.48it/s]\n"
          ]
        },
        {
          "output_type": "stream",
          "name": "stdout",
          "text": [
            "\tEarly stopping\n",
            "Hidden layer: 128\n",
            "Activation: 0.5\n",
            "Entropy: 0.5\n",
            "Ridge: 0.1\n",
            "Spline order: 5\n",
            "Test accuracy: 0.7100840336134454\n",
            "Kappa score: 0.40864241987756567\n",
            "Confusion matrix:\n",
            " [[ 67  40]\n",
            " [ 29 102]]\n"
          ]
        },
        {
          "output_type": "stream",
          "name": "stderr",
          "text": [
            " 59%|█████▉    | 59/100 [00:01<00:00, 50.50it/s]\n"
          ]
        },
        {
          "output_type": "stream",
          "name": "stdout",
          "text": [
            "\tEarly stopping\n",
            "Hidden layer: 128\n",
            "Activation: 0.5\n",
            "Entropy: 0.5\n",
            "Ridge: 0.3\n",
            "Spline order: 3\n",
            "Test accuracy: 0.7310924369747899\n",
            "Kappa score: 0.4452618544686431\n",
            "Confusion matrix:\n",
            " [[ 63  44]\n",
            " [ 20 111]]\n"
          ]
        },
        {
          "output_type": "stream",
          "name": "stderr",
          "text": [
            " 55%|█████▌    | 55/100 [00:01<00:00, 50.92it/s]\n"
          ]
        },
        {
          "output_type": "stream",
          "name": "stdout",
          "text": [
            "\tEarly stopping\n",
            "Hidden layer: 128\n",
            "Activation: 0.5\n",
            "Entropy: 0.5\n",
            "Ridge: 0.3\n",
            "Spline order: 5\n",
            "Test accuracy: 0.7521008403361344\n",
            "Kappa score: 0.48904737646459495\n",
            "Confusion matrix:\n",
            " [[ 66  41]\n",
            " [ 18 113]]\n"
          ]
        },
        {
          "output_type": "stream",
          "name": "stderr",
          "text": [
            "100%|██████████| 100/100 [00:02<00:00, 35.85it/s]\n"
          ]
        },
        {
          "output_type": "stream",
          "name": "stdout",
          "text": [
            "Hidden layer: 128\n",
            "Activation: 0.5\n",
            "Entropy: 0.5\n",
            "Ridge: 0.5\n",
            "Spline order: 3\n",
            "Test accuracy: 0.7521008403361344\n",
            "Kappa score: 0.48904737646459495\n",
            "Confusion matrix:\n",
            " [[ 66  41]\n",
            " [ 18 113]]\n"
          ]
        },
        {
          "output_type": "stream",
          "name": "stderr",
          "text": [
            "100%|██████████| 100/100 [00:02<00:00, 42.22it/s]\n"
          ]
        },
        {
          "output_type": "stream",
          "name": "stdout",
          "text": [
            "Hidden layer: 128\n",
            "Activation: 0.5\n",
            "Entropy: 0.5\n",
            "Ridge: 0.5\n",
            "Spline order: 5\n",
            "Test accuracy: 0.7899159663865546\n",
            "Kappa score: 0.5635590112227682\n",
            "Confusion matrix:\n",
            " [[ 66  41]\n",
            " [  9 122]]\n"
          ]
        },
        {
          "output_type": "stream",
          "name": "stderr",
          "text": [
            " 56%|█████▌    | 56/100 [00:01<00:00, 51.09it/s]\n"
          ]
        },
        {
          "output_type": "stream",
          "name": "stdout",
          "text": [
            "\tEarly stopping\n",
            "Hidden layer: 128\n",
            "Activation: 0.5\n",
            "Entropy: 0.5\n",
            "Ridge: 0.7\n",
            "Spline order: 3\n",
            "Test accuracy: 0.7478991596638656\n",
            "Kappa score: 0.4897448724362181\n",
            "Confusion matrix:\n",
            " [[ 76  31]\n",
            " [ 29 102]]\n"
          ]
        },
        {
          "output_type": "stream",
          "name": "stderr",
          "text": [
            " 56%|█████▌    | 56/100 [00:01<00:00, 50.65it/s]"
          ]
        },
        {
          "output_type": "stream",
          "name": "stdout",
          "text": [
            "\tEarly stopping\n",
            "Hidden layer: 128\n",
            "Activation: 0.5\n",
            "Entropy: 0.5\n",
            "Ridge: 0.7\n",
            "Spline order: 5\n",
            "Test accuracy: 0.5210084033613446\n",
            "Kappa score: 0.020434688425157166\n",
            "Confusion matrix:\n",
            " [[43 64]\n",
            " [50 81]]\n"
          ]
        },
        {
          "output_type": "stream",
          "name": "stderr",
          "text": [
            "\n"
          ]
        }
      ]
    },
    {
      "cell_type": "markdown",
      "source": [
        "Hidden layer: 64\n",
        "Activation: 0.1\n",
        "Entropy: 0.1\n",
        "Ridge: 0.3\n",
        "Spline order: 5\n",
        "Test accuracy: 0.8403361344537815"
      ],
      "metadata": {
        "id": "g5OBN9tLMZHB"
      }
    },
    {
      "cell_type": "code",
      "source": [
        "kan_model = KANClassifier(device='cuda', hidden_layer=64, activation=.1,\n",
        "                          entropy=.5, ridge=.3, spline_order=5)\n",
        "\n",
        "kan_model.fit(X_train, y_train, batch_size=64, lr=.07, weight_decay=.01)\n",
        "y_pred = kan_model.predict(X_test)\n",
        "\n",
        "print(\"Hidden layer:\", hidden_layer)\n",
        "print(\"Activation:\", activation)\n",
        "print(\"Entropy:\", entropy)\n",
        "print(\"Ridge:\", ridge)\n",
        "print(\"Spline order:\", spline)\n",
        "print(\"Test accuracy:\", accuracy_score(y_test, y_pred))\n",
        "print(\"Kappa score:\", cohen_kappa_score(y_test, y_pred))\n",
        "print(\"Confusion matrix:\\n\", confusion_matrix(y_test, y_pred))"
      ],
      "metadata": {
        "id": "iyFtXnL_K4GO",
        "outputId": "94c5db3c-9ca6-4fc2-dcd2-4c2ebe002eb0",
        "colab": {
          "base_uri": "https://localhost:8080/"
        }
      },
      "execution_count": 28,
      "outputs": [
        {
          "output_type": "stream",
          "name": "stderr",
          "text": [
            "  3%|▎         | 3/100 [00:00<00:09, 10.27it/s]"
          ]
        },
        {
          "output_type": "stream",
          "name": "stdout",
          "text": [
            "\tEarly stopping\n",
            "Hidden layer: 128\n",
            "Activation: 0.5\n",
            "Entropy: 0.5\n",
            "Ridge: 0.7\n",
            "Spline order: 5\n",
            "Test accuracy: 0.8697478991596639\n",
            "Kappa score: 0.7343176089305006\n",
            "Confusion matrix:\n",
            " [[ 86  21]\n",
            " [ 10 121]]\n"
          ]
        },
        {
          "output_type": "stream",
          "name": "stderr",
          "text": [
            "\n"
          ]
        }
      ]
    },
    {
      "cell_type": "markdown",
      "source": [
        "### Plotting ROC curve"
      ],
      "metadata": {
        "id": "JR9nLmhaMGYy"
      }
    },
    {
      "cell_type": "code",
      "source": [
        "from sklearn.metrics import roc_curve, auc"
      ],
      "metadata": {
        "id": "0Z6CtdQBM4FY"
      },
      "execution_count": 30,
      "outputs": []
    },
    {
      "cell_type": "code",
      "source": [
        "y_prob = kan_model.predict_proba(X_test)[:, 1]\n",
        "\n",
        "fpr, tpr, thresholds = roc_curve(y_test, y_prob)\n",
        "roc_auc = auc(fpr, tpr)\n",
        "\n",
        "plt.figure()\n",
        "plt.plot(fpr, tpr, color='darkorange', lw=2, label=f'ROC curve (area = {roc_auc:.2f})')\n",
        "plt.plot([0, 1], [0, 1], color='navy', lw=2, linestyle='--')\n",
        "plt.xlim([0.0, 1.0])\n",
        "plt.ylim([0.0, 1.05])\n",
        "plt.xlabel('False Positive Rate')\n",
        "plt.ylabel('True Positive Rate')\n",
        "plt.title('Receiver Operating Characteristic (ROC) Curve')\n",
        "plt.legend(loc=\"lower right\")"
      ],
      "metadata": {
        "id": "sn9MaluNMISE",
        "outputId": "e7bc700d-b8dd-4177-a51f-ffe66a731b58",
        "colab": {
          "base_uri": "https://localhost:8080/",
          "height": 490
        }
      },
      "execution_count": 31,
      "outputs": [
        {
          "output_type": "execute_result",
          "data": {
            "text/plain": [
              "<matplotlib.legend.Legend at 0x7a19f154d5a0>"
            ]
          },
          "metadata": {},
          "execution_count": 31
        },
        {
          "output_type": "display_data",
          "data": {
            "text/plain": [
              "<Figure size 640x480 with 1 Axes>"
            ],
            "image/png": "[encoded data removed]"
          },
          "metadata": {}
        }
      ]
    },
    {
      "cell_type": "code",
      "source": [],
      "metadata": {
        "id": "o8hKBHbaMx4l"
      },
      "execution_count": null,
      "outputs": []
    }
  ]
}